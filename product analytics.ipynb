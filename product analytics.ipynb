{
 "cells": [
  {
   "cell_type": "markdown",
   "metadata": {},
   "source": [
    "### Гипотеза\n",
    "Нам нужно понять кто совершает целевые действия. Существует предположение, что чаще всего по несколько раз фильмы/сериалы покупают одни и те же пользователи, то есть небольшой процент пользователей обеспечивает почти все действия, приносящие нам прибыль.\n",
    "\n",
    "### Проверка гипотезы"
   ]
  },
  {
   "cell_type": "code",
   "execution_count": 8,
   "metadata": {},
   "outputs": [],
   "source": [
    "#Импортируем нужные библиотеки и загрузим данные в переменную `data`"
   ]
  },
  {
   "cell_type": "code",
   "execution_count": 1,
   "metadata": {},
   "outputs": [],
   "source": [
    "import json\n",
    "from collections import Counter\n",
    "\n",
    "file_path = 'case6.json'\n",
    "with open(file_path, 'rb') as f:\n",
    "    data = json.load(f)"
   ]
  },
  {
   "cell_type": "code",
   "execution_count": 7,
   "metadata": {},
   "outputs": [],
   "source": [
    "#Сделаем список `users_target`, содержащий для каждого целевого события идентификатор пользователя `user_id`.\n",
    "\n",
    "#Затем из полученного списка сделаем множество уникальных пользователей `set_users_target`\n",
    "#и посчитаем его длину `users_target_count`."
   ]
  },
  {
   "cell_type": "code",
   "execution_count": 2,
   "metadata": {},
   "outputs": [],
   "source": [
    "users_target = [event['user_id'] for event in data if event['event_type'] == 'target_event']\n",
    "set_users_target = set(users_target)\n",
    "users_target_count = len(set_users_target)"
   ]
  },
  {
   "cell_type": "code",
   "execution_count": 6,
   "metadata": {},
   "outputs": [],
   "source": [
    "#Сделаем счетчик `users_target_counter`, где для каждого пользователя будет указано количество совершенных целевых действий "
   ]
  },
  {
   "cell_type": "code",
   "execution_count": 3,
   "metadata": {},
   "outputs": [],
   "source": [
    "users_target_counter = Counter(users_target)"
   ]
  },
  {
   "cell_type": "code",
   "execution_count": 5,
   "metadata": {},
   "outputs": [],
   "source": [
    "#С помощью функции .values() сформируем из счетчика `users_target_counter` список `count_of_target_values_by_users`, \n",
    "#в котором будем количество целевых действий, совершенных каждым пользователем "
   ]
  },
  {
   "cell_type": "code",
   "execution_count": 4,
   "metadata": {},
   "outputs": [],
   "source": [
    "count_of_target_values_by_users = users_target_counter.values()"
   ]
  },
  {
   "cell_type": "code",
   "execution_count": 4,
   "metadata": {},
   "outputs": [],
   "source": [
    "#Из полученного списка `count_of_target_values_by_users` сделаем счетчик `counter_of_events_by_users`,\n",
    "#в котором в качестве ключа будет число целевых действий, а значение - количество пользователей, \n",
    "#совершивших определенное число целевых действий"
   ]
  },
  {
   "cell_type": "code",
   "execution_count": 5,
   "metadata": {},
   "outputs": [],
   "source": [
    "counter_of_events_by_users = Counter(count_of_target_values_by_users)"
   ]
  },
  {
   "cell_type": "code",
   "execution_count": 3,
   "metadata": {},
   "outputs": [],
   "source": [
    "#Подсчитаем общее количество целевых действий `all_target_events_count`"
   ]
  },
  {
   "cell_type": "code",
   "execution_count": 6,
   "metadata": {},
   "outputs": [],
   "source": [
    "all_target_events_count = len(users_target)"
   ]
  },
  {
   "cell_type": "code",
   "execution_count": 2,
   "metadata": {},
   "outputs": [],
   "source": [
    "#Для каждого ключа из словаря `counter_of_events_by_users` нужно вывести следующие параметры:\n",
    "#- Количество пользователей, которые выполненили определенное число целевых действий\n",
    "#- Доля пользователей из общего числа совершивших целевое действия\n",
    "#- Число целевых действий, которые всего выполнили эти пользователи\n",
    "#- Процент целевых действий от общего количества целевых действий"
   ]
  },
  {
   "cell_type": "code",
   "execution_count": 7,
   "metadata": {},
   "outputs": [
    {
     "name": "stdout",
     "output_type": "stream",
     "text": [
      "Количество пользователей, совершающих 1 целевых события: 808\n",
      "Процент пользователей, совершающих 808 целевое событие: 82.45%\n",
      "Эти пользователи совершили 808 целевых действий (52.37%)\n",
      "\n",
      "Количество пользователей, совершающих 4 целевых события: 49\n",
      "Процент пользователей, совершающих 196 целевое событие: 5.00%\n",
      "Эти пользователи совершили 196 целевых действий (12.70%)\n",
      "\n",
      "Количество пользователей, совершающих 3 целевых события: 31\n",
      "Процент пользователей, совершающих 93 целевое событие: 3.16%\n",
      "Эти пользователи совершили 93 целевых действий (6.03%)\n",
      "\n",
      "Количество пользователей, совершающих 8 целевых события: 6\n",
      "Процент пользователей, совершающих 48 целевое событие: 0.61%\n",
      "Эти пользователи совершили 48 целевых действий (3.11%)\n",
      "\n",
      "Количество пользователей, совершающих 9 целевых события: 2\n",
      "Процент пользователей, совершающих 18 целевое событие: 0.20%\n",
      "Эти пользователи совершили 18 целевых действий (1.17%)\n",
      "\n",
      "Количество пользователей, совершающих 5 целевых события: 29\n",
      "Процент пользователей, совершающих 145 целевое событие: 2.96%\n",
      "Эти пользователи совершили 145 целевых действий (9.40%)\n",
      "\n",
      "Количество пользователей, совершающих 2 целевых события: 26\n",
      "Процент пользователей, совершающих 52 целевое событие: 2.65%\n",
      "Эти пользователи совершили 52 целевых действий (3.37%)\n",
      "\n",
      "Количество пользователей, совершающих 6 целевых события: 20\n",
      "Процент пользователей, совершающих 120 целевое событие: 2.04%\n",
      "Эти пользователи совершили 120 целевых действий (7.78%)\n",
      "\n",
      "Количество пользователей, совершающих 7 целевых события: 9\n",
      "Процент пользователей, совершающих 63 целевое событие: 0.92%\n",
      "Эти пользователи совершили 63 целевых действий (4.08%)\n",
      "\n"
     ]
    }
   ],
   "source": [
    "for count in counter_of_events_by_users.keys():\n",
    "    users_count = counter_of_events_by_users[count] # Количество пользователей, которые выполненили определенное число целевых действий\n",
    "    users_count_share = users_count / users_target_count # Доля пользователей из общего числа совершивших целевое действия\n",
    "    events_count = users_count * count # Получаем число целевых действий, которые всего выполнили эти пользователи\n",
    "    events_count_share = events_count / all_target_events_count # Получаем процент целевых действий\n",
    "    print ('Количество пользователей, совершающих {} целевых события: {}'.format(count,users_count)) \n",
    "    print ('Процент пользователей, совершающих {} целевое событие: {:.2%}'.format(events_count,users_count_share))\n",
    "    print ('Эти пользователи совершили {} целевых действий ({:.2%})'.format(events_count,events_count_share))\n",
    "    print ()"
   ]
  },
  {
   "cell_type": "code",
   "execution_count": 1,
   "metadata": {},
   "outputs": [],
   "source": [
    "#Подсчитаем какое количество пользователей совершают более чем 1 целевое действие, \n",
    "#сколько целевых событий они совершают и какой процент таких пользователей"
   ]
  },
  {
   "cell_type": "code",
   "execution_count": 8,
   "metadata": {},
   "outputs": [
    {
     "name": "stdout",
     "output_type": "stream",
     "text": [
      "Процент целевых событий, совершенных пользователями с 1 целевым событием: 52.37%\n",
      "Процент таких пользователей: 82.45%\n",
      "\n",
      "Процент целевых событий, совершенных пользователями более чем с 1 целевым событием: 47.63%\n",
      "Процент таких пользователей: 17.55%\n"
     ]
    }
   ],
   "source": [
    "one_target_event = counter_of_events_by_users[1]\n",
    "users_with_more_than_one_target = users_target_count-one_target_event\n",
    "more_than_one_target_event = all_target_events_count-one_target_event\n",
    "print ('Процент целевых событий, совершенных пользователями с 1 целевым событием: {:.2%}'.format(one_target_event/all_target_events_count))\n",
    "print ('Процент таких пользователей: {:.2%}'.format(one_target_event/users_target_count))\n",
    "print ('')\n",
    "print ('Процент целевых событий, совершенных пользователями более чем с 1 целевым событием: {:.2%}'.format(more_than_one_target_event/all_target_events_count))\n",
    "print ('Процент таких пользователей: {:.2%}'.format(users_with_more_than_one_target/users_target_count))"
   ]
  },
  {
   "cell_type": "markdown",
   "metadata": {},
   "source": [
    "### Вывод\n",
    "\n",
    "Таким образом, мы выяснили, что 17,55% пользователей совершают более чем одного целевого действия, в сумме они выполняют почти половину всех целевых действий (47,63%). В то время как оставшаяся часть пользователей (82,45%) совершает лишь по одному целевому действию. Это позволяет говорить о том, что существенная часть пользователей склонна совершать повторные покупки фильмов/сериалов. Особенно примечательно, что 5% пользователей совершают 4 целевых действия.\n",
    "\n",
    "\n"
   ]
  }
 ],
 "metadata": {
  "kernelspec": {
   "display_name": "Python 3",
   "language": "python",
   "name": "python3"
  },
  "language_info": {
   "codemirror_mode": {
    "name": "ipython",
    "version": 3
   },
   "file_extension": ".py",
   "mimetype": "text/x-python",
   "name": "python",
   "nbconvert_exporter": "python",
   "pygments_lexer": "ipython3",
   "version": "3.7.7"
  }
 },
 "nbformat": 4,
 "nbformat_minor": 2
}

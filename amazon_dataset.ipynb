{
 "cells": [
  {
   "cell_type": "code",
   "execution_count": 24,
   "metadata": {},
   "outputs": [],
   "source": [
    "import pandas as pd \n",
    "import numpy as np \n",
    "import matplotlib.pyplot as plt\n",
    "import seaborn as sns\n",
    "from sklearn import preprocessing\n",
    "from sklearn.feature_extraction.text import TfidfVectorizer,CountVectorizer\n",
    "import plotly.express as px\n",
    "import plotly.graph_objs as go"
   ]
  },
  {
   "cell_type": "code",
   "execution_count": 25,
   "metadata": {},
   "outputs": [
    {
     "data": {
      "text/html": [
       "<div>\n",
       "<style scoped>\n",
       "    .dataframe tbody tr th:only-of-type {\n",
       "        vertical-align: middle;\n",
       "    }\n",
       "\n",
       "    .dataframe tbody tr th {\n",
       "        vertical-align: top;\n",
       "    }\n",
       "\n",
       "    .dataframe thead th {\n",
       "        text-align: right;\n",
       "    }\n",
       "</style>\n",
       "<table border=\"1\" class=\"dataframe\">\n",
       "  <thead>\n",
       "    <tr style=\"text-align: right;\">\n",
       "      <th></th>\n",
       "      <th>Name</th>\n",
       "      <th>Author</th>\n",
       "      <th>User Rating</th>\n",
       "      <th>Reviews</th>\n",
       "      <th>Price</th>\n",
       "      <th>Year</th>\n",
       "      <th>Genre</th>\n",
       "    </tr>\n",
       "  </thead>\n",
       "  <tbody>\n",
       "    <tr>\n",
       "      <th>0</th>\n",
       "      <td>10-Day Green Smoothie Cleanse</td>\n",
       "      <td>JJ Smith</td>\n",
       "      <td>4.7</td>\n",
       "      <td>17350</td>\n",
       "      <td>8</td>\n",
       "      <td>2016</td>\n",
       "      <td>Non Fiction</td>\n",
       "    </tr>\n",
       "    <tr>\n",
       "      <th>1</th>\n",
       "      <td>11/22/63: A Novel</td>\n",
       "      <td>Stephen King</td>\n",
       "      <td>4.6</td>\n",
       "      <td>2052</td>\n",
       "      <td>22</td>\n",
       "      <td>2011</td>\n",
       "      <td>Fiction</td>\n",
       "    </tr>\n",
       "    <tr>\n",
       "      <th>2</th>\n",
       "      <td>12 Rules for Life: An Antidote to Chaos</td>\n",
       "      <td>Jordan B. Peterson</td>\n",
       "      <td>4.7</td>\n",
       "      <td>18979</td>\n",
       "      <td>15</td>\n",
       "      <td>2018</td>\n",
       "      <td>Non Fiction</td>\n",
       "    </tr>\n",
       "    <tr>\n",
       "      <th>3</th>\n",
       "      <td>1984 (Signet Classics)</td>\n",
       "      <td>George Orwell</td>\n",
       "      <td>4.7</td>\n",
       "      <td>21424</td>\n",
       "      <td>6</td>\n",
       "      <td>2017</td>\n",
       "      <td>Fiction</td>\n",
       "    </tr>\n",
       "    <tr>\n",
       "      <th>4</th>\n",
       "      <td>5,000 Awesome Facts (About Everything!) (Natio...</td>\n",
       "      <td>National Geographic Kids</td>\n",
       "      <td>4.8</td>\n",
       "      <td>7665</td>\n",
       "      <td>12</td>\n",
       "      <td>2019</td>\n",
       "      <td>Non Fiction</td>\n",
       "    </tr>\n",
       "  </tbody>\n",
       "</table>\n",
       "</div>"
      ],
      "text/plain": [
       "                                                Name  \\\n",
       "0                      10-Day Green Smoothie Cleanse   \n",
       "1                                  11/22/63: A Novel   \n",
       "2            12 Rules for Life: An Antidote to Chaos   \n",
       "3                             1984 (Signet Classics)   \n",
       "4  5,000 Awesome Facts (About Everything!) (Natio...   \n",
       "\n",
       "                     Author  User Rating  Reviews  Price  Year        Genre  \n",
       "0                  JJ Smith          4.7    17350      8  2016  Non Fiction  \n",
       "1              Stephen King          4.6     2052     22  2011      Fiction  \n",
       "2        Jordan B. Peterson          4.7    18979     15  2018  Non Fiction  \n",
       "3             George Orwell          4.7    21424      6  2017      Fiction  \n",
       "4  National Geographic Kids          4.8     7665     12  2019  Non Fiction  "
      ]
     },
     "execution_count": 25,
     "metadata": {},
     "output_type": "execute_result"
    }
   ],
   "source": [
    "df = pd.read_csv('bestsellers with categories.csv')\n",
    "\n",
    "bestsellers_df = df.copy()\n",
    "bestsellers_df.head(5)"
   ]
  },
  {
   "cell_type": "code",
   "execution_count": 26,
   "metadata": {},
   "outputs": [
    {
     "name": "stdout",
     "output_type": "stream",
     "text": [
      "<class 'pandas.core.frame.DataFrame'>\n",
      "RangeIndex: 550 entries, 0 to 549\n",
      "Data columns (total 7 columns):\n",
      " #   Column       Non-Null Count  Dtype  \n",
      "---  ------       --------------  -----  \n",
      " 0   Name         550 non-null    object \n",
      " 1   Author       550 non-null    object \n",
      " 2   User Rating  550 non-null    float64\n",
      " 3   Reviews      550 non-null    int64  \n",
      " 4   Price        550 non-null    int64  \n",
      " 5   Year         550 non-null    int64  \n",
      " 6   Genre        550 non-null    object \n",
      "dtypes: float64(1), int64(3), object(3)\n",
      "memory usage: 30.2+ KB\n"
     ]
    },
    {
     "data": {
      "text/plain": [
       "(550, 7)"
      ]
     },
     "execution_count": 26,
     "metadata": {},
     "output_type": "execute_result"
    }
   ],
   "source": [
    "bestsellers_df.info()\n",
    "bestsellers_df.shape"
   ]
  },
  {
   "cell_type": "code",
   "execution_count": 27,
   "metadata": {},
   "outputs": [
    {
     "data": {
      "text/plain": [
       "Name           0\n",
       "Author         0\n",
       "User Rating    0\n",
       "Reviews        0\n",
       "Price          0\n",
       "Year           0\n",
       "Genre          0\n",
       "dtype: int64"
      ]
     },
     "execution_count": 27,
     "metadata": {},
     "output_type": "execute_result"
    }
   ],
   "source": [
    "bestsellers_df.isnull().sum()"
   ]
  },
  {
   "cell_type": "code",
   "execution_count": 28,
   "metadata": {},
   "outputs": [
    {
     "data": {
      "text/html": [
       "<div>\n",
       "<style scoped>\n",
       "    .dataframe tbody tr th:only-of-type {\n",
       "        vertical-align: middle;\n",
       "    }\n",
       "\n",
       "    .dataframe tbody tr th {\n",
       "        vertical-align: top;\n",
       "    }\n",
       "\n",
       "    .dataframe thead th {\n",
       "        text-align: right;\n",
       "    }\n",
       "</style>\n",
       "<table border=\"1\" class=\"dataframe\">\n",
       "  <thead>\n",
       "    <tr style=\"text-align: right;\">\n",
       "      <th></th>\n",
       "      <th>User Rating</th>\n",
       "      <th>Reviews</th>\n",
       "      <th>Price</th>\n",
       "      <th>Year</th>\n",
       "    </tr>\n",
       "  </thead>\n",
       "  <tbody>\n",
       "    <tr>\n",
       "      <th>count</th>\n",
       "      <td>550.000000</td>\n",
       "      <td>550.000000</td>\n",
       "      <td>550.000000</td>\n",
       "      <td>550.000000</td>\n",
       "    </tr>\n",
       "    <tr>\n",
       "      <th>mean</th>\n",
       "      <td>4.618364</td>\n",
       "      <td>11953.281818</td>\n",
       "      <td>13.100000</td>\n",
       "      <td>2014.000000</td>\n",
       "    </tr>\n",
       "    <tr>\n",
       "      <th>std</th>\n",
       "      <td>0.226980</td>\n",
       "      <td>11731.132017</td>\n",
       "      <td>10.842262</td>\n",
       "      <td>3.165156</td>\n",
       "    </tr>\n",
       "    <tr>\n",
       "      <th>min</th>\n",
       "      <td>3.300000</td>\n",
       "      <td>37.000000</td>\n",
       "      <td>0.000000</td>\n",
       "      <td>2009.000000</td>\n",
       "    </tr>\n",
       "    <tr>\n",
       "      <th>25%</th>\n",
       "      <td>4.500000</td>\n",
       "      <td>4058.000000</td>\n",
       "      <td>7.000000</td>\n",
       "      <td>2011.000000</td>\n",
       "    </tr>\n",
       "    <tr>\n",
       "      <th>50%</th>\n",
       "      <td>4.700000</td>\n",
       "      <td>8580.000000</td>\n",
       "      <td>11.000000</td>\n",
       "      <td>2014.000000</td>\n",
       "    </tr>\n",
       "    <tr>\n",
       "      <th>75%</th>\n",
       "      <td>4.800000</td>\n",
       "      <td>17253.250000</td>\n",
       "      <td>16.000000</td>\n",
       "      <td>2017.000000</td>\n",
       "    </tr>\n",
       "    <tr>\n",
       "      <th>max</th>\n",
       "      <td>4.900000</td>\n",
       "      <td>87841.000000</td>\n",
       "      <td>105.000000</td>\n",
       "      <td>2019.000000</td>\n",
       "    </tr>\n",
       "  </tbody>\n",
       "</table>\n",
       "</div>"
      ],
      "text/plain": [
       "       User Rating       Reviews       Price         Year\n",
       "count   550.000000    550.000000  550.000000   550.000000\n",
       "mean      4.618364  11953.281818   13.100000  2014.000000\n",
       "std       0.226980  11731.132017   10.842262     3.165156\n",
       "min       3.300000     37.000000    0.000000  2009.000000\n",
       "25%       4.500000   4058.000000    7.000000  2011.000000\n",
       "50%       4.700000   8580.000000   11.000000  2014.000000\n",
       "75%       4.800000  17253.250000   16.000000  2017.000000\n",
       "max       4.900000  87841.000000  105.000000  2019.000000"
      ]
     },
     "execution_count": 28,
     "metadata": {},
     "output_type": "execute_result"
    }
   ],
   "source": [
    "bestsellers_df.describe()"
   ]
  },
  {
   "cell_type": "code",
   "execution_count": 29,
   "metadata": {},
   "outputs": [
    {
     "name": "stdout",
     "output_type": "stream",
     "text": [
      "248 авторов \n",
      "351 книга \n"
     ]
    }
   ],
   "source": [
    "print('{} авторов '.format(len(bestsellers_df['Author'].unique())))\n",
    "print('{} книга '.format(len(bestsellers_df['Name'].unique())))"
   ]
  },
  {
   "cell_type": "code",
   "execution_count": 30,
   "metadata": {},
   "outputs": [
    {
     "data": {
      "text/plain": [
       "Jeff Kinney                           12\n",
       "Rick Riordan                          11\n",
       "Gary Chapman                          11\n",
       "Suzanne Collins                       11\n",
       "American Psychological Association    10\n",
       "Name: Author, dtype: int64"
      ]
     },
     "execution_count": 30,
     "metadata": {},
     "output_type": "execute_result"
    }
   ],
   "source": [
    "# лидеры по количеству книг в датасете\n",
    "\n",
    "top_authors = bestsellers_df['Author'].value_counts()\n",
    "top_authors.head(5)"
   ]
  },
  {
   "cell_type": "code",
   "execution_count": 31,
   "metadata": {},
   "outputs": [
    {
     "data": {
      "image/png": "[encoded data removed]",
      "text/plain": [
       "<Figure size 432x288 with 1 Axes>"
      ]
     },
     "metadata": {
      "needs_background": "light"
     },
     "output_type": "display_data"
    }
   ],
   "source": [
    "ax = sns.barplot(y=bestsellers_df['Author'].value_counts()[:10].index,x=bestsellers_df['Author'].value_counts()[:10].values,palette='mako')\n",
    "ax.set_title('Top 10 Authors',fontsize=16)\n",
    "ax.set_xlabel('Number Of Books in Our Dataset',fontsize=14)\n",
    "plt.show()"
   ]
  },
  {
   "cell_type": "code",
   "execution_count": 32,
   "metadata": {},
   "outputs": [
    {
     "data": {
      "text/html": [
       "<div>\n",
       "<style scoped>\n",
       "    .dataframe tbody tr th:only-of-type {\n",
       "        vertical-align: middle;\n",
       "    }\n",
       "\n",
       "    .dataframe tbody tr th {\n",
       "        vertical-align: top;\n",
       "    }\n",
       "\n",
       "    .dataframe thead th {\n",
       "        text-align: right;\n",
       "    }\n",
       "</style>\n",
       "<table border=\"1\" class=\"dataframe\">\n",
       "  <thead>\n",
       "    <tr style=\"text-align: right;\">\n",
       "      <th></th>\n",
       "      <th>User Rating</th>\n",
       "    </tr>\n",
       "    <tr>\n",
       "      <th>Name</th>\n",
       "      <th></th>\n",
       "    </tr>\n",
       "  </thead>\n",
       "  <tbody>\n",
       "    <tr>\n",
       "      <th>The Casual Vacancy</th>\n",
       "      <td>3.3</td>\n",
       "    </tr>\n",
       "    <tr>\n",
       "      <th>Go Set a Watchman: A Novel</th>\n",
       "      <td>3.6</td>\n",
       "    </tr>\n",
       "    <tr>\n",
       "      <th>Fifty Shades of Grey: Book One of the Fifty Shades Trilogy (Fifty Shades of Grey Series)</th>\n",
       "      <td>3.8</td>\n",
       "    </tr>\n",
       "    <tr>\n",
       "      <th>The Goldfinch: A Novel (Pulitzer Prize for Fiction)</th>\n",
       "      <td>3.9</td>\n",
       "    </tr>\n",
       "    <tr>\n",
       "      <th>Allegiant</th>\n",
       "      <td>3.9</td>\n",
       "    </tr>\n",
       "  </tbody>\n",
       "</table>\n",
       "</div>"
      ],
      "text/plain": [
       "                                                    User Rating\n",
       "Name                                                           \n",
       "The Casual Vacancy                                          3.3\n",
       "Go Set a Watchman: A Novel                                  3.6\n",
       "Fifty Shades of Grey: Book One of the Fifty Sha...          3.8\n",
       "The Goldfinch: A Novel (Pulitzer Prize for Fict...          3.9\n",
       "Allegiant                                                   3.9"
      ]
     },
     "execution_count": 32,
     "metadata": {},
     "output_type": "execute_result"
    }
   ],
   "source": [
    "# книги с плохим рейтингом\n",
    "\n",
    "top_rating = bestsellers_df.groupby('Name')[['User Rating']].min()\n",
    "top_rating.sort_values(by='User Rating',inplace=True,ascending=True)\n",
    "top_rating.head(5)"
   ]
  },
  {
   "cell_type": "code",
   "execution_count": 33,
   "metadata": {},
   "outputs": [
    {
     "data": {
      "text/html": [
       "<div>\n",
       "<style scoped>\n",
       "    .dataframe tbody tr th:only-of-type {\n",
       "        vertical-align: middle;\n",
       "    }\n",
       "\n",
       "    .dataframe tbody tr th {\n",
       "        vertical-align: top;\n",
       "    }\n",
       "\n",
       "    .dataframe thead th {\n",
       "        text-align: right;\n",
       "    }\n",
       "</style>\n",
       "<table border=\"1\" class=\"dataframe\">\n",
       "  <thead>\n",
       "    <tr style=\"text-align: right;\">\n",
       "      <th></th>\n",
       "      <th>Name</th>\n",
       "      <th>Author</th>\n",
       "      <th>User Rating</th>\n",
       "      <th>Reviews</th>\n",
       "      <th>Price</th>\n",
       "      <th>Year</th>\n",
       "      <th>Genre</th>\n",
       "    </tr>\n",
       "  </thead>\n",
       "  <tbody>\n",
       "    <tr>\n",
       "      <th>353</th>\n",
       "      <td>The Casual Vacancy</td>\n",
       "      <td>J.K. Rowling</td>\n",
       "      <td>3.3</td>\n",
       "      <td>9372</td>\n",
       "      <td>12</td>\n",
       "      <td>2012</td>\n",
       "      <td>Fiction</td>\n",
       "    </tr>\n",
       "  </tbody>\n",
       "</table>\n",
       "</div>"
      ],
      "text/plain": [
       "                   Name        Author  User Rating  Reviews  Price  Year  \\\n",
       "353  The Casual Vacancy  J.K. Rowling          3.3     9372     12  2012   \n",
       "\n",
       "       Genre  \n",
       "353  Fiction  "
      ]
     },
     "execution_count": 33,
     "metadata": {},
     "output_type": "execute_result"
    }
   ],
   "source": [
    "bestsellers_df[bestsellers_df['Name'].isin(['The Casual Vacancy'])]"
   ]
  },
  {
   "cell_type": "code",
   "execution_count": 34,
   "metadata": {},
   "outputs": [
    {
     "data": {
      "text/html": [
       "<div>\n",
       "<style scoped>\n",
       "    .dataframe tbody tr th:only-of-type {\n",
       "        vertical-align: middle;\n",
       "    }\n",
       "\n",
       "    .dataframe tbody tr th {\n",
       "        vertical-align: top;\n",
       "    }\n",
       "\n",
       "    .dataframe thead th {\n",
       "        text-align: right;\n",
       "    }\n",
       "</style>\n",
       "<table border=\"1\" class=\"dataframe\">\n",
       "  <thead>\n",
       "    <tr style=\"text-align: right;\">\n",
       "      <th></th>\n",
       "      <th>Price</th>\n",
       "    </tr>\n",
       "    <tr>\n",
       "      <th>Name</th>\n",
       "      <th></th>\n",
       "    </tr>\n",
       "  </thead>\n",
       "  <tbody>\n",
       "    <tr>\n",
       "      <th>Diagnostic and Statistical Manual of Mental Disorders, 5th Edition: DSM-5</th>\n",
       "      <td>105</td>\n",
       "    </tr>\n",
       "    <tr>\n",
       "      <th>The Twilight Saga Collection</th>\n",
       "      <td>82</td>\n",
       "    </tr>\n",
       "    <tr>\n",
       "      <th>Hamilton: The Revolution</th>\n",
       "      <td>54</td>\n",
       "    </tr>\n",
       "    <tr>\n",
       "      <th>The Book of Basketball: The NBA According to The Sports Guy</th>\n",
       "      <td>53</td>\n",
       "    </tr>\n",
       "    <tr>\n",
       "      <th>Harry Potter Paperback Box Set (Books 1-7)</th>\n",
       "      <td>52</td>\n",
       "    </tr>\n",
       "  </tbody>\n",
       "</table>\n",
       "</div>"
      ],
      "text/plain": [
       "                                                    Price\n",
       "Name                                                     \n",
       "Diagnostic and Statistical Manual of Mental Dis...    105\n",
       "The Twilight Saga Collection                           82\n",
       "Hamilton: The Revolution                               54\n",
       "The Book of Basketball: The NBA According to Th...     53\n",
       "Harry Potter Paperback Box Set (Books 1-7)             52"
      ]
     },
     "execution_count": 34,
     "metadata": {},
     "output_type": "execute_result"
    }
   ],
   "source": [
    "# книги с самой высокой ценой\n",
    "\n",
    "top_price = bestsellers_df.groupby('Name')[['Price']].max()\n",
    "top_price.sort_values(by='Price',inplace=True,ascending=False)\n",
    "top_price.head(5)"
   ]
  },
  {
   "cell_type": "code",
   "execution_count": 35,
   "metadata": {},
   "outputs": [
    {
     "data": {
      "text/html": [
       "<div>\n",
       "<style scoped>\n",
       "    .dataframe tbody tr th:only-of-type {\n",
       "        vertical-align: middle;\n",
       "    }\n",
       "\n",
       "    .dataframe tbody tr th {\n",
       "        vertical-align: top;\n",
       "    }\n",
       "\n",
       "    .dataframe thead th {\n",
       "        text-align: right;\n",
       "    }\n",
       "</style>\n",
       "<table border=\"1\" class=\"dataframe\">\n",
       "  <thead>\n",
       "    <tr style=\"text-align: right;\">\n",
       "      <th></th>\n",
       "      <th>Name</th>\n",
       "      <th>Author</th>\n",
       "      <th>User Rating</th>\n",
       "      <th>Reviews</th>\n",
       "      <th>Price</th>\n",
       "      <th>Year</th>\n",
       "      <th>Genre</th>\n",
       "    </tr>\n",
       "  </thead>\n",
       "  <tbody>\n",
       "    <tr>\n",
       "      <th>69</th>\n",
       "      <td>Diagnostic and Statistical Manual of Mental Di...</td>\n",
       "      <td>American Psychiatric Association</td>\n",
       "      <td>4.5</td>\n",
       "      <td>6679</td>\n",
       "      <td>105</td>\n",
       "      <td>2013</td>\n",
       "      <td>Non Fiction</td>\n",
       "    </tr>\n",
       "    <tr>\n",
       "      <th>70</th>\n",
       "      <td>Diagnostic and Statistical Manual of Mental Di...</td>\n",
       "      <td>American Psychiatric Association</td>\n",
       "      <td>4.5</td>\n",
       "      <td>6679</td>\n",
       "      <td>105</td>\n",
       "      <td>2014</td>\n",
       "      <td>Non Fiction</td>\n",
       "    </tr>\n",
       "  </tbody>\n",
       "</table>\n",
       "</div>"
      ],
      "text/plain": [
       "                                                 Name  \\\n",
       "69  Diagnostic and Statistical Manual of Mental Di...   \n",
       "70  Diagnostic and Statistical Manual of Mental Di...   \n",
       "\n",
       "                              Author  User Rating  Reviews  Price  Year  \\\n",
       "69  American Psychiatric Association          4.5     6679    105  2013   \n",
       "70  American Psychiatric Association          4.5     6679    105  2014   \n",
       "\n",
       "          Genre  \n",
       "69  Non Fiction  \n",
       "70  Non Fiction  "
      ]
     },
     "execution_count": 35,
     "metadata": {},
     "output_type": "execute_result"
    }
   ],
   "source": [
    "bestsellers_df[bestsellers_df['Name'].isin(['Diagnostic and Statistical Manual of Mental Disorders, 5th Edition: DSM-5'])]"
   ]
  },
  {
   "cell_type": "code",
   "execution_count": 36,
   "metadata": {},
   "outputs": [
    {
     "data": {
      "text/html": [
       "<div>\n",
       "<style scoped>\n",
       "    .dataframe tbody tr th:only-of-type {\n",
       "        vertical-align: middle;\n",
       "    }\n",
       "\n",
       "    .dataframe tbody tr th {\n",
       "        vertical-align: top;\n",
       "    }\n",
       "\n",
       "    .dataframe thead th {\n",
       "        text-align: right;\n",
       "    }\n",
       "</style>\n",
       "<table border=\"1\" class=\"dataframe\">\n",
       "  <thead>\n",
       "    <tr style=\"text-align: right;\">\n",
       "      <th></th>\n",
       "      <th>Reviews</th>\n",
       "    </tr>\n",
       "    <tr>\n",
       "      <th>Name</th>\n",
       "      <th></th>\n",
       "    </tr>\n",
       "  </thead>\n",
       "  <tbody>\n",
       "    <tr>\n",
       "      <th>Where the Crawdads Sing</th>\n",
       "      <td>87841</td>\n",
       "    </tr>\n",
       "    <tr>\n",
       "      <th>The Girl on the Train</th>\n",
       "      <td>79446</td>\n",
       "    </tr>\n",
       "    <tr>\n",
       "      <th>Becoming</th>\n",
       "      <td>61133</td>\n",
       "    </tr>\n",
       "    <tr>\n",
       "      <th>Gone Girl</th>\n",
       "      <td>57271</td>\n",
       "    </tr>\n",
       "    <tr>\n",
       "      <th>The Fault in Our Stars</th>\n",
       "      <td>50482</td>\n",
       "    </tr>\n",
       "  </tbody>\n",
       "</table>\n",
       "</div>"
      ],
      "text/plain": [
       "                         Reviews\n",
       "Name                            \n",
       "Where the Crawdads Sing    87841\n",
       "The Girl on the Train      79446\n",
       "Becoming                   61133\n",
       "Gone Girl                  57271\n",
       "The Fault in Our Stars     50482"
      ]
     },
     "execution_count": 36,
     "metadata": {},
     "output_type": "execute_result"
    }
   ],
   "source": [
    "top_books = bestsellers_df.groupby('Name')[['Reviews']].max()\n",
    "top_books.sort_values(by='Reviews',inplace=True,ascending=False)\n",
    "top_books.head(5)"
   ]
  },
  {
   "cell_type": "code",
   "execution_count": 37,
   "metadata": {},
   "outputs": [
    {
     "data": {
      "text/html": [
       "<div>\n",
       "<style scoped>\n",
       "    .dataframe tbody tr th:only-of-type {\n",
       "        vertical-align: middle;\n",
       "    }\n",
       "\n",
       "    .dataframe tbody tr th {\n",
       "        vertical-align: top;\n",
       "    }\n",
       "\n",
       "    .dataframe thead th {\n",
       "        text-align: right;\n",
       "    }\n",
       "</style>\n",
       "<table border=\"1\" class=\"dataframe\">\n",
       "  <thead>\n",
       "    <tr style=\"text-align: right;\">\n",
       "      <th></th>\n",
       "      <th>Name</th>\n",
       "      <th>Author</th>\n",
       "      <th>User Rating</th>\n",
       "      <th>Reviews</th>\n",
       "      <th>Price</th>\n",
       "      <th>Year</th>\n",
       "      <th>Genre</th>\n",
       "    </tr>\n",
       "  </thead>\n",
       "  <tbody>\n",
       "    <tr>\n",
       "      <th>534</th>\n",
       "      <td>Where the Crawdads Sing</td>\n",
       "      <td>Delia Owens</td>\n",
       "      <td>4.8</td>\n",
       "      <td>87841</td>\n",
       "      <td>15</td>\n",
       "      <td>2019</td>\n",
       "      <td>Fiction</td>\n",
       "    </tr>\n",
       "  </tbody>\n",
       "</table>\n",
       "</div>"
      ],
      "text/plain": [
       "                        Name       Author  User Rating  Reviews  Price  Year  \\\n",
       "534  Where the Crawdads Sing  Delia Owens          4.8    87841     15  2019   \n",
       "\n",
       "       Genre  \n",
       "534  Fiction  "
      ]
     },
     "execution_count": 37,
     "metadata": {},
     "output_type": "execute_result"
    }
   ],
   "source": [
    "bestsellers_df[bestsellers_df['Name'].isin(['Where the Crawdads Sing'])]"
   ]
  },
  {
   "cell_type": "code",
   "execution_count": 38,
   "metadata": {},
   "outputs": [
    {
     "data": {
      "application/vnd.plotly.v1+json": {
       "config": {
        "plotlyServerURL": "https://plot.ly"
       },
       "data": [
        {
         "customdata": [
          [
           "Non Fiction"
          ],
          [
           "Fiction"
          ],
          [
           "Non Fiction"
          ],
          [
           "Fiction"
          ],
          [
           "Non Fiction"
          ],
          [
           "Fiction"
          ],
          [
           "Fiction"
          ],
          [
           "Fiction"
          ],
          [
           "Non Fiction"
          ],
          [
           "Fiction"
          ],
          [
           "Fiction"
          ],
          [
           "Non Fiction"
          ],
          [
           "Non Fiction"
          ],
          [
           "Fiction"
          ],
          [
           "Non Fiction"
          ],
          [
           "Non Fiction"
          ],
          [
           "Non Fiction"
          ],
          [
           "Non Fiction"
          ],
          [
           "Non Fiction"
          ],
          [
           "Non Fiction"
          ],
          [
           "Fiction"
          ],
          [
           "Fiction"
          ],
          [
           "Fiction"
          ],
          [
           "Non Fiction"
          ],
          [
           "Fiction"
          ],
          [
           "Non Fiction"
          ],
          [
           "Non Fiction"
          ],
          [
           "Non Fiction"
          ],
          [
           "Non Fiction"
          ],
          [
           "Non Fiction"
          ],
          [
           "Non Fiction"
          ],
          [
           "Non Fiction"
          ],
          [
           "Non Fiction"
          ],
          [
           "Non Fiction"
          ],
          [
           "Non Fiction"
          ],
          [
           "Non Fiction"
          ],
          [
           "Non Fiction"
          ],
          [
           "Non Fiction"
          ],
          [
           "Fiction"
          ],
          [
           "Non Fiction"
          ],
          [
           "Fiction"
          ],
          [
           "Fiction"
          ],
          [
           "Fiction"
          ],
          [
           "Non Fiction"
          ],
          [
           "Non Fiction"
          ],
          [
           "Non Fiction"
          ],
          [
           "Fiction"
          ],
          [
           "Fiction"
          ],
          [
           "Fiction"
          ],
          [
           "Non Fiction"
          ],
          [
           "Non Fiction"
          ],
          [
           "Non Fiction"
          ],
          [
           "Non Fiction"
          ],
          [
           "Fiction"
          ],
          [
           "Non Fiction"
          ],
          [
           "Non Fiction"
          ],
          [
           "Fiction"
          ],
          [
           "Fiction"
          ],
          [
           "Non Fiction"
          ],
          [
           "Non Fiction"
          ],
          [
           "Fiction"
          ],
          [
           "Fiction"
          ],
          [
           "Fiction"
          ],
          [
           "Fiction"
          ],
          [
           "Fiction"
          ],
          [
           "Fiction"
          ],
          [
           "Fiction"
          ],
          [
           "Non Fiction"
          ],
          [
           "Non Fiction"
          ],
          [
           "Non Fiction"
          ],
          [
           "Non Fiction"
          ],
          [
           "Fiction"
          ],
          [
           "Fiction"
          ],
          [
           "Fiction"
          ],
          [
           "Non Fiction"
          ],
          [
           "Fiction"
          ],
          [
           "Fiction"
          ],
          [
           "Fiction"
          ],
          [
           "Non Fiction"
          ],
          [
           "Fiction"
          ],
          [
           "Fiction"
          ],
          [
           "Fiction"
          ],
          [
           "Fiction"
          ],
          [
           "Fiction"
          ],
          [
           "Fiction"
          ],
          [
           "Fiction"
          ],
          [
           "Fiction"
          ],
          [
           "Fiction"
          ],
          [
           "Fiction"
          ],
          [
           "Non Fiction"
          ],
          [
           "Non Fiction"
          ],
          [
           "Non Fiction"
          ],
          [
           "Non Fiction"
          ],
          [
           "Non Fiction"
          ],
          [
           "Non Fiction"
          ],
          [
           "Fiction"
          ],
          [
           "Fiction"
          ],
          [
           "Non Fiction"
          ],
          [
           "Non Fiction"
          ],
          [
           "Non Fiction"
          ],
          [
           "Fiction"
          ],
          [
           "Fiction"
          ],
          [
           "Fiction"
          ],
          [
           "Non Fiction"
          ],
          [
           "Fiction"
          ],
          [
           "Fiction"
          ],
          [
           "Fiction"
          ],
          [
           "Fiction"
          ],
          [
           "Fiction"
          ],
          [
           "Non Fiction"
          ],
          [
           "Non Fiction"
          ],
          [
           "Non Fiction"
          ],
          [
           "Non Fiction"
          ],
          [
           "Non Fiction"
          ],
          [
           "Non Fiction"
          ],
          [
           "Non Fiction"
          ],
          [
           "Fiction"
          ],
          [
           "Non Fiction"
          ],
          [
           "Fiction"
          ],
          [
           "Fiction"
          ],
          [
           "Fiction"
          ],
          [
           "Non Fiction"
          ],
          [
           "Non Fiction"
          ],
          [
           "Fiction"
          ],
          [
           "Fiction"
          ],
          [
           "Fiction"
          ],
          [
           "Fiction"
          ],
          [
           "Fiction"
          ],
          [
           "Non Fiction"
          ],
          [
           "Non Fiction"
          ],
          [
           "Non Fiction"
          ],
          [
           "Non Fiction"
          ],
          [
           "Fiction"
          ],
          [
           "Fiction"
          ],
          [
           "Non Fiction"
          ],
          [
           "Fiction"
          ],
          [
           "Fiction"
          ],
          [
           "Fiction"
          ],
          [
           "Non Fiction"
          ],
          [
           "Non Fiction"
          ],
          [
           "Non Fiction"
          ],
          [
           "Non Fiction"
          ],
          [
           "Non Fiction"
          ],
          [
           "Fiction"
          ],
          [
           "Fiction"
          ],
          [
           "Fiction"
          ],
          [
           "Fiction"
          ],
          [
           "Fiction"
          ],
          [
           "Non Fiction"
          ],
          [
           "Fiction"
          ],
          [
           "Non Fiction"
          ],
          [
           "Non Fiction"
          ],
          [
           "Non Fiction"
          ],
          [
           "Fiction"
          ],
          [
           "Fiction"
          ],
          [
           "Fiction"
          ],
          [
           "Fiction"
          ],
          [
           "Fiction"
          ],
          [
           "Non Fiction"
          ],
          [
           "Fiction"
          ],
          [
           "Non Fiction"
          ],
          [
           "Non Fiction"
          ],
          [
           "Non Fiction"
          ],
          [
           "Non Fiction"
          ],
          [
           "Non Fiction"
          ],
          [
           "Non Fiction"
          ],
          [
           "Non Fiction"
          ],
          [
           "Non Fiction"
          ],
          [
           "Non Fiction"
          ],
          [
           "Non Fiction"
          ],
          [
           "Non Fiction"
          ],
          [
           "Non Fiction"
          ],
          [
           "Non Fiction"
          ],
          [
           "Non Fiction"
          ],
          [
           "Non Fiction"
          ],
          [
           "Non Fiction"
          ],
          [
           "Non Fiction"
          ],
          [
           "Fiction"
          ],
          [
           "Fiction"
          ],
          [
           "Fiction"
          ],
          [
           "Fiction"
          ],
          [
           "Non Fiction"
          ],
          [
           "Fiction"
          ],
          [
           "Fiction"
          ],
          [
           "Non Fiction"
          ],
          [
           "Non Fiction"
          ],
          [
           "Non Fiction"
          ],
          [
           "Non Fiction"
          ],
          [
           "Non Fiction"
          ],
          [
           "Non Fiction"
          ],
          [
           "Non Fiction"
          ],
          [
           "Non Fiction"
          ],
          [
           "Non Fiction"
          ],
          [
           "Fiction"
          ],
          [
           "Fiction"
          ],
          [
           "Non Fiction"
          ],
          [
           "Non Fiction"
          ],
          [
           "Non Fiction"
          ],
          [
           "Non Fiction"
          ],
          [
           "Non Fiction"
          ],
          [
           "Non Fiction"
          ],
          [
           "Non Fiction"
          ],
          [
           "Non Fiction"
          ],
          [
           "Non Fiction"
          ],
          [
           "Non Fiction"
          ],
          [
           "Non Fiction"
          ],
          [
           "Non Fiction"
          ],
          [
           "Fiction"
          ],
          [
           "Non Fiction"
          ],
          [
           "Non Fiction"
          ],
          [
           "Non Fiction"
          ],
          [
           "Non Fiction"
          ],
          [
           "Non Fiction"
          ],
          [
           "Non Fiction"
          ],
          [
           "Non Fiction"
          ],
          [
           "Non Fiction"
          ],
          [
           "Non Fiction"
          ],
          [
           "Non Fiction"
          ],
          [
           "Fiction"
          ],
          [
           "Fiction"
          ],
          [
           "Fiction"
          ],
          [
           "Fiction"
          ],
          [
           "Non Fiction"
          ],
          [
           "Fiction"
          ],
          [
           "Fiction"
          ],
          [
           "Non Fiction"
          ],
          [
           "Non Fiction"
          ],
          [
           "Non Fiction"
          ],
          [
           "Non Fiction"
          ],
          [
           "Non Fiction"
          ],
          [
           "Non Fiction"
          ],
          [
           "Non Fiction"
          ],
          [
           "Non Fiction"
          ],
          [
           "Non Fiction"
          ],
          [
           "Non Fiction"
          ],
          [
           "Non Fiction"
          ],
          [
           "Fiction"
          ],
          [
           "Fiction"
          ],
          [
           "Fiction"
          ],
          [
           "Non Fiction"
          ],
          [
           "Non Fiction"
          ],
          [
           "Fiction"
          ],
          [
           "Non Fiction"
          ],
          [
           "Non Fiction"
          ],
          [
           "Non Fiction"
          ],
          [
           "Fiction"
          ],
          [
           "Fiction"
          ],
          [
           "Fiction"
          ],
          [
           "Fiction"
          ],
          [
           "Fiction"
          ],
          [
           "Fiction"
          ],
          [
           "Fiction"
          ],
          [
           "Fiction"
          ],
          [
           "Fiction"
          ],
          [
           "Fiction"
          ],
          [
           "Non Fiction"
          ],
          [
           "Non Fiction"
          ],
          [
           "Non Fiction"
          ],
          [
           "Fiction"
          ],
          [
           "Fiction"
          ],
          [
           "Non Fiction"
          ],
          [
           "Non Fiction"
          ],
          [
           "Non Fiction"
          ],
          [
           "Non Fiction"
          ],
          [
           "Fiction"
          ],
          [
           "Fiction"
          ],
          [
           "Fiction"
          ],
          [
           "Fiction"
          ],
          [
           "Fiction"
          ],
          [
           "Non Fiction"
          ],
          [
           "Non Fiction"
          ],
          [
           "Non Fiction"
          ],
          [
           "Non Fiction"
          ],
          [
           "Non Fiction"
          ],
          [
           "Non Fiction"
          ],
          [
           "Non Fiction"
          ],
          [
           "Non Fiction"
          ],
          [
           "Non Fiction"
          ],
          [
           "Non Fiction"
          ],
          [
           "Non Fiction"
          ],
          [
           "Non Fiction"
          ],
          [
           "Fiction"
          ],
          [
           "Non Fiction"
          ],
          [
           "Non Fiction"
          ],
          [
           "Non Fiction"
          ],
          [
           "Non Fiction"
          ],
          [
           "Fiction"
          ],
          [
           "Fiction"
          ],
          [
           "Fiction"
          ],
          [
           "Fiction"
          ],
          [
           "Non Fiction"
          ],
          [
           "Non Fiction"
          ],
          [
           "Fiction"
          ],
          [
           "Non Fiction"
          ],
          [
           "Non Fiction"
          ],
          [
           "Non Fiction"
          ],
          [
           "Non Fiction"
          ],
          [
           "Non Fiction"
          ],
          [
           "Non Fiction"
          ],
          [
           "Fiction"
          ],
          [
           "Non Fiction"
          ],
          [
           "Non Fiction"
          ],
          [
           "Non Fiction"
          ],
          [
           "Fiction"
          ],
          [
           "Non Fiction"
          ],
          [
           "Non Fiction"
          ],
          [
           "Non Fiction"
          ],
          [
           "Non Fiction"
          ],
          [
           "Non Fiction"
          ],
          [
           "Non Fiction"
          ],
          [
           "Non Fiction"
          ],
          [
           "Non Fiction"
          ],
          [
           "Non Fiction"
          ],
          [
           "Non Fiction"
          ],
          [
           "Non Fiction"
          ],
          [
           "Fiction"
          ],
          [
           "Non Fiction"
          ],
          [
           "Non Fiction"
          ],
          [
           "Non Fiction"
          ],
          [
           "Non Fiction"
          ],
          [
           "Non Fiction"
          ],
          [
           "Non Fiction"
          ],
          [
           "Non Fiction"
          ],
          [
           "Non Fiction"
          ],
          [
           "Non Fiction"
          ],
          [
           "Non Fiction"
          ],
          [
           "Non Fiction"
          ],
          [
           "Non Fiction"
          ],
          [
           "Non Fiction"
          ],
          [
           "Non Fiction"
          ],
          [
           "Non Fiction"
          ],
          [
           "Non Fiction"
          ],
          [
           "Non Fiction"
          ],
          [
           "Non Fiction"
          ],
          [
           "Non Fiction"
          ],
          [
           "Non Fiction"
          ],
          [
           "Non Fiction"
          ],
          [
           "Non Fiction"
          ],
          [
           "Fiction"
          ],
          [
           "Non Fiction"
          ],
          [
           "Fiction"
          ],
          [
           "Fiction"
          ],
          [
           "Non Fiction"
          ],
          [
           "Fiction"
          ],
          [
           "Non Fiction"
          ],
          [
           "Non Fiction"
          ],
          [
           "Non Fiction"
          ],
          [
           "Fiction"
          ],
          [
           "Fiction"
          ],
          [
           "Fiction"
          ],
          [
           "Fiction"
          ],
          [
           "Non Fiction"
          ],
          [
           "Non Fiction"
          ],
          [
           "Fiction"
          ],
          [
           "Non Fiction"
          ],
          [
           "Non Fiction"
          ],
          [
           "Non Fiction"
          ],
          [
           "Fiction"
          ],
          [
           "Non Fiction"
          ],
          [
           "Non Fiction"
          ],
          [
           "Fiction"
          ],
          [
           "Fiction"
          ],
          [
           "Fiction"
          ],
          [
           "Non Fiction"
          ],
          [
           "Fiction"
          ],
          [
           "Fiction"
          ],
          [
           "Fiction"
          ],
          [
           "Fiction"
          ],
          [
           "Fiction"
          ],
          [
           "Non Fiction"
          ],
          [
           "Non Fiction"
          ],
          [
           "Non Fiction"
          ],
          [
           "Non Fiction"
          ],
          [
           "Non Fiction"
          ],
          [
           "Non Fiction"
          ],
          [
           "Non Fiction"
          ],
          [
           "Non Fiction"
          ],
          [
           "Non Fiction"
          ],
          [
           "Non Fiction"
          ],
          [
           "Non Fiction"
          ],
          [
           "Non Fiction"
          ],
          [
           "Fiction"
          ],
          [
           "Fiction"
          ],
          [
           "Fiction"
          ],
          [
           "Fiction"
          ],
          [
           "Fiction"
          ],
          [
           "Fiction"
          ],
          [
           "Fiction"
          ],
          [
           "Fiction"
          ],
          [
           "Fiction"
          ],
          [
           "Fiction"
          ],
          [
           "Fiction"
          ],
          [
           "Fiction"
          ],
          [
           "Fiction"
          ],
          [
           "Fiction"
          ],
          [
           "Fiction"
          ],
          [
           "Fiction"
          ],
          [
           "Fiction"
          ],
          [
           "Fiction"
          ],
          [
           "Fiction"
          ],
          [
           "Fiction"
          ],
          [
           "Fiction"
          ],
          [
           "Fiction"
          ],
          [
           "Fiction"
          ],
          [
           "Fiction"
          ],
          [
           "Fiction"
          ],
          [
           "Fiction"
          ],
          [
           "Fiction"
          ],
          [
           "Fiction"
          ],
          [
           "Fiction"
          ],
          [
           "Fiction"
          ],
          [
           "Fiction"
          ],
          [
           "Non Fiction"
          ],
          [
           "Non Fiction"
          ],
          [
           "Non Fiction"
          ],
          [
           "Non Fiction"
          ],
          [
           "Non Fiction"
          ],
          [
           "Non Fiction"
          ],
          [
           "Fiction"
          ],
          [
           "Fiction"
          ],
          [
           "Fiction"
          ],
          [
           "Non Fiction"
          ],
          [
           "Non Fiction"
          ],
          [
           "Non Fiction"
          ],
          [
           "Non Fiction"
          ],
          [
           "Non Fiction"
          ],
          [
           "Non Fiction"
          ],
          [
           "Fiction"
          ],
          [
           "Fiction"
          ],
          [
           "Fiction"
          ],
          [
           "Non Fiction"
          ],
          [
           "Non Fiction"
          ],
          [
           "Fiction"
          ],
          [
           "Fiction"
          ],
          [
           "Fiction"
          ],
          [
           "Fiction"
          ],
          [
           "Non Fiction"
          ],
          [
           "Fiction"
          ],
          [
           "Fiction"
          ],
          [
           "Non Fiction"
          ],
          [
           "Non Fiction"
          ],
          [
           "Non Fiction"
          ],
          [
           "Non Fiction"
          ],
          [
           "Non Fiction"
          ],
          [
           "Non Fiction"
          ],
          [
           "Fiction"
          ],
          [
           "Non Fiction"
          ],
          [
           "Non Fiction"
          ],
          [
           "Non Fiction"
          ],
          [
           "Non Fiction"
          ],
          [
           "Non Fiction"
          ],
          [
           "Fiction"
          ],
          [
           "Fiction"
          ],
          [
           "Non Fiction"
          ],
          [
           "Fiction"
          ],
          [
           "Fiction"
          ],
          [
           "Fiction"
          ],
          [
           "Non Fiction"
          ],
          [
           "Fiction"
          ],
          [
           "Fiction"
          ],
          [
           "Fiction"
          ],
          [
           "Fiction"
          ],
          [
           "Fiction"
          ],
          [
           "Fiction"
          ],
          [
           "Non Fiction"
          ],
          [
           "Non Fiction"
          ],
          [
           "Non Fiction"
          ],
          [
           "Non Fiction"
          ],
          [
           "Fiction"
          ],
          [
           "Fiction"
          ],
          [
           "Fiction"
          ],
          [
           "Non Fiction"
          ],
          [
           "Non Fiction"
          ],
          [
           "Fiction"
          ],
          [
           "Fiction"
          ],
          [
           "Non Fiction"
          ],
          [
           "Fiction"
          ],
          [
           "Fiction"
          ],
          [
           "Fiction"
          ],
          [
           "Fiction"
          ],
          [
           "Fiction"
          ],
          [
           "Fiction"
          ],
          [
           "Fiction"
          ],
          [
           "Non Fiction"
          ],
          [
           "Non Fiction"
          ],
          [
           "Non Fiction"
          ],
          [
           "Fiction"
          ],
          [
           "Fiction"
          ],
          [
           "Fiction"
          ],
          [
           "Fiction"
          ],
          [
           "Fiction"
          ],
          [
           "Fiction"
          ],
          [
           "Non Fiction"
          ],
          [
           "Non Fiction"
          ],
          [
           "Non Fiction"
          ],
          [
           "Non Fiction"
          ],
          [
           "Fiction"
          ],
          [
           "Non Fiction"
          ],
          [
           "Non Fiction"
          ],
          [
           "Non Fiction"
          ],
          [
           "Non Fiction"
          ],
          [
           "Non Fiction"
          ],
          [
           "Non Fiction"
          ],
          [
           "Non Fiction"
          ],
          [
           "Non Fiction"
          ],
          [
           "Fiction"
          ],
          [
           "Fiction"
          ],
          [
           "Fiction"
          ],
          [
           "Fiction"
          ],
          [
           "Fiction"
          ],
          [
           "Non Fiction"
          ],
          [
           "Fiction"
          ],
          [
           "Non Fiction"
          ],
          [
           "Fiction"
          ],
          [
           "Fiction"
          ],
          [
           "Non Fiction"
          ],
          [
           "Non Fiction"
          ],
          [
           "Non Fiction"
          ],
          [
           "Non Fiction"
          ],
          [
           "Non Fiction"
          ],
          [
           "Fiction"
          ],
          [
           "Non Fiction"
          ],
          [
           "Non Fiction"
          ],
          [
           "Non Fiction"
          ],
          [
           "Fiction"
          ],
          [
           "Fiction"
          ],
          [
           "Non Fiction"
          ],
          [
           "Non Fiction"
          ],
          [
           "Fiction"
          ],
          [
           "Fiction"
          ],
          [
           "Non Fiction"
          ],
          [
           "Non Fiction"
          ],
          [
           "Non Fiction"
          ],
          [
           "Non Fiction"
          ],
          [
           "Fiction"
          ],
          [
           "Fiction"
          ],
          [
           "Non Fiction"
          ],
          [
           "Non Fiction"
          ],
          [
           "Fiction"
          ],
          [
           "Non Fiction"
          ],
          [
           "Fiction"
          ],
          [
           "Fiction"
          ],
          [
           "Fiction"
          ],
          [
           "Fiction"
          ],
          [
           "Fiction"
          ],
          [
           "Fiction"
          ],
          [
           "Non Fiction"
          ],
          [
           "Non Fiction"
          ],
          [
           "Non Fiction"
          ],
          [
           "Non Fiction"
          ]
         ],
         "domain": {
          "x": [
           0,
           1
          ],
          "y": [
           0,
           1
          ]
         },
         "hovertemplate": "Genre=%{customdata[0]}<extra></extra>",
         "labels": [
          "Non Fiction",
          "Fiction",
          "Non Fiction",
          "Fiction",
          "Non Fiction",
          "Fiction",
          "Fiction",
          "Fiction",
          "Non Fiction",
          "Fiction",
          "Fiction",
          "Non Fiction",
          "Non Fiction",
          "Fiction",
          "Non Fiction",
          "Non Fiction",
          "Non Fiction",
          "Non Fiction",
          "Non Fiction",
          "Non Fiction",
          "Fiction",
          "Fiction",
          "Fiction",
          "Non Fiction",
          "Fiction",
          "Non Fiction",
          "Non Fiction",
          "Non Fiction",
          "Non Fiction",
          "Non Fiction",
          "Non Fiction",
          "Non Fiction",
          "Non Fiction",
          "Non Fiction",
          "Non Fiction",
          "Non Fiction",
          "Non Fiction",
          "Non Fiction",
          "Fiction",
          "Non Fiction",
          "Fiction",
          "Fiction",
          "Fiction",
          "Non Fiction",
          "Non Fiction",
          "Non Fiction",
          "Fiction",
          "Fiction",
          "Fiction",
          "Non Fiction",
          "Non Fiction",
          "Non Fiction",
          "Non Fiction",
          "Fiction",
          "Non Fiction",
          "Non Fiction",
          "Fiction",
          "Fiction",
          "Non Fiction",
          "Non Fiction",
          "Fiction",
          "Fiction",
          "Fiction",
          "Fiction",
          "Fiction",
          "Fiction",
          "Fiction",
          "Non Fiction",
          "Non Fiction",
          "Non Fiction",
          "Non Fiction",
          "Fiction",
          "Fiction",
          "Fiction",
          "Non Fiction",
          "Fiction",
          "Fiction",
          "Fiction",
          "Non Fiction",
          "Fiction",
          "Fiction",
          "Fiction",
          "Fiction",
          "Fiction",
          "Fiction",
          "Fiction",
          "Fiction",
          "Fiction",
          "Fiction",
          "Non Fiction",
          "Non Fiction",
          "Non Fiction",
          "Non Fiction",
          "Non Fiction",
          "Non Fiction",
          "Fiction",
          "Fiction",
          "Non Fiction",
          "Non Fiction",
          "Non Fiction",
          "Fiction",
          "Fiction",
          "Fiction",
          "Non Fiction",
          "Fiction",
          "Fiction",
          "Fiction",
          "Fiction",
          "Fiction",
          "Non Fiction",
          "Non Fiction",
          "Non Fiction",
          "Non Fiction",
          "Non Fiction",
          "Non Fiction",
          "Non Fiction",
          "Fiction",
          "Non Fiction",
          "Fiction",
          "Fiction",
          "Fiction",
          "Non Fiction",
          "Non Fiction",
          "Fiction",
          "Fiction",
          "Fiction",
          "Fiction",
          "Fiction",
          "Non Fiction",
          "Non Fiction",
          "Non Fiction",
          "Non Fiction",
          "Fiction",
          "Fiction",
          "Non Fiction",
          "Fiction",
          "Fiction",
          "Fiction",
          "Non Fiction",
          "Non Fiction",
          "Non Fiction",
          "Non Fiction",
          "Non Fiction",
          "Fiction",
          "Fiction",
          "Fiction",
          "Fiction",
          "Fiction",
          "Non Fiction",
          "Fiction",
          "Non Fiction",
          "Non Fiction",
          "Non Fiction",
          "Fiction",
          "Fiction",
          "Fiction",
          "Fiction",
          "Fiction",
          "Non Fiction",
          "Fiction",
          "Non Fiction",
          "Non Fiction",
          "Non Fiction",
          "Non Fiction",
          "Non Fiction",
          "Non Fiction",
          "Non Fiction",
          "Non Fiction",
          "Non Fiction",
          "Non Fiction",
          "Non Fiction",
          "Non Fiction",
          "Non Fiction",
          "Non Fiction",
          "Non Fiction",
          "Non Fiction",
          "Non Fiction",
          "Fiction",
          "Fiction",
          "Fiction",
          "Fiction",
          "Non Fiction",
          "Fiction",
          "Fiction",
          "Non Fiction",
          "Non Fiction",
          "Non Fiction",
          "Non Fiction",
          "Non Fiction",
          "Non Fiction",
          "Non Fiction",
          "Non Fiction",
          "Non Fiction",
          "Fiction",
          "Fiction",
          "Non Fiction",
          "Non Fiction",
          "Non Fiction",
          "Non Fiction",
          "Non Fiction",
          "Non Fiction",
          "Non Fiction",
          "Non Fiction",
          "Non Fiction",
          "Non Fiction",
          "Non Fiction",
          "Non Fiction",
          "Fiction",
          "Non Fiction",
          "Non Fiction",
          "Non Fiction",
          "Non Fiction",
          "Non Fiction",
          "Non Fiction",
          "Non Fiction",
          "Non Fiction",
          "Non Fiction",
          "Non Fiction",
          "Fiction",
          "Fiction",
          "Fiction",
          "Fiction",
          "Non Fiction",
          "Fiction",
          "Fiction",
          "Non Fiction",
          "Non Fiction",
          "Non Fiction",
          "Non Fiction",
          "Non Fiction",
          "Non Fiction",
          "Non Fiction",
          "Non Fiction",
          "Non Fiction",
          "Non Fiction",
          "Non Fiction",
          "Fiction",
          "Fiction",
          "Fiction",
          "Non Fiction",
          "Non Fiction",
          "Fiction",
          "Non Fiction",
          "Non Fiction",
          "Non Fiction",
          "Fiction",
          "Fiction",
          "Fiction",
          "Fiction",
          "Fiction",
          "Fiction",
          "Fiction",
          "Fiction",
          "Fiction",
          "Fiction",
          "Non Fiction",
          "Non Fiction",
          "Non Fiction",
          "Fiction",
          "Fiction",
          "Non Fiction",
          "Non Fiction",
          "Non Fiction",
          "Non Fiction",
          "Fiction",
          "Fiction",
          "Fiction",
          "Fiction",
          "Fiction",
          "Non Fiction",
          "Non Fiction",
          "Non Fiction",
          "Non Fiction",
          "Non Fiction",
          "Non Fiction",
          "Non Fiction",
          "Non Fiction",
          "Non Fiction",
          "Non Fiction",
          "Non Fiction",
          "Non Fiction",
          "Fiction",
          "Non Fiction",
          "Non Fiction",
          "Non Fiction",
          "Non Fiction",
          "Fiction",
          "Fiction",
          "Fiction",
          "Fiction",
          "Non Fiction",
          "Non Fiction",
          "Fiction",
          "Non Fiction",
          "Non Fiction",
          "Non Fiction",
          "Non Fiction",
          "Non Fiction",
          "Non Fiction",
          "Fiction",
          "Non Fiction",
          "Non Fiction",
          "Non Fiction",
          "Fiction",
          "Non Fiction",
          "Non Fiction",
          "Non Fiction",
          "Non Fiction",
          "Non Fiction",
          "Non Fiction",
          "Non Fiction",
          "Non Fiction",
          "Non Fiction",
          "Non Fiction",
          "Non Fiction",
          "Fiction",
          "Non Fiction",
          "Non Fiction",
          "Non Fiction",
          "Non Fiction",
          "Non Fiction",
          "Non Fiction",
          "Non Fiction",
          "Non Fiction",
          "Non Fiction",
          "Non Fiction",
          "Non Fiction",
          "Non Fiction",
          "Non Fiction",
          "Non Fiction",
          "Non Fiction",
          "Non Fiction",
          "Non Fiction",
          "Non Fiction",
          "Non Fiction",
          "Non Fiction",
          "Non Fiction",
          "Non Fiction",
          "Fiction",
          "Non Fiction",
          "Fiction",
          "Fiction",
          "Non Fiction",
          "Fiction",
          "Non Fiction",
          "Non Fiction",
          "Non Fiction",
          "Fiction",
          "Fiction",
          "Fiction",
          "Fiction",
          "Non Fiction",
          "Non Fiction",
          "Fiction",
          "Non Fiction",
          "Non Fiction",
          "Non Fiction",
          "Fiction",
          "Non Fiction",
          "Non Fiction",
          "Fiction",
          "Fiction",
          "Fiction",
          "Non Fiction",
          "Fiction",
          "Fiction",
          "Fiction",
          "Fiction",
          "Fiction",
          "Non Fiction",
          "Non Fiction",
          "Non Fiction",
          "Non Fiction",
          "Non Fiction",
          "Non Fiction",
          "Non Fiction",
          "Non Fiction",
          "Non Fiction",
          "Non Fiction",
          "Non Fiction",
          "Non Fiction",
          "Fiction",
          "Fiction",
          "Fiction",
          "Fiction",
          "Fiction",
          "Fiction",
          "Fiction",
          "Fiction",
          "Fiction",
          "Fiction",
          "Fiction",
          "Fiction",
          "Fiction",
          "Fiction",
          "Fiction",
          "Fiction",
          "Fiction",
          "Fiction",
          "Fiction",
          "Fiction",
          "Fiction",
          "Fiction",
          "Fiction",
          "Fiction",
          "Fiction",
          "Fiction",
          "Fiction",
          "Fiction",
          "Fiction",
          "Fiction",
          "Fiction",
          "Non Fiction",
          "Non Fiction",
          "Non Fiction",
          "Non Fiction",
          "Non Fiction",
          "Non Fiction",
          "Fiction",
          "Fiction",
          "Fiction",
          "Non Fiction",
          "Non Fiction",
          "Non Fiction",
          "Non Fiction",
          "Non Fiction",
          "Non Fiction",
          "Fiction",
          "Fiction",
          "Fiction",
          "Non Fiction",
          "Non Fiction",
          "Fiction",
          "Fiction",
          "Fiction",
          "Fiction",
          "Non Fiction",
          "Fiction",
          "Fiction",
          "Non Fiction",
          "Non Fiction",
          "Non Fiction",
          "Non Fiction",
          "Non Fiction",
          "Non Fiction",
          "Fiction",
          "Non Fiction",
          "Non Fiction",
          "Non Fiction",
          "Non Fiction",
          "Non Fiction",
          "Fiction",
          "Fiction",
          "Non Fiction",
          "Fiction",
          "Fiction",
          "Fiction",
          "Non Fiction",
          "Fiction",
          "Fiction",
          "Fiction",
          "Fiction",
          "Fiction",
          "Fiction",
          "Non Fiction",
          "Non Fiction",
          "Non Fiction",
          "Non Fiction",
          "Fiction",
          "Fiction",
          "Fiction",
          "Non Fiction",
          "Non Fiction",
          "Fiction",
          "Fiction",
          "Non Fiction",
          "Fiction",
          "Fiction",
          "Fiction",
          "Fiction",
          "Fiction",
          "Fiction",
          "Fiction",
          "Non Fiction",
          "Non Fiction",
          "Non Fiction",
          "Fiction",
          "Fiction",
          "Fiction",
          "Fiction",
          "Fiction",
          "Fiction",
          "Non Fiction",
          "Non Fiction",
          "Non Fiction",
          "Non Fiction",
          "Fiction",
          "Non Fiction",
          "Non Fiction",
          "Non Fiction",
          "Non Fiction",
          "Non Fiction",
          "Non Fiction",
          "Non Fiction",
          "Non Fiction",
          "Fiction",
          "Fiction",
          "Fiction",
          "Fiction",
          "Fiction",
          "Non Fiction",
          "Fiction",
          "Non Fiction",
          "Fiction",
          "Fiction",
          "Non Fiction",
          "Non Fiction",
          "Non Fiction",
          "Non Fiction",
          "Non Fiction",
          "Fiction",
          "Non Fiction",
          "Non Fiction",
          "Non Fiction",
          "Fiction",
          "Fiction",
          "Non Fiction",
          "Non Fiction",
          "Fiction",
          "Fiction",
          "Non Fiction",
          "Non Fiction",
          "Non Fiction",
          "Non Fiction",
          "Fiction",
          "Fiction",
          "Non Fiction",
          "Non Fiction",
          "Fiction",
          "Non Fiction",
          "Fiction",
          "Fiction",
          "Fiction",
          "Fiction",
          "Fiction",
          "Fiction",
          "Non Fiction",
          "Non Fiction",
          "Non Fiction",
          "Non Fiction"
         ],
         "legendgroup": "",
         "name": "",
         "showlegend": true,
         "textinfo": "percent+label",
         "textposition": "inside",
         "type": "pie"
        }
       ],
       "layout": {
        "height": 400,
        "legend": {
         "tracegroupgap": 0
        },
        "template": {
         "data": {
          "bar": [
           {
            "error_x": {
             "color": "#2a3f5f"
            },
            "error_y": {
             "color": "#2a3f5f"
            },
            "marker": {
             "line": {
              "color": "#E5ECF6",
              "width": 0.5
             },
             "pattern": {
              "fillmode": "overlay",
              "size": 10,
              "solidity": 0.2
             }
            },
            "type": "bar"
           }
          ],
          "barpolar": [
           {
            "marker": {
             "line": {
              "color": "#E5ECF6",
              "width": 0.5
             },
             "pattern": {
              "fillmode": "overlay",
              "size": 10,
              "solidity": 0.2
             }
            },
            "type": "barpolar"
           }
          ],
          "carpet": [
           {
            "aaxis": {
             "endlinecolor": "#2a3f5f",
             "gridcolor": "white",
             "linecolor": "white",
             "minorgridcolor": "white",
             "startlinecolor": "#2a3f5f"
            },
            "baxis": {
             "endlinecolor": "#2a3f5f",
             "gridcolor": "white",
             "linecolor": "white",
             "minorgridcolor": "white",
             "startlinecolor": "#2a3f5f"
            },
            "type": "carpet"
           }
          ],
          "choropleth": [
           {
            "colorbar": {
             "outlinewidth": 0,
             "ticks": ""
            },
            "type": "choropleth"
           }
          ],
          "contour": [
           {
            "colorbar": {
             "outlinewidth": 0,
             "ticks": ""
            },
            "colorscale": [
             [
              0,
              "#0d0887"
             ],
             [
              0.1111111111111111,
              "#46039f"
             ],
             [
              0.2222222222222222,
              "#7201a8"
             ],
             [
              0.3333333333333333,
              "#9c179e"
             ],
             [
              0.4444444444444444,
              "#bd3786"
             ],
             [
              0.5555555555555556,
              "#d8576b"
             ],
             [
              0.6666666666666666,
              "#ed7953"
             ],
             [
              0.7777777777777778,
              "#fb9f3a"
             ],
             [
              0.8888888888888888,
              "#fdca26"
             ],
             [
              1,
              "#f0f921"
             ]
            ],
            "type": "contour"
           }
          ],
          "contourcarpet": [
           {
            "colorbar": {
             "outlinewidth": 0,
             "ticks": ""
            },
            "type": "contourcarpet"
           }
          ],
          "heatmap": [
           {
            "colorbar": {
             "outlinewidth": 0,
             "ticks": ""
            },
            "colorscale": [
             [
              0,
              "#0d0887"
             ],
             [
              0.1111111111111111,
              "#46039f"
             ],
             [
              0.2222222222222222,
              "#7201a8"
             ],
             [
              0.3333333333333333,
              "#9c179e"
             ],
             [
              0.4444444444444444,
              "#bd3786"
             ],
             [
              0.5555555555555556,
              "#d8576b"
             ],
             [
              0.6666666666666666,
              "#ed7953"
             ],
             [
              0.7777777777777778,
              "#fb9f3a"
             ],
             [
              0.8888888888888888,
              "#fdca26"
             ],
             [
              1,
              "#f0f921"
             ]
            ],
            "type": "heatmap"
           }
          ],
          "heatmapgl": [
           {
            "colorbar": {
             "outlinewidth": 0,
             "ticks": ""
            },
            "colorscale": [
             [
              0,
              "#0d0887"
             ],
             [
              0.1111111111111111,
              "#46039f"
             ],
             [
              0.2222222222222222,
              "#7201a8"
             ],
             [
              0.3333333333333333,
              "#9c179e"
             ],
             [
              0.4444444444444444,
              "#bd3786"
             ],
             [
              0.5555555555555556,
              "#d8576b"
             ],
             [
              0.6666666666666666,
              "#ed7953"
             ],
             [
              0.7777777777777778,
              "#fb9f3a"
             ],
             [
              0.8888888888888888,
              "#fdca26"
             ],
             [
              1,
              "#f0f921"
             ]
            ],
            "type": "heatmapgl"
           }
          ],
          "histogram": [
           {
            "marker": {
             "pattern": {
              "fillmode": "overlay",
              "size": 10,
              "solidity": 0.2
             }
            },
            "type": "histogram"
           }
          ],
          "histogram2d": [
           {
            "colorbar": {
             "outlinewidth": 0,
             "ticks": ""
            },
            "colorscale": [
             [
              0,
              "#0d0887"
             ],
             [
              0.1111111111111111,
              "#46039f"
             ],
             [
              0.2222222222222222,
              "#7201a8"
             ],
             [
              0.3333333333333333,
              "#9c179e"
             ],
             [
              0.4444444444444444,
              "#bd3786"
             ],
             [
              0.5555555555555556,
              "#d8576b"
             ],
             [
              0.6666666666666666,
              "#ed7953"
             ],
             [
              0.7777777777777778,
              "#fb9f3a"
             ],
             [
              0.8888888888888888,
              "#fdca26"
             ],
             [
              1,
              "#f0f921"
             ]
            ],
            "type": "histogram2d"
           }
          ],
          "histogram2dcontour": [
           {
            "colorbar": {
             "outlinewidth": 0,
             "ticks": ""
            },
            "colorscale": [
             [
              0,
              "#0d0887"
             ],
             [
              0.1111111111111111,
              "#46039f"
             ],
             [
              0.2222222222222222,
              "#7201a8"
             ],
             [
              0.3333333333333333,
              "#9c179e"
             ],
             [
              0.4444444444444444,
              "#bd3786"
             ],
             [
              0.5555555555555556,
              "#d8576b"
             ],
             [
              0.6666666666666666,
              "#ed7953"
             ],
             [
              0.7777777777777778,
              "#fb9f3a"
             ],
             [
              0.8888888888888888,
              "#fdca26"
             ],
             [
              1,
              "#f0f921"
             ]
            ],
            "type": "histogram2dcontour"
           }
          ],
          "mesh3d": [
           {
            "colorbar": {
             "outlinewidth": 0,
             "ticks": ""
            },
            "type": "mesh3d"
           }
          ],
          "parcoords": [
           {
            "line": {
             "colorbar": {
              "outlinewidth": 0,
              "ticks": ""
             }
            },
            "type": "parcoords"
           }
          ],
          "pie": [
           {
            "automargin": true,
            "type": "pie"
           }
          ],
          "scatter": [
           {
            "marker": {
             "colorbar": {
              "outlinewidth": 0,
              "ticks": ""
             }
            },
            "type": "scatter"
           }
          ],
          "scatter3d": [
           {
            "line": {
             "colorbar": {
              "outlinewidth": 0,
              "ticks": ""
             }
            },
            "marker": {
             "colorbar": {
              "outlinewidth": 0,
              "ticks": ""
             }
            },
            "type": "scatter3d"
           }
          ],
          "scattercarpet": [
           {
            "marker": {
             "colorbar": {
              "outlinewidth": 0,
              "ticks": ""
             }
            },
            "type": "scattercarpet"
           }
          ],
          "scattergeo": [
           {
            "marker": {
             "colorbar": {
              "outlinewidth": 0,
              "ticks": ""
             }
            },
            "type": "scattergeo"
           }
          ],
          "scattergl": [
           {
            "marker": {
             "colorbar": {
              "outlinewidth": 0,
              "ticks": ""
             }
            },
            "type": "scattergl"
           }
          ],
          "scattermapbox": [
           {
            "marker": {
             "colorbar": {
              "outlinewidth": 0,
              "ticks": ""
             }
            },
            "type": "scattermapbox"
           }
          ],
          "scatterpolar": [
           {
            "marker": {
             "colorbar": {
              "outlinewidth": 0,
              "ticks": ""
             }
            },
            "type": "scatterpolar"
           }
          ],
          "scatterpolargl": [
           {
            "marker": {
             "colorbar": {
              "outlinewidth": 0,
              "ticks": ""
             }
            },
            "type": "scatterpolargl"
           }
          ],
          "scatterternary": [
           {
            "marker": {
             "colorbar": {
              "outlinewidth": 0,
              "ticks": ""
             }
            },
            "type": "scatterternary"
           }
          ],
          "surface": [
           {
            "colorbar": {
             "outlinewidth": 0,
             "ticks": ""
            },
            "colorscale": [
             [
              0,
              "#0d0887"
             ],
             [
              0.1111111111111111,
              "#46039f"
             ],
             [
              0.2222222222222222,
              "#7201a8"
             ],
             [
              0.3333333333333333,
              "#9c179e"
             ],
             [
              0.4444444444444444,
              "#bd3786"
             ],
             [
              0.5555555555555556,
              "#d8576b"
             ],
             [
              0.6666666666666666,
              "#ed7953"
             ],
             [
              0.7777777777777778,
              "#fb9f3a"
             ],
             [
              0.8888888888888888,
              "#fdca26"
             ],
             [
              1,
              "#f0f921"
             ]
            ],
            "type": "surface"
           }
          ],
          "table": [
           {
            "cells": {
             "fill": {
              "color": "#EBF0F8"
             },
             "line": {
              "color": "white"
             }
            },
            "header": {
             "fill": {
              "color": "#C8D4E3"
             },
             "line": {
              "color": "white"
             }
            },
            "type": "table"
           }
          ]
         },
         "layout": {
          "annotationdefaults": {
           "arrowcolor": "#2a3f5f",
           "arrowhead": 0,
           "arrowwidth": 1
          },
          "autotypenumbers": "strict",
          "coloraxis": {
           "colorbar": {
            "outlinewidth": 0,
            "ticks": ""
           }
          },
          "colorscale": {
           "diverging": [
            [
             0,
             "#8e0152"
            ],
            [
             0.1,
             "#c51b7d"
            ],
            [
             0.2,
             "#de77ae"
            ],
            [
             0.3,
             "#f1b6da"
            ],
            [
             0.4,
             "#fde0ef"
            ],
            [
             0.5,
             "#f7f7f7"
            ],
            [
             0.6,
             "#e6f5d0"
            ],
            [
             0.7,
             "#b8e186"
            ],
            [
             0.8,
             "#7fbc41"
            ],
            [
             0.9,
             "#4d9221"
            ],
            [
             1,
             "#276419"
            ]
           ],
           "sequential": [
            [
             0,
             "#0d0887"
            ],
            [
             0.1111111111111111,
             "#46039f"
            ],
            [
             0.2222222222222222,
             "#7201a8"
            ],
            [
             0.3333333333333333,
             "#9c179e"
            ],
            [
             0.4444444444444444,
             "#bd3786"
            ],
            [
             0.5555555555555556,
             "#d8576b"
            ],
            [
             0.6666666666666666,
             "#ed7953"
            ],
            [
             0.7777777777777778,
             "#fb9f3a"
            ],
            [
             0.8888888888888888,
             "#fdca26"
            ],
            [
             1,
             "#f0f921"
            ]
           ],
           "sequentialminus": [
            [
             0,
             "#0d0887"
            ],
            [
             0.1111111111111111,
             "#46039f"
            ],
            [
             0.2222222222222222,
             "#7201a8"
            ],
            [
             0.3333333333333333,
             "#9c179e"
            ],
            [
             0.4444444444444444,
             "#bd3786"
            ],
            [
             0.5555555555555556,
             "#d8576b"
            ],
            [
             0.6666666666666666,
             "#ed7953"
            ],
            [
             0.7777777777777778,
             "#fb9f3a"
            ],
            [
             0.8888888888888888,
             "#fdca26"
            ],
            [
             1,
             "#f0f921"
            ]
           ]
          },
          "colorway": [
           "#636efa",
           "#EF553B",
           "#00cc96",
           "#ab63fa",
           "#FFA15A",
           "#19d3f3",
           "#FF6692",
           "#B6E880",
           "#FF97FF",
           "#FECB52"
          ],
          "font": {
           "color": "#2a3f5f"
          },
          "geo": {
           "bgcolor": "white",
           "lakecolor": "white",
           "landcolor": "#E5ECF6",
           "showlakes": true,
           "showland": true,
           "subunitcolor": "white"
          },
          "hoverlabel": {
           "align": "left"
          },
          "hovermode": "closest",
          "mapbox": {
           "style": "light"
          },
          "paper_bgcolor": "white",
          "plot_bgcolor": "#E5ECF6",
          "polar": {
           "angularaxis": {
            "gridcolor": "white",
            "linecolor": "white",
            "ticks": ""
           },
           "bgcolor": "#E5ECF6",
           "radialaxis": {
            "gridcolor": "white",
            "linecolor": "white",
            "ticks": ""
           }
          },
          "scene": {
           "xaxis": {
            "backgroundcolor": "#E5ECF6",
            "gridcolor": "white",
            "gridwidth": 2,
            "linecolor": "white",
            "showbackground": true,
            "ticks": "",
            "zerolinecolor": "white"
           },
           "yaxis": {
            "backgroundcolor": "#E5ECF6",
            "gridcolor": "white",
            "gridwidth": 2,
            "linecolor": "white",
            "showbackground": true,
            "ticks": "",
            "zerolinecolor": "white"
           },
           "zaxis": {
            "backgroundcolor": "#E5ECF6",
            "gridcolor": "white",
            "gridwidth": 2,
            "linecolor": "white",
            "showbackground": true,
            "ticks": "",
            "zerolinecolor": "white"
           }
          },
          "shapedefaults": {
           "line": {
            "color": "#2a3f5f"
           }
          },
          "ternary": {
           "aaxis": {
            "gridcolor": "white",
            "linecolor": "white",
            "ticks": ""
           },
           "baxis": {
            "gridcolor": "white",
            "linecolor": "white",
            "ticks": ""
           },
           "bgcolor": "#E5ECF6",
           "caxis": {
            "gridcolor": "white",
            "linecolor": "white",
            "ticks": ""
           }
          },
          "title": {
           "x": 0.05
          },
          "xaxis": {
           "automargin": true,
           "gridcolor": "white",
           "linecolor": "white",
           "ticks": "",
           "title": {
            "standoff": 15
           },
           "zerolinecolor": "white",
           "zerolinewidth": 2
          },
          "yaxis": {
           "automargin": true,
           "gridcolor": "white",
           "linecolor": "white",
           "ticks": "",
           "title": {
            "standoff": 15
           },
           "zerolinecolor": "white",
           "zerolinewidth": 2
          }
         }
        },
        "title": {
         "text": "Share Of Different Geners in Dataset"
        },
        "width": 500
       }
      },
      "text/html": [
       "<div>                            <div id=\"a62f3cbf-da93-4782-805f-1108af6cec15\" class=\"plotly-graph-div\" style=\"height:400px; width:500px;\"></div>            <script type=\"text/javascript\">                require([\"plotly\"], function(Plotly) {                    window.PLOTLYENV=window.PLOTLYENV || {};                                    if (document.getElementById(\"a62f3cbf-da93-4782-805f-1108af6cec15\")) {                    Plotly.newPlot(                        \"a62f3cbf-da93-4782-805f-1108af6cec15\",                        [{\"customdata\":[[\"Non Fiction\"],[\"Fiction\"],[\"Non Fiction\"],[\"Fiction\"],[\"Non Fiction\"],[\"Fiction\"],[\"Fiction\"],[\"Fiction\"],[\"Non Fiction\"],[\"Fiction\"],[\"Fiction\"],[\"Non Fiction\"],[\"Non Fiction\"],[\"Fiction\"],[\"Non Fiction\"],[\"Non Fiction\"],[\"Non Fiction\"],[\"Non Fiction\"],[\"Non Fiction\"],[\"Non Fiction\"],[\"Fiction\"],[\"Fiction\"],[\"Fiction\"],[\"Non Fiction\"],[\"Fiction\"],[\"Non Fiction\"],[\"Non Fiction\"],[\"Non Fiction\"],[\"Non Fiction\"],[\"Non Fiction\"],[\"Non Fiction\"],[\"Non Fiction\"],[\"Non Fiction\"],[\"Non Fiction\"],[\"Non Fiction\"],[\"Non Fiction\"],[\"Non Fiction\"],[\"Non Fiction\"],[\"Fiction\"],[\"Non Fiction\"],[\"Fiction\"],[\"Fiction\"],[\"Fiction\"],[\"Non Fiction\"],[\"Non Fiction\"],[\"Non Fiction\"],[\"Fiction\"],[\"Fiction\"],[\"Fiction\"],[\"Non Fiction\"],[\"Non Fiction\"],[\"Non Fiction\"],[\"Non Fiction\"],[\"Fiction\"],[\"Non Fiction\"],[\"Non Fiction\"],[\"Fiction\"],[\"Fiction\"],[\"Non Fiction\"],[\"Non Fiction\"],[\"Fiction\"],[\"Fiction\"],[\"Fiction\"],[\"Fiction\"],[\"Fiction\"],[\"Fiction\"],[\"Fiction\"],[\"Non Fiction\"],[\"Non Fiction\"],[\"Non Fiction\"],[\"Non Fiction\"],[\"Fiction\"],[\"Fiction\"],[\"Fiction\"],[\"Non Fiction\"],[\"Fiction\"],[\"Fiction\"],[\"Fiction\"],[\"Non Fiction\"],[\"Fiction\"],[\"Fiction\"],[\"Fiction\"],[\"Fiction\"],[\"Fiction\"],[\"Fiction\"],[\"Fiction\"],[\"Fiction\"],[\"Fiction\"],[\"Fiction\"],[\"Non Fiction\"],[\"Non Fiction\"],[\"Non Fiction\"],[\"Non Fiction\"],[\"Non Fiction\"],[\"Non Fiction\"],[\"Fiction\"],[\"Fiction\"],[\"Non Fiction\"],[\"Non Fiction\"],[\"Non Fiction\"],[\"Fiction\"],[\"Fiction\"],[\"Fiction\"],[\"Non Fiction\"],[\"Fiction\"],[\"Fiction\"],[\"Fiction\"],[\"Fiction\"],[\"Fiction\"],[\"Non Fiction\"],[\"Non Fiction\"],[\"Non Fiction\"],[\"Non Fiction\"],[\"Non Fiction\"],[\"Non Fiction\"],[\"Non Fiction\"],[\"Fiction\"],[\"Non Fiction\"],[\"Fiction\"],[\"Fiction\"],[\"Fiction\"],[\"Non Fiction\"],[\"Non Fiction\"],[\"Fiction\"],[\"Fiction\"],[\"Fiction\"],[\"Fiction\"],[\"Fiction\"],[\"Non Fiction\"],[\"Non Fiction\"],[\"Non Fiction\"],[\"Non Fiction\"],[\"Fiction\"],[\"Fiction\"],[\"Non Fiction\"],[\"Fiction\"],[\"Fiction\"],[\"Fiction\"],[\"Non Fiction\"],[\"Non Fiction\"],[\"Non Fiction\"],[\"Non Fiction\"],[\"Non Fiction\"],[\"Fiction\"],[\"Fiction\"],[\"Fiction\"],[\"Fiction\"],[\"Fiction\"],[\"Non Fiction\"],[\"Fiction\"],[\"Non Fiction\"],[\"Non Fiction\"],[\"Non Fiction\"],[\"Fiction\"],[\"Fiction\"],[\"Fiction\"],[\"Fiction\"],[\"Fiction\"],[\"Non Fiction\"],[\"Fiction\"],[\"Non Fiction\"],[\"Non Fiction\"],[\"Non Fiction\"],[\"Non Fiction\"],[\"Non Fiction\"],[\"Non Fiction\"],[\"Non Fiction\"],[\"Non Fiction\"],[\"Non Fiction\"],[\"Non Fiction\"],[\"Non Fiction\"],[\"Non Fiction\"],[\"Non Fiction\"],[\"Non Fiction\"],[\"Non Fiction\"],[\"Non Fiction\"],[\"Non Fiction\"],[\"Fiction\"],[\"Fiction\"],[\"Fiction\"],[\"Fiction\"],[\"Non Fiction\"],[\"Fiction\"],[\"Fiction\"],[\"Non Fiction\"],[\"Non Fiction\"],[\"Non Fiction\"],[\"Non Fiction\"],[\"Non Fiction\"],[\"Non Fiction\"],[\"Non Fiction\"],[\"Non Fiction\"],[\"Non Fiction\"],[\"Fiction\"],[\"Fiction\"],[\"Non Fiction\"],[\"Non Fiction\"],[\"Non Fiction\"],[\"Non Fiction\"],[\"Non Fiction\"],[\"Non Fiction\"],[\"Non Fiction\"],[\"Non Fiction\"],[\"Non Fiction\"],[\"Non Fiction\"],[\"Non Fiction\"],[\"Non Fiction\"],[\"Fiction\"],[\"Non Fiction\"],[\"Non Fiction\"],[\"Non Fiction\"],[\"Non Fiction\"],[\"Non Fiction\"],[\"Non Fiction\"],[\"Non Fiction\"],[\"Non Fiction\"],[\"Non Fiction\"],[\"Non Fiction\"],[\"Fiction\"],[\"Fiction\"],[\"Fiction\"],[\"Fiction\"],[\"Non Fiction\"],[\"Fiction\"],[\"Fiction\"],[\"Non Fiction\"],[\"Non Fiction\"],[\"Non Fiction\"],[\"Non Fiction\"],[\"Non Fiction\"],[\"Non Fiction\"],[\"Non Fiction\"],[\"Non Fiction\"],[\"Non Fiction\"],[\"Non Fiction\"],[\"Non Fiction\"],[\"Fiction\"],[\"Fiction\"],[\"Fiction\"],[\"Non Fiction\"],[\"Non Fiction\"],[\"Fiction\"],[\"Non Fiction\"],[\"Non Fiction\"],[\"Non Fiction\"],[\"Fiction\"],[\"Fiction\"],[\"Fiction\"],[\"Fiction\"],[\"Fiction\"],[\"Fiction\"],[\"Fiction\"],[\"Fiction\"],[\"Fiction\"],[\"Fiction\"],[\"Non Fiction\"],[\"Non Fiction\"],[\"Non Fiction\"],[\"Fiction\"],[\"Fiction\"],[\"Non Fiction\"],[\"Non Fiction\"],[\"Non Fiction\"],[\"Non Fiction\"],[\"Fiction\"],[\"Fiction\"],[\"Fiction\"],[\"Fiction\"],[\"Fiction\"],[\"Non Fiction\"],[\"Non Fiction\"],[\"Non Fiction\"],[\"Non Fiction\"],[\"Non Fiction\"],[\"Non Fiction\"],[\"Non Fiction\"],[\"Non Fiction\"],[\"Non Fiction\"],[\"Non Fiction\"],[\"Non Fiction\"],[\"Non Fiction\"],[\"Fiction\"],[\"Non Fiction\"],[\"Non Fiction\"],[\"Non Fiction\"],[\"Non Fiction\"],[\"Fiction\"],[\"Fiction\"],[\"Fiction\"],[\"Fiction\"],[\"Non Fiction\"],[\"Non Fiction\"],[\"Fiction\"],[\"Non Fiction\"],[\"Non Fiction\"],[\"Non Fiction\"],[\"Non Fiction\"],[\"Non Fiction\"],[\"Non Fiction\"],[\"Fiction\"],[\"Non Fiction\"],[\"Non Fiction\"],[\"Non Fiction\"],[\"Fiction\"],[\"Non Fiction\"],[\"Non Fiction\"],[\"Non Fiction\"],[\"Non Fiction\"],[\"Non Fiction\"],[\"Non Fiction\"],[\"Non Fiction\"],[\"Non Fiction\"],[\"Non Fiction\"],[\"Non Fiction\"],[\"Non Fiction\"],[\"Fiction\"],[\"Non Fiction\"],[\"Non Fiction\"],[\"Non Fiction\"],[\"Non Fiction\"],[\"Non Fiction\"],[\"Non Fiction\"],[\"Non Fiction\"],[\"Non Fiction\"],[\"Non Fiction\"],[\"Non Fiction\"],[\"Non Fiction\"],[\"Non Fiction\"],[\"Non Fiction\"],[\"Non Fiction\"],[\"Non Fiction\"],[\"Non Fiction\"],[\"Non Fiction\"],[\"Non Fiction\"],[\"Non Fiction\"],[\"Non Fiction\"],[\"Non Fiction\"],[\"Non Fiction\"],[\"Fiction\"],[\"Non Fiction\"],[\"Fiction\"],[\"Fiction\"],[\"Non Fiction\"],[\"Fiction\"],[\"Non Fiction\"],[\"Non Fiction\"],[\"Non Fiction\"],[\"Fiction\"],[\"Fiction\"],[\"Fiction\"],[\"Fiction\"],[\"Non Fiction\"],[\"Non Fiction\"],[\"Fiction\"],[\"Non Fiction\"],[\"Non Fiction\"],[\"Non Fiction\"],[\"Fiction\"],[\"Non Fiction\"],[\"Non Fiction\"],[\"Fiction\"],[\"Fiction\"],[\"Fiction\"],[\"Non Fiction\"],[\"Fiction\"],[\"Fiction\"],[\"Fiction\"],[\"Fiction\"],[\"Fiction\"],[\"Non Fiction\"],[\"Non Fiction\"],[\"Non Fiction\"],[\"Non Fiction\"],[\"Non Fiction\"],[\"Non Fiction\"],[\"Non Fiction\"],[\"Non Fiction\"],[\"Non Fiction\"],[\"Non Fiction\"],[\"Non Fiction\"],[\"Non Fiction\"],[\"Fiction\"],[\"Fiction\"],[\"Fiction\"],[\"Fiction\"],[\"Fiction\"],[\"Fiction\"],[\"Fiction\"],[\"Fiction\"],[\"Fiction\"],[\"Fiction\"],[\"Fiction\"],[\"Fiction\"],[\"Fiction\"],[\"Fiction\"],[\"Fiction\"],[\"Fiction\"],[\"Fiction\"],[\"Fiction\"],[\"Fiction\"],[\"Fiction\"],[\"Fiction\"],[\"Fiction\"],[\"Fiction\"],[\"Fiction\"],[\"Fiction\"],[\"Fiction\"],[\"Fiction\"],[\"Fiction\"],[\"Fiction\"],[\"Fiction\"],[\"Fiction\"],[\"Non Fiction\"],[\"Non Fiction\"],[\"Non Fiction\"],[\"Non Fiction\"],[\"Non Fiction\"],[\"Non Fiction\"],[\"Fiction\"],[\"Fiction\"],[\"Fiction\"],[\"Non Fiction\"],[\"Non Fiction\"],[\"Non Fiction\"],[\"Non Fiction\"],[\"Non Fiction\"],[\"Non Fiction\"],[\"Fiction\"],[\"Fiction\"],[\"Fiction\"],[\"Non Fiction\"],[\"Non Fiction\"],[\"Fiction\"],[\"Fiction\"],[\"Fiction\"],[\"Fiction\"],[\"Non Fiction\"],[\"Fiction\"],[\"Fiction\"],[\"Non Fiction\"],[\"Non Fiction\"],[\"Non Fiction\"],[\"Non Fiction\"],[\"Non Fiction\"],[\"Non Fiction\"],[\"Fiction\"],[\"Non Fiction\"],[\"Non Fiction\"],[\"Non Fiction\"],[\"Non Fiction\"],[\"Non Fiction\"],[\"Fiction\"],[\"Fiction\"],[\"Non Fiction\"],[\"Fiction\"],[\"Fiction\"],[\"Fiction\"],[\"Non Fiction\"],[\"Fiction\"],[\"Fiction\"],[\"Fiction\"],[\"Fiction\"],[\"Fiction\"],[\"Fiction\"],[\"Non Fiction\"],[\"Non Fiction\"],[\"Non Fiction\"],[\"Non Fiction\"],[\"Fiction\"],[\"Fiction\"],[\"Fiction\"],[\"Non Fiction\"],[\"Non Fiction\"],[\"Fiction\"],[\"Fiction\"],[\"Non Fiction\"],[\"Fiction\"],[\"Fiction\"],[\"Fiction\"],[\"Fiction\"],[\"Fiction\"],[\"Fiction\"],[\"Fiction\"],[\"Non Fiction\"],[\"Non Fiction\"],[\"Non Fiction\"],[\"Fiction\"],[\"Fiction\"],[\"Fiction\"],[\"Fiction\"],[\"Fiction\"],[\"Fiction\"],[\"Non Fiction\"],[\"Non Fiction\"],[\"Non Fiction\"],[\"Non Fiction\"],[\"Fiction\"],[\"Non Fiction\"],[\"Non Fiction\"],[\"Non Fiction\"],[\"Non Fiction\"],[\"Non Fiction\"],[\"Non Fiction\"],[\"Non Fiction\"],[\"Non Fiction\"],[\"Fiction\"],[\"Fiction\"],[\"Fiction\"],[\"Fiction\"],[\"Fiction\"],[\"Non Fiction\"],[\"Fiction\"],[\"Non Fiction\"],[\"Fiction\"],[\"Fiction\"],[\"Non Fiction\"],[\"Non Fiction\"],[\"Non Fiction\"],[\"Non Fiction\"],[\"Non Fiction\"],[\"Fiction\"],[\"Non Fiction\"],[\"Non Fiction\"],[\"Non Fiction\"],[\"Fiction\"],[\"Fiction\"],[\"Non Fiction\"],[\"Non Fiction\"],[\"Fiction\"],[\"Fiction\"],[\"Non Fiction\"],[\"Non Fiction\"],[\"Non Fiction\"],[\"Non Fiction\"],[\"Fiction\"],[\"Fiction\"],[\"Non Fiction\"],[\"Non Fiction\"],[\"Fiction\"],[\"Non Fiction\"],[\"Fiction\"],[\"Fiction\"],[\"Fiction\"],[\"Fiction\"],[\"Fiction\"],[\"Fiction\"],[\"Non Fiction\"],[\"Non Fiction\"],[\"Non Fiction\"],[\"Non Fiction\"]],\"domain\":{\"x\":[0.0,1.0],\"y\":[0.0,1.0]},\"hovertemplate\":\"Genre=%{customdata[0]}<extra></extra>\",\"labels\":[\"Non Fiction\",\"Fiction\",\"Non Fiction\",\"Fiction\",\"Non Fiction\",\"Fiction\",\"Fiction\",\"Fiction\",\"Non Fiction\",\"Fiction\",\"Fiction\",\"Non Fiction\",\"Non Fiction\",\"Fiction\",\"Non Fiction\",\"Non Fiction\",\"Non Fiction\",\"Non Fiction\",\"Non Fiction\",\"Non Fiction\",\"Fiction\",\"Fiction\",\"Fiction\",\"Non Fiction\",\"Fiction\",\"Non Fiction\",\"Non Fiction\",\"Non Fiction\",\"Non Fiction\",\"Non Fiction\",\"Non Fiction\",\"Non Fiction\",\"Non Fiction\",\"Non Fiction\",\"Non Fiction\",\"Non Fiction\",\"Non Fiction\",\"Non Fiction\",\"Fiction\",\"Non Fiction\",\"Fiction\",\"Fiction\",\"Fiction\",\"Non Fiction\",\"Non Fiction\",\"Non Fiction\",\"Fiction\",\"Fiction\",\"Fiction\",\"Non Fiction\",\"Non Fiction\",\"Non Fiction\",\"Non Fiction\",\"Fiction\",\"Non Fiction\",\"Non Fiction\",\"Fiction\",\"Fiction\",\"Non Fiction\",\"Non Fiction\",\"Fiction\",\"Fiction\",\"Fiction\",\"Fiction\",\"Fiction\",\"Fiction\",\"Fiction\",\"Non Fiction\",\"Non Fiction\",\"Non Fiction\",\"Non Fiction\",\"Fiction\",\"Fiction\",\"Fiction\",\"Non Fiction\",\"Fiction\",\"Fiction\",\"Fiction\",\"Non Fiction\",\"Fiction\",\"Fiction\",\"Fiction\",\"Fiction\",\"Fiction\",\"Fiction\",\"Fiction\",\"Fiction\",\"Fiction\",\"Fiction\",\"Non Fiction\",\"Non Fiction\",\"Non Fiction\",\"Non Fiction\",\"Non Fiction\",\"Non Fiction\",\"Fiction\",\"Fiction\",\"Non Fiction\",\"Non Fiction\",\"Non Fiction\",\"Fiction\",\"Fiction\",\"Fiction\",\"Non Fiction\",\"Fiction\",\"Fiction\",\"Fiction\",\"Fiction\",\"Fiction\",\"Non Fiction\",\"Non Fiction\",\"Non Fiction\",\"Non Fiction\",\"Non Fiction\",\"Non Fiction\",\"Non Fiction\",\"Fiction\",\"Non Fiction\",\"Fiction\",\"Fiction\",\"Fiction\",\"Non Fiction\",\"Non Fiction\",\"Fiction\",\"Fiction\",\"Fiction\",\"Fiction\",\"Fiction\",\"Non Fiction\",\"Non Fiction\",\"Non Fiction\",\"Non Fiction\",\"Fiction\",\"Fiction\",\"Non Fiction\",\"Fiction\",\"Fiction\",\"Fiction\",\"Non Fiction\",\"Non Fiction\",\"Non Fiction\",\"Non Fiction\",\"Non Fiction\",\"Fiction\",\"Fiction\",\"Fiction\",\"Fiction\",\"Fiction\",\"Non Fiction\",\"Fiction\",\"Non Fiction\",\"Non Fiction\",\"Non Fiction\",\"Fiction\",\"Fiction\",\"Fiction\",\"Fiction\",\"Fiction\",\"Non Fiction\",\"Fiction\",\"Non Fiction\",\"Non Fiction\",\"Non Fiction\",\"Non Fiction\",\"Non Fiction\",\"Non Fiction\",\"Non Fiction\",\"Non Fiction\",\"Non Fiction\",\"Non Fiction\",\"Non Fiction\",\"Non Fiction\",\"Non Fiction\",\"Non Fiction\",\"Non Fiction\",\"Non Fiction\",\"Non Fiction\",\"Fiction\",\"Fiction\",\"Fiction\",\"Fiction\",\"Non Fiction\",\"Fiction\",\"Fiction\",\"Non Fiction\",\"Non Fiction\",\"Non Fiction\",\"Non Fiction\",\"Non Fiction\",\"Non Fiction\",\"Non Fiction\",\"Non Fiction\",\"Non Fiction\",\"Fiction\",\"Fiction\",\"Non Fiction\",\"Non Fiction\",\"Non Fiction\",\"Non Fiction\",\"Non Fiction\",\"Non Fiction\",\"Non Fiction\",\"Non Fiction\",\"Non Fiction\",\"Non Fiction\",\"Non Fiction\",\"Non Fiction\",\"Fiction\",\"Non Fiction\",\"Non Fiction\",\"Non Fiction\",\"Non Fiction\",\"Non Fiction\",\"Non Fiction\",\"Non Fiction\",\"Non Fiction\",\"Non Fiction\",\"Non Fiction\",\"Fiction\",\"Fiction\",\"Fiction\",\"Fiction\",\"Non Fiction\",\"Fiction\",\"Fiction\",\"Non Fiction\",\"Non Fiction\",\"Non Fiction\",\"Non Fiction\",\"Non Fiction\",\"Non Fiction\",\"Non Fiction\",\"Non Fiction\",\"Non Fiction\",\"Non Fiction\",\"Non Fiction\",\"Fiction\",\"Fiction\",\"Fiction\",\"Non Fiction\",\"Non Fiction\",\"Fiction\",\"Non Fiction\",\"Non Fiction\",\"Non Fiction\",\"Fiction\",\"Fiction\",\"Fiction\",\"Fiction\",\"Fiction\",\"Fiction\",\"Fiction\",\"Fiction\",\"Fiction\",\"Fiction\",\"Non Fiction\",\"Non Fiction\",\"Non Fiction\",\"Fiction\",\"Fiction\",\"Non Fiction\",\"Non Fiction\",\"Non Fiction\",\"Non Fiction\",\"Fiction\",\"Fiction\",\"Fiction\",\"Fiction\",\"Fiction\",\"Non Fiction\",\"Non Fiction\",\"Non Fiction\",\"Non Fiction\",\"Non Fiction\",\"Non Fiction\",\"Non Fiction\",\"Non Fiction\",\"Non Fiction\",\"Non Fiction\",\"Non Fiction\",\"Non Fiction\",\"Fiction\",\"Non Fiction\",\"Non Fiction\",\"Non Fiction\",\"Non Fiction\",\"Fiction\",\"Fiction\",\"Fiction\",\"Fiction\",\"Non Fiction\",\"Non Fiction\",\"Fiction\",\"Non Fiction\",\"Non Fiction\",\"Non Fiction\",\"Non Fiction\",\"Non Fiction\",\"Non Fiction\",\"Fiction\",\"Non Fiction\",\"Non Fiction\",\"Non Fiction\",\"Fiction\",\"Non Fiction\",\"Non Fiction\",\"Non Fiction\",\"Non Fiction\",\"Non Fiction\",\"Non Fiction\",\"Non Fiction\",\"Non Fiction\",\"Non Fiction\",\"Non Fiction\",\"Non Fiction\",\"Fiction\",\"Non Fiction\",\"Non Fiction\",\"Non Fiction\",\"Non Fiction\",\"Non Fiction\",\"Non Fiction\",\"Non Fiction\",\"Non Fiction\",\"Non Fiction\",\"Non Fiction\",\"Non Fiction\",\"Non Fiction\",\"Non Fiction\",\"Non Fiction\",\"Non Fiction\",\"Non Fiction\",\"Non Fiction\",\"Non Fiction\",\"Non Fiction\",\"Non Fiction\",\"Non Fiction\",\"Non Fiction\",\"Fiction\",\"Non Fiction\",\"Fiction\",\"Fiction\",\"Non Fiction\",\"Fiction\",\"Non Fiction\",\"Non Fiction\",\"Non Fiction\",\"Fiction\",\"Fiction\",\"Fiction\",\"Fiction\",\"Non Fiction\",\"Non Fiction\",\"Fiction\",\"Non Fiction\",\"Non Fiction\",\"Non Fiction\",\"Fiction\",\"Non Fiction\",\"Non Fiction\",\"Fiction\",\"Fiction\",\"Fiction\",\"Non Fiction\",\"Fiction\",\"Fiction\",\"Fiction\",\"Fiction\",\"Fiction\",\"Non Fiction\",\"Non Fiction\",\"Non Fiction\",\"Non Fiction\",\"Non Fiction\",\"Non Fiction\",\"Non Fiction\",\"Non Fiction\",\"Non Fiction\",\"Non Fiction\",\"Non Fiction\",\"Non Fiction\",\"Fiction\",\"Fiction\",\"Fiction\",\"Fiction\",\"Fiction\",\"Fiction\",\"Fiction\",\"Fiction\",\"Fiction\",\"Fiction\",\"Fiction\",\"Fiction\",\"Fiction\",\"Fiction\",\"Fiction\",\"Fiction\",\"Fiction\",\"Fiction\",\"Fiction\",\"Fiction\",\"Fiction\",\"Fiction\",\"Fiction\",\"Fiction\",\"Fiction\",\"Fiction\",\"Fiction\",\"Fiction\",\"Fiction\",\"Fiction\",\"Fiction\",\"Non Fiction\",\"Non Fiction\",\"Non Fiction\",\"Non Fiction\",\"Non Fiction\",\"Non Fiction\",\"Fiction\",\"Fiction\",\"Fiction\",\"Non Fiction\",\"Non Fiction\",\"Non Fiction\",\"Non Fiction\",\"Non Fiction\",\"Non Fiction\",\"Fiction\",\"Fiction\",\"Fiction\",\"Non Fiction\",\"Non Fiction\",\"Fiction\",\"Fiction\",\"Fiction\",\"Fiction\",\"Non Fiction\",\"Fiction\",\"Fiction\",\"Non Fiction\",\"Non Fiction\",\"Non Fiction\",\"Non Fiction\",\"Non Fiction\",\"Non Fiction\",\"Fiction\",\"Non Fiction\",\"Non Fiction\",\"Non Fiction\",\"Non Fiction\",\"Non Fiction\",\"Fiction\",\"Fiction\",\"Non Fiction\",\"Fiction\",\"Fiction\",\"Fiction\",\"Non Fiction\",\"Fiction\",\"Fiction\",\"Fiction\",\"Fiction\",\"Fiction\",\"Fiction\",\"Non Fiction\",\"Non Fiction\",\"Non Fiction\",\"Non Fiction\",\"Fiction\",\"Fiction\",\"Fiction\",\"Non Fiction\",\"Non Fiction\",\"Fiction\",\"Fiction\",\"Non Fiction\",\"Fiction\",\"Fiction\",\"Fiction\",\"Fiction\",\"Fiction\",\"Fiction\",\"Fiction\",\"Non Fiction\",\"Non Fiction\",\"Non Fiction\",\"Fiction\",\"Fiction\",\"Fiction\",\"Fiction\",\"Fiction\",\"Fiction\",\"Non Fiction\",\"Non Fiction\",\"Non Fiction\",\"Non Fiction\",\"Fiction\",\"Non Fiction\",\"Non Fiction\",\"Non Fiction\",\"Non Fiction\",\"Non Fiction\",\"Non Fiction\",\"Non Fiction\",\"Non Fiction\",\"Fiction\",\"Fiction\",\"Fiction\",\"Fiction\",\"Fiction\",\"Non Fiction\",\"Fiction\",\"Non Fiction\",\"Fiction\",\"Fiction\",\"Non Fiction\",\"Non Fiction\",\"Non Fiction\",\"Non Fiction\",\"Non Fiction\",\"Fiction\",\"Non Fiction\",\"Non Fiction\",\"Non Fiction\",\"Fiction\",\"Fiction\",\"Non Fiction\",\"Non Fiction\",\"Fiction\",\"Fiction\",\"Non Fiction\",\"Non Fiction\",\"Non Fiction\",\"Non Fiction\",\"Fiction\",\"Fiction\",\"Non Fiction\",\"Non Fiction\",\"Fiction\",\"Non Fiction\",\"Fiction\",\"Fiction\",\"Fiction\",\"Fiction\",\"Fiction\",\"Fiction\",\"Non Fiction\",\"Non Fiction\",\"Non Fiction\",\"Non Fiction\"],\"legendgroup\":\"\",\"name\":\"\",\"showlegend\":true,\"textinfo\":\"percent+label\",\"textposition\":\"inside\",\"type\":\"pie\"}],                        {\"height\":400,\"legend\":{\"tracegroupgap\":0},\"template\":{\"data\":{\"bar\":[{\"error_x\":{\"color\":\"#2a3f5f\"},\"error_y\":{\"color\":\"#2a3f5f\"},\"marker\":{\"line\":{\"color\":\"#E5ECF6\",\"width\":0.5},\"pattern\":{\"fillmode\":\"overlay\",\"size\":10,\"solidity\":0.2}},\"type\":\"bar\"}],\"barpolar\":[{\"marker\":{\"line\":{\"color\":\"#E5ECF6\",\"width\":0.5},\"pattern\":{\"fillmode\":\"overlay\",\"size\":10,\"solidity\":0.2}},\"type\":\"barpolar\"}],\"carpet\":[{\"aaxis\":{\"endlinecolor\":\"#2a3f5f\",\"gridcolor\":\"white\",\"linecolor\":\"white\",\"minorgridcolor\":\"white\",\"startlinecolor\":\"#2a3f5f\"},\"baxis\":{\"endlinecolor\":\"#2a3f5f\",\"gridcolor\":\"white\",\"linecolor\":\"white\",\"minorgridcolor\":\"white\",\"startlinecolor\":\"#2a3f5f\"},\"type\":\"carpet\"}],\"choropleth\":[{\"colorbar\":{\"outlinewidth\":0,\"ticks\":\"\"},\"type\":\"choropleth\"}],\"contour\":[{\"colorbar\":{\"outlinewidth\":0,\"ticks\":\"\"},\"colorscale\":[[0.0,\"#0d0887\"],[0.1111111111111111,\"#46039f\"],[0.2222222222222222,\"#7201a8\"],[0.3333333333333333,\"#9c179e\"],[0.4444444444444444,\"#bd3786\"],[0.5555555555555556,\"#d8576b\"],[0.6666666666666666,\"#ed7953\"],[0.7777777777777778,\"#fb9f3a\"],[0.8888888888888888,\"#fdca26\"],[1.0,\"#f0f921\"]],\"type\":\"contour\"}],\"contourcarpet\":[{\"colorbar\":{\"outlinewidth\":0,\"ticks\":\"\"},\"type\":\"contourcarpet\"}],\"heatmap\":[{\"colorbar\":{\"outlinewidth\":0,\"ticks\":\"\"},\"colorscale\":[[0.0,\"#0d0887\"],[0.1111111111111111,\"#46039f\"],[0.2222222222222222,\"#7201a8\"],[0.3333333333333333,\"#9c179e\"],[0.4444444444444444,\"#bd3786\"],[0.5555555555555556,\"#d8576b\"],[0.6666666666666666,\"#ed7953\"],[0.7777777777777778,\"#fb9f3a\"],[0.8888888888888888,\"#fdca26\"],[1.0,\"#f0f921\"]],\"type\":\"heatmap\"}],\"heatmapgl\":[{\"colorbar\":{\"outlinewidth\":0,\"ticks\":\"\"},\"colorscale\":[[0.0,\"#0d0887\"],[0.1111111111111111,\"#46039f\"],[0.2222222222222222,\"#7201a8\"],[0.3333333333333333,\"#9c179e\"],[0.4444444444444444,\"#bd3786\"],[0.5555555555555556,\"#d8576b\"],[0.6666666666666666,\"#ed7953\"],[0.7777777777777778,\"#fb9f3a\"],[0.8888888888888888,\"#fdca26\"],[1.0,\"#f0f921\"]],\"type\":\"heatmapgl\"}],\"histogram\":[{\"marker\":{\"pattern\":{\"fillmode\":\"overlay\",\"size\":10,\"solidity\":0.2}},\"type\":\"histogram\"}],\"histogram2d\":[{\"colorbar\":{\"outlinewidth\":0,\"ticks\":\"\"},\"colorscale\":[[0.0,\"#0d0887\"],[0.1111111111111111,\"#46039f\"],[0.2222222222222222,\"#7201a8\"],[0.3333333333333333,\"#9c179e\"],[0.4444444444444444,\"#bd3786\"],[0.5555555555555556,\"#d8576b\"],[0.6666666666666666,\"#ed7953\"],[0.7777777777777778,\"#fb9f3a\"],[0.8888888888888888,\"#fdca26\"],[1.0,\"#f0f921\"]],\"type\":\"histogram2d\"}],\"histogram2dcontour\":[{\"colorbar\":{\"outlinewidth\":0,\"ticks\":\"\"},\"colorscale\":[[0.0,\"#0d0887\"],[0.1111111111111111,\"#46039f\"],[0.2222222222222222,\"#7201a8\"],[0.3333333333333333,\"#9c179e\"],[0.4444444444444444,\"#bd3786\"],[0.5555555555555556,\"#d8576b\"],[0.6666666666666666,\"#ed7953\"],[0.7777777777777778,\"#fb9f3a\"],[0.8888888888888888,\"#fdca26\"],[1.0,\"#f0f921\"]],\"type\":\"histogram2dcontour\"}],\"mesh3d\":[{\"colorbar\":{\"outlinewidth\":0,\"ticks\":\"\"},\"type\":\"mesh3d\"}],\"parcoords\":[{\"line\":{\"colorbar\":{\"outlinewidth\":0,\"ticks\":\"\"}},\"type\":\"parcoords\"}],\"pie\":[{\"automargin\":true,\"type\":\"pie\"}],\"scatter\":[{\"marker\":{\"colorbar\":{\"outlinewidth\":0,\"ticks\":\"\"}},\"type\":\"scatter\"}],\"scatter3d\":[{\"line\":{\"colorbar\":{\"outlinewidth\":0,\"ticks\":\"\"}},\"marker\":{\"colorbar\":{\"outlinewidth\":0,\"ticks\":\"\"}},\"type\":\"scatter3d\"}],\"scattercarpet\":[{\"marker\":{\"colorbar\":{\"outlinewidth\":0,\"ticks\":\"\"}},\"type\":\"scattercarpet\"}],\"scattergeo\":[{\"marker\":{\"colorbar\":{\"outlinewidth\":0,\"ticks\":\"\"}},\"type\":\"scattergeo\"}],\"scattergl\":[{\"marker\":{\"colorbar\":{\"outlinewidth\":0,\"ticks\":\"\"}},\"type\":\"scattergl\"}],\"scattermapbox\":[{\"marker\":{\"colorbar\":{\"outlinewidth\":0,\"ticks\":\"\"}},\"type\":\"scattermapbox\"}],\"scatterpolar\":[{\"marker\":{\"colorbar\":{\"outlinewidth\":0,\"ticks\":\"\"}},\"type\":\"scatterpolar\"}],\"scatterpolargl\":[{\"marker\":{\"colorbar\":{\"outlinewidth\":0,\"ticks\":\"\"}},\"type\":\"scatterpolargl\"}],\"scatterternary\":[{\"marker\":{\"colorbar\":{\"outlinewidth\":0,\"ticks\":\"\"}},\"type\":\"scatterternary\"}],\"surface\":[{\"colorbar\":{\"outlinewidth\":0,\"ticks\":\"\"},\"colorscale\":[[0.0,\"#0d0887\"],[0.1111111111111111,\"#46039f\"],[0.2222222222222222,\"#7201a8\"],[0.3333333333333333,\"#9c179e\"],[0.4444444444444444,\"#bd3786\"],[0.5555555555555556,\"#d8576b\"],[0.6666666666666666,\"#ed7953\"],[0.7777777777777778,\"#fb9f3a\"],[0.8888888888888888,\"#fdca26\"],[1.0,\"#f0f921\"]],\"type\":\"surface\"}],\"table\":[{\"cells\":{\"fill\":{\"color\":\"#EBF0F8\"},\"line\":{\"color\":\"white\"}},\"header\":{\"fill\":{\"color\":\"#C8D4E3\"},\"line\":{\"color\":\"white\"}},\"type\":\"table\"}]},\"layout\":{\"annotationdefaults\":{\"arrowcolor\":\"#2a3f5f\",\"arrowhead\":0,\"arrowwidth\":1},\"autotypenumbers\":\"strict\",\"coloraxis\":{\"colorbar\":{\"outlinewidth\":0,\"ticks\":\"\"}},\"colorscale\":{\"diverging\":[[0,\"#8e0152\"],[0.1,\"#c51b7d\"],[0.2,\"#de77ae\"],[0.3,\"#f1b6da\"],[0.4,\"#fde0ef\"],[0.5,\"#f7f7f7\"],[0.6,\"#e6f5d0\"],[0.7,\"#b8e186\"],[0.8,\"#7fbc41\"],[0.9,\"#4d9221\"],[1,\"#276419\"]],\"sequential\":[[0.0,\"#0d0887\"],[0.1111111111111111,\"#46039f\"],[0.2222222222222222,\"#7201a8\"],[0.3333333333333333,\"#9c179e\"],[0.4444444444444444,\"#bd3786\"],[0.5555555555555556,\"#d8576b\"],[0.6666666666666666,\"#ed7953\"],[0.7777777777777778,\"#fb9f3a\"],[0.8888888888888888,\"#fdca26\"],[1.0,\"#f0f921\"]],\"sequentialminus\":[[0.0,\"#0d0887\"],[0.1111111111111111,\"#46039f\"],[0.2222222222222222,\"#7201a8\"],[0.3333333333333333,\"#9c179e\"],[0.4444444444444444,\"#bd3786\"],[0.5555555555555556,\"#d8576b\"],[0.6666666666666666,\"#ed7953\"],[0.7777777777777778,\"#fb9f3a\"],[0.8888888888888888,\"#fdca26\"],[1.0,\"#f0f921\"]]},\"colorway\":[\"#636efa\",\"#EF553B\",\"#00cc96\",\"#ab63fa\",\"#FFA15A\",\"#19d3f3\",\"#FF6692\",\"#B6E880\",\"#FF97FF\",\"#FECB52\"],\"font\":{\"color\":\"#2a3f5f\"},\"geo\":{\"bgcolor\":\"white\",\"lakecolor\":\"white\",\"landcolor\":\"#E5ECF6\",\"showlakes\":true,\"showland\":true,\"subunitcolor\":\"white\"},\"hoverlabel\":{\"align\":\"left\"},\"hovermode\":\"closest\",\"mapbox\":{\"style\":\"light\"},\"paper_bgcolor\":\"white\",\"plot_bgcolor\":\"#E5ECF6\",\"polar\":{\"angularaxis\":{\"gridcolor\":\"white\",\"linecolor\":\"white\",\"ticks\":\"\"},\"bgcolor\":\"#E5ECF6\",\"radialaxis\":{\"gridcolor\":\"white\",\"linecolor\":\"white\",\"ticks\":\"\"}},\"scene\":{\"xaxis\":{\"backgroundcolor\":\"#E5ECF6\",\"gridcolor\":\"white\",\"gridwidth\":2,\"linecolor\":\"white\",\"showbackground\":true,\"ticks\":\"\",\"zerolinecolor\":\"white\"},\"yaxis\":{\"backgroundcolor\":\"#E5ECF6\",\"gridcolor\":\"white\",\"gridwidth\":2,\"linecolor\":\"white\",\"showbackground\":true,\"ticks\":\"\",\"zerolinecolor\":\"white\"},\"zaxis\":{\"backgroundcolor\":\"#E5ECF6\",\"gridcolor\":\"white\",\"gridwidth\":2,\"linecolor\":\"white\",\"showbackground\":true,\"ticks\":\"\",\"zerolinecolor\":\"white\"}},\"shapedefaults\":{\"line\":{\"color\":\"#2a3f5f\"}},\"ternary\":{\"aaxis\":{\"gridcolor\":\"white\",\"linecolor\":\"white\",\"ticks\":\"\"},\"baxis\":{\"gridcolor\":\"white\",\"linecolor\":\"white\",\"ticks\":\"\"},\"bgcolor\":\"#E5ECF6\",\"caxis\":{\"gridcolor\":\"white\",\"linecolor\":\"white\",\"ticks\":\"\"}},\"title\":{\"x\":0.05},\"xaxis\":{\"automargin\":true,\"gridcolor\":\"white\",\"linecolor\":\"white\",\"ticks\":\"\",\"title\":{\"standoff\":15},\"zerolinecolor\":\"white\",\"zerolinewidth\":2},\"yaxis\":{\"automargin\":true,\"gridcolor\":\"white\",\"linecolor\":\"white\",\"ticks\":\"\",\"title\":{\"standoff\":15},\"zerolinecolor\":\"white\",\"zerolinewidth\":2}}},\"title\":{\"text\":\"Share Of Different Geners in Dataset\"},\"width\":500},                        {\"responsive\": true}                    ).then(function(){\n",
       "                            \n",
       "var gd = document.getElementById('a62f3cbf-da93-4782-805f-1108af6cec15');\n",
       "var x = new MutationObserver(function (mutations, observer) {{\n",
       "        var display = window.getComputedStyle(gd).display;\n",
       "        if (!display || display === 'none') {{\n",
       "            console.log([gd, 'removed!']);\n",
       "            Plotly.purge(gd);\n",
       "            observer.disconnect();\n",
       "        }}\n",
       "}});\n",
       "\n",
       "// Listen for the removal of the full notebook cells\n",
       "var notebookContainer = gd.closest('#notebook-container');\n",
       "if (notebookContainer) {{\n",
       "    x.observe(notebookContainer, {childList: true});\n",
       "}}\n",
       "\n",
       "// Listen for the clearing of the current output cell\n",
       "var outputEl = gd.closest('.output');\n",
       "if (outputEl) {{\n",
       "    x.observe(outputEl, {childList: true});\n",
       "}}\n",
       "\n",
       "                        })                };                });            </script>        </div>"
      ]
     },
     "metadata": {},
     "output_type": "display_data"
    }
   ],
   "source": [
    "fig = px.pie(bestsellers_df,names='Genre',title='Share Of Different Geners in Dataset',hover_data=['Genre'],width=500, height=400)\n",
    "fig.update_traces(textposition='inside', textinfo='percent+label')\n",
    "fig.show()"
   ]
  },
  {
   "cell_type": "code",
   "execution_count": 39,
   "metadata": {},
   "outputs": [
    {
     "name": "stderr",
     "output_type": "stream",
     "text": [
      "C:\\Users\\sai20\\anaconda3\\envs\\untitled1\\lib\\site-packages\\seaborn\\_decorators.py:43: FutureWarning:\n",
      "\n",
      "Pass the following variables as keyword args: x, y. From version 0.12, the only valid positional argument will be `data`, and passing other arguments without an explicit keyword will result in an error or misinterpretation.\n",
      "\n",
      "C:\\Users\\sai20\\anaconda3\\envs\\untitled1\\lib\\site-packages\\seaborn\\_decorators.py:43: FutureWarning:\n",
      "\n",
      "Pass the following variables as keyword args: x, y. From version 0.12, the only valid positional argument will be `data`, and passing other arguments without an explicit keyword will result in an error or misinterpretation.\n",
      "\n"
     ]
    },
    {
     "data": {
      "text/plain": [
       "<AxesSubplot:xlabel='User Rating', ylabel='Price'>"
      ]
     },
     "execution_count": 39,
     "metadata": {},
     "output_type": "execute_result"
    },
    {
     "data": {
      "image/png": "[encoded data removed]",
      "text/plain": [
       "<Figure size 504x432 with 2 Axes>"
      ]
     },
     "metadata": {
      "needs_background": "light"
     },
     "output_type": "display_data"
    }
   ],
   "source": [
    "plt.figure(figsize=(7,6))\n",
    "plt.subplot(2,1,1)\n",
    "sns.scatterplot(bestsellers_df['Price'],bestsellers_df['Reviews'],hue=bestsellers_df['Genre'])\n",
    "plt.subplot(2,1,2)\n",
    "sns.violinplot(bestsellers_df['User Rating'],bestsellers_df['Price'],hue=bestsellers_df['Genre'],split=True,palette='Blues')"
   ]
  },
  {
   "cell_type": "code",
   "execution_count": 40,
   "metadata": {},
   "outputs": [
    {
     "data": {
      "text/plain": [
       "<AxesSubplot:title={'center':'Price changes Of Each Genre Over The Years'}, xlabel='Year', ylabel='Genre'>"
      ]
     },
     "execution_count": 40,
     "metadata": {},
     "output_type": "execute_result"
    },
    {
     "data": {
      "image/png": "[encoded data removed]",
      "text/plain": [
       "<Figure size 720x360 with 2 Axes>"
      ]
     },
     "metadata": {
      "needs_background": "light"
     },
     "output_type": "display_data"
    }
   ],
   "source": [
    "plt.figure(figsize=(10,5))\n",
    "pivot = bestsellers_df.pivot_table(values='Price',columns='Year',index='Genre')\n",
    "plt.title('Price changes Of Each Genre Over The Years')\n",
    "sns.heatmap(pivot,annot=True)"
   ]
  },
  {
   "cell_type": "code",
   "execution_count": 41,
   "metadata": {},
   "outputs": [
    {
     "name": "stderr",
     "output_type": "stream",
     "text": [
      "C:\\Users\\sai20\\anaconda3\\envs\\untitled1\\lib\\site-packages\\seaborn\\distributions.py:2557: FutureWarning:\n",
      "\n",
      "`distplot` is a deprecated function and will be removed in a future version. Please adapt your code to use either `displot` (a figure-level function with similar flexibility) or `histplot` (an axes-level function for histograms).\n",
      "\n"
     ]
    },
    {
     "data": {
      "image/png": "[encoded data removed]",
      "text/plain": [
       "<Figure size 432x216 with 1 Axes>"
      ]
     },
     "metadata": {
      "needs_background": "light"
     },
     "output_type": "display_data"
    }
   ],
   "source": [
    "plt.figure(figsize=(6,3))\n",
    "ax =sns.distplot(bestsellers_df['User Rating'],bins=15)\n",
    "ax.set_title('Distribution of ratings across the dataset',fontsize=19)\n",
    "plt.show()"
   ]
  },
  {
   "cell_type": "code",
   "execution_count": 42,
   "metadata": {},
   "outputs": [
    {
     "name": "stderr",
     "output_type": "stream",
     "text": [
      "C:\\Users\\sai20\\anaconda3\\envs\\untitled1\\lib\\site-packages\\seaborn\\distributions.py:2557: FutureWarning:\n",
      "\n",
      "`distplot` is a deprecated function and will be removed in a future version. Please adapt your code to use either `displot` (a figure-level function with similar flexibility) or `histplot` (an axes-level function for histograms).\n",
      "\n"
     ]
    },
    {
     "data": {
      "image/png": "[encoded data removed]",
      "text/plain": [
       "<Figure size 432x216 with 1 Axes>"
      ]
     },
     "metadata": {
      "needs_background": "light"
     },
     "output_type": "display_data"
    }
   ],
   "source": [
    "plt.figure(figsize=(6,3))\n",
    "ax =sns.distplot(bestsellers_df['Price'],color='red')\n",
    "ax.set_title('Distribution of prices across the dataset',fontsize=19)\n",
    "plt.show()"
   ]
  },
  {
   "cell_type": "code",
   "execution_count": 43,
   "metadata": {},
   "outputs": [
    {
     "name": "stderr",
     "output_type": "stream",
     "text": [
      "C:\\Users\\sai20\\anaconda3\\envs\\untitled1\\lib\\site-packages\\seaborn\\distributions.py:2557: FutureWarning:\n",
      "\n",
      "`distplot` is a deprecated function and will be removed in a future version. Please adapt your code to use either `displot` (a figure-level function with similar flexibility) or `histplot` (an axes-level function for histograms).\n",
      "\n"
     ]
    },
    {
     "data": {
      "image/png": "[encoded data removed]",
      "text/plain": [
       "<Figure size 432x216 with 1 Axes>"
      ]
     },
     "metadata": {
      "needs_background": "light"
     },
     "output_type": "display_data"
    }
   ],
   "source": [
    "plt.figure(figsize=(6,3))\n",
    "ax =sns.distplot(bestsellers_df['Reviews'],color='teal')\n",
    "ax.set_title('Distribution of review counts across the dataset',fontsize=19)\n",
    "plt.show()"
   ]
  },
  {
   "cell_type": "code",
   "execution_count": 44,
   "metadata": {},
   "outputs": [
    {
     "data": {
      "application/vnd.plotly.v1+json": {
       "config": {
        "plotlyServerURL": "https://plot.ly"
       },
       "data": [
        {
         "name": "Mean",
         "type": "scatter",
         "x": [
          2009,
          2010,
          2011,
          2012,
          2013,
          2014,
          2015,
          2016,
          2017,
          2018,
          2019
         ],
         "y": [
          15.4,
          13.48,
          15.1,
          15.3,
          14.6,
          14.64,
          10.42,
          13.18,
          11.38,
          10.52,
          10.08
         ]
        },
        {
         "name": "Median",
         "type": "scatter",
         "x": [
          2009,
          2010,
          2011,
          2012,
          2013,
          2014,
          2015,
          2016,
          2017,
          2018,
          2019
         ],
         "y": [
          12,
          12.5,
          13,
          13,
          12.5,
          10,
          9,
          9,
          9,
          8,
          10
         ]
        }
       ],
       "layout": {
        "autosize": false,
        "height": 400,
        "template": {
         "data": {
          "bar": [
           {
            "error_x": {
             "color": "#2a3f5f"
            },
            "error_y": {
             "color": "#2a3f5f"
            },
            "marker": {
             "line": {
              "color": "#E5ECF6",
              "width": 0.5
             },
             "pattern": {
              "fillmode": "overlay",
              "size": 10,
              "solidity": 0.2
             }
            },
            "type": "bar"
           }
          ],
          "barpolar": [
           {
            "marker": {
             "line": {
              "color": "#E5ECF6",
              "width": 0.5
             },
             "pattern": {
              "fillmode": "overlay",
              "size": 10,
              "solidity": 0.2
             }
            },
            "type": "barpolar"
           }
          ],
          "carpet": [
           {
            "aaxis": {
             "endlinecolor": "#2a3f5f",
             "gridcolor": "white",
             "linecolor": "white",
             "minorgridcolor": "white",
             "startlinecolor": "#2a3f5f"
            },
            "baxis": {
             "endlinecolor": "#2a3f5f",
             "gridcolor": "white",
             "linecolor": "white",
             "minorgridcolor": "white",
             "startlinecolor": "#2a3f5f"
            },
            "type": "carpet"
           }
          ],
          "choropleth": [
           {
            "colorbar": {
             "outlinewidth": 0,
             "ticks": ""
            },
            "type": "choropleth"
           }
          ],
          "contour": [
           {
            "colorbar": {
             "outlinewidth": 0,
             "ticks": ""
            },
            "colorscale": [
             [
              0,
              "#0d0887"
             ],
             [
              0.1111111111111111,
              "#46039f"
             ],
             [
              0.2222222222222222,
              "#7201a8"
             ],
             [
              0.3333333333333333,
              "#9c179e"
             ],
             [
              0.4444444444444444,
              "#bd3786"
             ],
             [
              0.5555555555555556,
              "#d8576b"
             ],
             [
              0.6666666666666666,
              "#ed7953"
             ],
             [
              0.7777777777777778,
              "#fb9f3a"
             ],
             [
              0.8888888888888888,
              "#fdca26"
             ],
             [
              1,
              "#f0f921"
             ]
            ],
            "type": "contour"
           }
          ],
          "contourcarpet": [
           {
            "colorbar": {
             "outlinewidth": 0,
             "ticks": ""
            },
            "type": "contourcarpet"
           }
          ],
          "heatmap": [
           {
            "colorbar": {
             "outlinewidth": 0,
             "ticks": ""
            },
            "colorscale": [
             [
              0,
              "#0d0887"
             ],
             [
              0.1111111111111111,
              "#46039f"
             ],
             [
              0.2222222222222222,
              "#7201a8"
             ],
             [
              0.3333333333333333,
              "#9c179e"
             ],
             [
              0.4444444444444444,
              "#bd3786"
             ],
             [
              0.5555555555555556,
              "#d8576b"
             ],
             [
              0.6666666666666666,
              "#ed7953"
             ],
             [
              0.7777777777777778,
              "#fb9f3a"
             ],
             [
              0.8888888888888888,
              "#fdca26"
             ],
             [
              1,
              "#f0f921"
             ]
            ],
            "type": "heatmap"
           }
          ],
          "heatmapgl": [
           {
            "colorbar": {
             "outlinewidth": 0,
             "ticks": ""
            },
            "colorscale": [
             [
              0,
              "#0d0887"
             ],
             [
              0.1111111111111111,
              "#46039f"
             ],
             [
              0.2222222222222222,
              "#7201a8"
             ],
             [
              0.3333333333333333,
              "#9c179e"
             ],
             [
              0.4444444444444444,
              "#bd3786"
             ],
             [
              0.5555555555555556,
              "#d8576b"
             ],
             [
              0.6666666666666666,
              "#ed7953"
             ],
             [
              0.7777777777777778,
              "#fb9f3a"
             ],
             [
              0.8888888888888888,
              "#fdca26"
             ],
             [
              1,
              "#f0f921"
             ]
            ],
            "type": "heatmapgl"
           }
          ],
          "histogram": [
           {
            "marker": {
             "pattern": {
              "fillmode": "overlay",
              "size": 10,
              "solidity": 0.2
             }
            },
            "type": "histogram"
           }
          ],
          "histogram2d": [
           {
            "colorbar": {
             "outlinewidth": 0,
             "ticks": ""
            },
            "colorscale": [
             [
              0,
              "#0d0887"
             ],
             [
              0.1111111111111111,
              "#46039f"
             ],
             [
              0.2222222222222222,
              "#7201a8"
             ],
             [
              0.3333333333333333,
              "#9c179e"
             ],
             [
              0.4444444444444444,
              "#bd3786"
             ],
             [
              0.5555555555555556,
              "#d8576b"
             ],
             [
              0.6666666666666666,
              "#ed7953"
             ],
             [
              0.7777777777777778,
              "#fb9f3a"
             ],
             [
              0.8888888888888888,
              "#fdca26"
             ],
             [
              1,
              "#f0f921"
             ]
            ],
            "type": "histogram2d"
           }
          ],
          "histogram2dcontour": [
           {
            "colorbar": {
             "outlinewidth": 0,
             "ticks": ""
            },
            "colorscale": [
             [
              0,
              "#0d0887"
             ],
             [
              0.1111111111111111,
              "#46039f"
             ],
             [
              0.2222222222222222,
              "#7201a8"
             ],
             [
              0.3333333333333333,
              "#9c179e"
             ],
             [
              0.4444444444444444,
              "#bd3786"
             ],
             [
              0.5555555555555556,
              "#d8576b"
             ],
             [
              0.6666666666666666,
              "#ed7953"
             ],
             [
              0.7777777777777778,
              "#fb9f3a"
             ],
             [
              0.8888888888888888,
              "#fdca26"
             ],
             [
              1,
              "#f0f921"
             ]
            ],
            "type": "histogram2dcontour"
           }
          ],
          "mesh3d": [
           {
            "colorbar": {
             "outlinewidth": 0,
             "ticks": ""
            },
            "type": "mesh3d"
           }
          ],
          "parcoords": [
           {
            "line": {
             "colorbar": {
              "outlinewidth": 0,
              "ticks": ""
             }
            },
            "type": "parcoords"
           }
          ],
          "pie": [
           {
            "automargin": true,
            "type": "pie"
           }
          ],
          "scatter": [
           {
            "marker": {
             "colorbar": {
              "outlinewidth": 0,
              "ticks": ""
             }
            },
            "type": "scatter"
           }
          ],
          "scatter3d": [
           {
            "line": {
             "colorbar": {
              "outlinewidth": 0,
              "ticks": ""
             }
            },
            "marker": {
             "colorbar": {
              "outlinewidth": 0,
              "ticks": ""
             }
            },
            "type": "scatter3d"
           }
          ],
          "scattercarpet": [
           {
            "marker": {
             "colorbar": {
              "outlinewidth": 0,
              "ticks": ""
             }
            },
            "type": "scattercarpet"
           }
          ],
          "scattergeo": [
           {
            "marker": {
             "colorbar": {
              "outlinewidth": 0,
              "ticks": ""
             }
            },
            "type": "scattergeo"
           }
          ],
          "scattergl": [
           {
            "marker": {
             "colorbar": {
              "outlinewidth": 0,
              "ticks": ""
             }
            },
            "type": "scattergl"
           }
          ],
          "scattermapbox": [
           {
            "marker": {
             "colorbar": {
              "outlinewidth": 0,
              "ticks": ""
             }
            },
            "type": "scattermapbox"
           }
          ],
          "scatterpolar": [
           {
            "marker": {
             "colorbar": {
              "outlinewidth": 0,
              "ticks": ""
             }
            },
            "type": "scatterpolar"
           }
          ],
          "scatterpolargl": [
           {
            "marker": {
             "colorbar": {
              "outlinewidth": 0,
              "ticks": ""
             }
            },
            "type": "scatterpolargl"
           }
          ],
          "scatterternary": [
           {
            "marker": {
             "colorbar": {
              "outlinewidth": 0,
              "ticks": ""
             }
            },
            "type": "scatterternary"
           }
          ],
          "surface": [
           {
            "colorbar": {
             "outlinewidth": 0,
             "ticks": ""
            },
            "colorscale": [
             [
              0,
              "#0d0887"
             ],
             [
              0.1111111111111111,
              "#46039f"
             ],
             [
              0.2222222222222222,
              "#7201a8"
             ],
             [
              0.3333333333333333,
              "#9c179e"
             ],
             [
              0.4444444444444444,
              "#bd3786"
             ],
             [
              0.5555555555555556,
              "#d8576b"
             ],
             [
              0.6666666666666666,
              "#ed7953"
             ],
             [
              0.7777777777777778,
              "#fb9f3a"
             ],
             [
              0.8888888888888888,
              "#fdca26"
             ],
             [
              1,
              "#f0f921"
             ]
            ],
            "type": "surface"
           }
          ],
          "table": [
           {
            "cells": {
             "fill": {
              "color": "#EBF0F8"
             },
             "line": {
              "color": "white"
             }
            },
            "header": {
             "fill": {
              "color": "#C8D4E3"
             },
             "line": {
              "color": "white"
             }
            },
            "type": "table"
           }
          ]
         },
         "layout": {
          "annotationdefaults": {
           "arrowcolor": "#2a3f5f",
           "arrowhead": 0,
           "arrowwidth": 1
          },
          "autotypenumbers": "strict",
          "coloraxis": {
           "colorbar": {
            "outlinewidth": 0,
            "ticks": ""
           }
          },
          "colorscale": {
           "diverging": [
            [
             0,
             "#8e0152"
            ],
            [
             0.1,
             "#c51b7d"
            ],
            [
             0.2,
             "#de77ae"
            ],
            [
             0.3,
             "#f1b6da"
            ],
            [
             0.4,
             "#fde0ef"
            ],
            [
             0.5,
             "#f7f7f7"
            ],
            [
             0.6,
             "#e6f5d0"
            ],
            [
             0.7,
             "#b8e186"
            ],
            [
             0.8,
             "#7fbc41"
            ],
            [
             0.9,
             "#4d9221"
            ],
            [
             1,
             "#276419"
            ]
           ],
           "sequential": [
            [
             0,
             "#0d0887"
            ],
            [
             0.1111111111111111,
             "#46039f"
            ],
            [
             0.2222222222222222,
             "#7201a8"
            ],
            [
             0.3333333333333333,
             "#9c179e"
            ],
            [
             0.4444444444444444,
             "#bd3786"
            ],
            [
             0.5555555555555556,
             "#d8576b"
            ],
            [
             0.6666666666666666,
             "#ed7953"
            ],
            [
             0.7777777777777778,
             "#fb9f3a"
            ],
            [
             0.8888888888888888,
             "#fdca26"
            ],
            [
             1,
             "#f0f921"
            ]
           ],
           "sequentialminus": [
            [
             0,
             "#0d0887"
            ],
            [
             0.1111111111111111,
             "#46039f"
            ],
            [
             0.2222222222222222,
             "#7201a8"
            ],
            [
             0.3333333333333333,
             "#9c179e"
            ],
            [
             0.4444444444444444,
             "#bd3786"
            ],
            [
             0.5555555555555556,
             "#d8576b"
            ],
            [
             0.6666666666666666,
             "#ed7953"
            ],
            [
             0.7777777777777778,
             "#fb9f3a"
            ],
            [
             0.8888888888888888,
             "#fdca26"
            ],
            [
             1,
             "#f0f921"
            ]
           ]
          },
          "colorway": [
           "#636efa",
           "#EF553B",
           "#00cc96",
           "#ab63fa",
           "#FFA15A",
           "#19d3f3",
           "#FF6692",
           "#B6E880",
           "#FF97FF",
           "#FECB52"
          ],
          "font": {
           "color": "#2a3f5f"
          },
          "geo": {
           "bgcolor": "white",
           "lakecolor": "white",
           "landcolor": "#E5ECF6",
           "showlakes": true,
           "showland": true,
           "subunitcolor": "white"
          },
          "hoverlabel": {
           "align": "left"
          },
          "hovermode": "closest",
          "mapbox": {
           "style": "light"
          },
          "paper_bgcolor": "white",
          "plot_bgcolor": "#E5ECF6",
          "polar": {
           "angularaxis": {
            "gridcolor": "white",
            "linecolor": "white",
            "ticks": ""
           },
           "bgcolor": "#E5ECF6",
           "radialaxis": {
            "gridcolor": "white",
            "linecolor": "white",
            "ticks": ""
           }
          },
          "scene": {
           "xaxis": {
            "backgroundcolor": "#E5ECF6",
            "gridcolor": "white",
            "gridwidth": 2,
            "linecolor": "white",
            "showbackground": true,
            "ticks": "",
            "zerolinecolor": "white"
           },
           "yaxis": {
            "backgroundcolor": "#E5ECF6",
            "gridcolor": "white",
            "gridwidth": 2,
            "linecolor": "white",
            "showbackground": true,
            "ticks": "",
            "zerolinecolor": "white"
           },
           "zaxis": {
            "backgroundcolor": "#E5ECF6",
            "gridcolor": "white",
            "gridwidth": 2,
            "linecolor": "white",
            "showbackground": true,
            "ticks": "",
            "zerolinecolor": "white"
           }
          },
          "shapedefaults": {
           "line": {
            "color": "#2a3f5f"
           }
          },
          "ternary": {
           "aaxis": {
            "gridcolor": "white",
            "linecolor": "white",
            "ticks": ""
           },
           "baxis": {
            "gridcolor": "white",
            "linecolor": "white",
            "ticks": ""
           },
           "bgcolor": "#E5ECF6",
           "caxis": {
            "gridcolor": "white",
            "linecolor": "white",
            "ticks": ""
           }
          },
          "title": {
           "x": 0.05
          },
          "xaxis": {
           "automargin": true,
           "gridcolor": "white",
           "linecolor": "white",
           "ticks": "",
           "title": {
            "standoff": 15
           },
           "zerolinecolor": "white",
           "zerolinewidth": 2
          },
          "yaxis": {
           "automargin": true,
           "gridcolor": "white",
           "linecolor": "white",
           "ticks": "",
           "title": {
            "standoff": 15
           },
           "zerolinecolor": "white",
           "zerolinewidth": 2
          }
         }
        },
        "title": {
         "text": "Average Book Price Over The Years"
        },
        "width": 700,
        "xaxis": {
         "title": {
          "text": "Year"
         }
        },
        "yaxis": {
         "title": {
          "text": "Mean Price"
         }
        }
       }
      },
      "text/html": [
       "<div>                            <div id=\"e47bb30f-aad2-40ed-a22d-25593c823716\" class=\"plotly-graph-div\" style=\"height:400px; width:700px;\"></div>            <script type=\"text/javascript\">                require([\"plotly\"], function(Plotly) {                    window.PLOTLYENV=window.PLOTLYENV || {};                                    if (document.getElementById(\"e47bb30f-aad2-40ed-a22d-25593c823716\")) {                    Plotly.newPlot(                        \"e47bb30f-aad2-40ed-a22d-25593c823716\",                        [{\"name\":\"Mean\",\"type\":\"scatter\",\"x\":[2009,2010,2011,2012,2013,2014,2015,2016,2017,2018,2019],\"y\":[15.4,13.48,15.1,15.3,14.6,14.64,10.42,13.18,11.38,10.52,10.08]},{\"name\":\"Median\",\"type\":\"scatter\",\"x\":[2009,2010,2011,2012,2013,2014,2015,2016,2017,2018,2019],\"y\":[12.0,12.5,13.0,13.0,12.5,10.0,9.0,9.0,9.0,8.0,10.0]}],                        {\"autosize\":false,\"height\":400,\"template\":{\"data\":{\"bar\":[{\"error_x\":{\"color\":\"#2a3f5f\"},\"error_y\":{\"color\":\"#2a3f5f\"},\"marker\":{\"line\":{\"color\":\"#E5ECF6\",\"width\":0.5},\"pattern\":{\"fillmode\":\"overlay\",\"size\":10,\"solidity\":0.2}},\"type\":\"bar\"}],\"barpolar\":[{\"marker\":{\"line\":{\"color\":\"#E5ECF6\",\"width\":0.5},\"pattern\":{\"fillmode\":\"overlay\",\"size\":10,\"solidity\":0.2}},\"type\":\"barpolar\"}],\"carpet\":[{\"aaxis\":{\"endlinecolor\":\"#2a3f5f\",\"gridcolor\":\"white\",\"linecolor\":\"white\",\"minorgridcolor\":\"white\",\"startlinecolor\":\"#2a3f5f\"},\"baxis\":{\"endlinecolor\":\"#2a3f5f\",\"gridcolor\":\"white\",\"linecolor\":\"white\",\"minorgridcolor\":\"white\",\"startlinecolor\":\"#2a3f5f\"},\"type\":\"carpet\"}],\"choropleth\":[{\"colorbar\":{\"outlinewidth\":0,\"ticks\":\"\"},\"type\":\"choropleth\"}],\"contour\":[{\"colorbar\":{\"outlinewidth\":0,\"ticks\":\"\"},\"colorscale\":[[0.0,\"#0d0887\"],[0.1111111111111111,\"#46039f\"],[0.2222222222222222,\"#7201a8\"],[0.3333333333333333,\"#9c179e\"],[0.4444444444444444,\"#bd3786\"],[0.5555555555555556,\"#d8576b\"],[0.6666666666666666,\"#ed7953\"],[0.7777777777777778,\"#fb9f3a\"],[0.8888888888888888,\"#fdca26\"],[1.0,\"#f0f921\"]],\"type\":\"contour\"}],\"contourcarpet\":[{\"colorbar\":{\"outlinewidth\":0,\"ticks\":\"\"},\"type\":\"contourcarpet\"}],\"heatmap\":[{\"colorbar\":{\"outlinewidth\":0,\"ticks\":\"\"},\"colorscale\":[[0.0,\"#0d0887\"],[0.1111111111111111,\"#46039f\"],[0.2222222222222222,\"#7201a8\"],[0.3333333333333333,\"#9c179e\"],[0.4444444444444444,\"#bd3786\"],[0.5555555555555556,\"#d8576b\"],[0.6666666666666666,\"#ed7953\"],[0.7777777777777778,\"#fb9f3a\"],[0.8888888888888888,\"#fdca26\"],[1.0,\"#f0f921\"]],\"type\":\"heatmap\"}],\"heatmapgl\":[{\"colorbar\":{\"outlinewidth\":0,\"ticks\":\"\"},\"colorscale\":[[0.0,\"#0d0887\"],[0.1111111111111111,\"#46039f\"],[0.2222222222222222,\"#7201a8\"],[0.3333333333333333,\"#9c179e\"],[0.4444444444444444,\"#bd3786\"],[0.5555555555555556,\"#d8576b\"],[0.6666666666666666,\"#ed7953\"],[0.7777777777777778,\"#fb9f3a\"],[0.8888888888888888,\"#fdca26\"],[1.0,\"#f0f921\"]],\"type\":\"heatmapgl\"}],\"histogram\":[{\"marker\":{\"pattern\":{\"fillmode\":\"overlay\",\"size\":10,\"solidity\":0.2}},\"type\":\"histogram\"}],\"histogram2d\":[{\"colorbar\":{\"outlinewidth\":0,\"ticks\":\"\"},\"colorscale\":[[0.0,\"#0d0887\"],[0.1111111111111111,\"#46039f\"],[0.2222222222222222,\"#7201a8\"],[0.3333333333333333,\"#9c179e\"],[0.4444444444444444,\"#bd3786\"],[0.5555555555555556,\"#d8576b\"],[0.6666666666666666,\"#ed7953\"],[0.7777777777777778,\"#fb9f3a\"],[0.8888888888888888,\"#fdca26\"],[1.0,\"#f0f921\"]],\"type\":\"histogram2d\"}],\"histogram2dcontour\":[{\"colorbar\":{\"outlinewidth\":0,\"ticks\":\"\"},\"colorscale\":[[0.0,\"#0d0887\"],[0.1111111111111111,\"#46039f\"],[0.2222222222222222,\"#7201a8\"],[0.3333333333333333,\"#9c179e\"],[0.4444444444444444,\"#bd3786\"],[0.5555555555555556,\"#d8576b\"],[0.6666666666666666,\"#ed7953\"],[0.7777777777777778,\"#fb9f3a\"],[0.8888888888888888,\"#fdca26\"],[1.0,\"#f0f921\"]],\"type\":\"histogram2dcontour\"}],\"mesh3d\":[{\"colorbar\":{\"outlinewidth\":0,\"ticks\":\"\"},\"type\":\"mesh3d\"}],\"parcoords\":[{\"line\":{\"colorbar\":{\"outlinewidth\":0,\"ticks\":\"\"}},\"type\":\"parcoords\"}],\"pie\":[{\"automargin\":true,\"type\":\"pie\"}],\"scatter\":[{\"marker\":{\"colorbar\":{\"outlinewidth\":0,\"ticks\":\"\"}},\"type\":\"scatter\"}],\"scatter3d\":[{\"line\":{\"colorbar\":{\"outlinewidth\":0,\"ticks\":\"\"}},\"marker\":{\"colorbar\":{\"outlinewidth\":0,\"ticks\":\"\"}},\"type\":\"scatter3d\"}],\"scattercarpet\":[{\"marker\":{\"colorbar\":{\"outlinewidth\":0,\"ticks\":\"\"}},\"type\":\"scattercarpet\"}],\"scattergeo\":[{\"marker\":{\"colorbar\":{\"outlinewidth\":0,\"ticks\":\"\"}},\"type\":\"scattergeo\"}],\"scattergl\":[{\"marker\":{\"colorbar\":{\"outlinewidth\":0,\"ticks\":\"\"}},\"type\":\"scattergl\"}],\"scattermapbox\":[{\"marker\":{\"colorbar\":{\"outlinewidth\":0,\"ticks\":\"\"}},\"type\":\"scattermapbox\"}],\"scatterpolar\":[{\"marker\":{\"colorbar\":{\"outlinewidth\":0,\"ticks\":\"\"}},\"type\":\"scatterpolar\"}],\"scatterpolargl\":[{\"marker\":{\"colorbar\":{\"outlinewidth\":0,\"ticks\":\"\"}},\"type\":\"scatterpolargl\"}],\"scatterternary\":[{\"marker\":{\"colorbar\":{\"outlinewidth\":0,\"ticks\":\"\"}},\"type\":\"scatterternary\"}],\"surface\":[{\"colorbar\":{\"outlinewidth\":0,\"ticks\":\"\"},\"colorscale\":[[0.0,\"#0d0887\"],[0.1111111111111111,\"#46039f\"],[0.2222222222222222,\"#7201a8\"],[0.3333333333333333,\"#9c179e\"],[0.4444444444444444,\"#bd3786\"],[0.5555555555555556,\"#d8576b\"],[0.6666666666666666,\"#ed7953\"],[0.7777777777777778,\"#fb9f3a\"],[0.8888888888888888,\"#fdca26\"],[1.0,\"#f0f921\"]],\"type\":\"surface\"}],\"table\":[{\"cells\":{\"fill\":{\"color\":\"#EBF0F8\"},\"line\":{\"color\":\"white\"}},\"header\":{\"fill\":{\"color\":\"#C8D4E3\"},\"line\":{\"color\":\"white\"}},\"type\":\"table\"}]},\"layout\":{\"annotationdefaults\":{\"arrowcolor\":\"#2a3f5f\",\"arrowhead\":0,\"arrowwidth\":1},\"autotypenumbers\":\"strict\",\"coloraxis\":{\"colorbar\":{\"outlinewidth\":0,\"ticks\":\"\"}},\"colorscale\":{\"diverging\":[[0,\"#8e0152\"],[0.1,\"#c51b7d\"],[0.2,\"#de77ae\"],[0.3,\"#f1b6da\"],[0.4,\"#fde0ef\"],[0.5,\"#f7f7f7\"],[0.6,\"#e6f5d0\"],[0.7,\"#b8e186\"],[0.8,\"#7fbc41\"],[0.9,\"#4d9221\"],[1,\"#276419\"]],\"sequential\":[[0.0,\"#0d0887\"],[0.1111111111111111,\"#46039f\"],[0.2222222222222222,\"#7201a8\"],[0.3333333333333333,\"#9c179e\"],[0.4444444444444444,\"#bd3786\"],[0.5555555555555556,\"#d8576b\"],[0.6666666666666666,\"#ed7953\"],[0.7777777777777778,\"#fb9f3a\"],[0.8888888888888888,\"#fdca26\"],[1.0,\"#f0f921\"]],\"sequentialminus\":[[0.0,\"#0d0887\"],[0.1111111111111111,\"#46039f\"],[0.2222222222222222,\"#7201a8\"],[0.3333333333333333,\"#9c179e\"],[0.4444444444444444,\"#bd3786\"],[0.5555555555555556,\"#d8576b\"],[0.6666666666666666,\"#ed7953\"],[0.7777777777777778,\"#fb9f3a\"],[0.8888888888888888,\"#fdca26\"],[1.0,\"#f0f921\"]]},\"colorway\":[\"#636efa\",\"#EF553B\",\"#00cc96\",\"#ab63fa\",\"#FFA15A\",\"#19d3f3\",\"#FF6692\",\"#B6E880\",\"#FF97FF\",\"#FECB52\"],\"font\":{\"color\":\"#2a3f5f\"},\"geo\":{\"bgcolor\":\"white\",\"lakecolor\":\"white\",\"landcolor\":\"#E5ECF6\",\"showlakes\":true,\"showland\":true,\"subunitcolor\":\"white\"},\"hoverlabel\":{\"align\":\"left\"},\"hovermode\":\"closest\",\"mapbox\":{\"style\":\"light\"},\"paper_bgcolor\":\"white\",\"plot_bgcolor\":\"#E5ECF6\",\"polar\":{\"angularaxis\":{\"gridcolor\":\"white\",\"linecolor\":\"white\",\"ticks\":\"\"},\"bgcolor\":\"#E5ECF6\",\"radialaxis\":{\"gridcolor\":\"white\",\"linecolor\":\"white\",\"ticks\":\"\"}},\"scene\":{\"xaxis\":{\"backgroundcolor\":\"#E5ECF6\",\"gridcolor\":\"white\",\"gridwidth\":2,\"linecolor\":\"white\",\"showbackground\":true,\"ticks\":\"\",\"zerolinecolor\":\"white\"},\"yaxis\":{\"backgroundcolor\":\"#E5ECF6\",\"gridcolor\":\"white\",\"gridwidth\":2,\"linecolor\":\"white\",\"showbackground\":true,\"ticks\":\"\",\"zerolinecolor\":\"white\"},\"zaxis\":{\"backgroundcolor\":\"#E5ECF6\",\"gridcolor\":\"white\",\"gridwidth\":2,\"linecolor\":\"white\",\"showbackground\":true,\"ticks\":\"\",\"zerolinecolor\":\"white\"}},\"shapedefaults\":{\"line\":{\"color\":\"#2a3f5f\"}},\"ternary\":{\"aaxis\":{\"gridcolor\":\"white\",\"linecolor\":\"white\",\"ticks\":\"\"},\"baxis\":{\"gridcolor\":\"white\",\"linecolor\":\"white\",\"ticks\":\"\"},\"bgcolor\":\"#E5ECF6\",\"caxis\":{\"gridcolor\":\"white\",\"linecolor\":\"white\",\"ticks\":\"\"}},\"title\":{\"x\":0.05},\"xaxis\":{\"automargin\":true,\"gridcolor\":\"white\",\"linecolor\":\"white\",\"ticks\":\"\",\"title\":{\"standoff\":15},\"zerolinecolor\":\"white\",\"zerolinewidth\":2},\"yaxis\":{\"automargin\":true,\"gridcolor\":\"white\",\"linecolor\":\"white\",\"ticks\":\"\",\"title\":{\"standoff\":15},\"zerolinecolor\":\"white\",\"zerolinewidth\":2}}},\"title\":{\"text\":\"Average Book Price Over The Years\"},\"width\":700,\"xaxis\":{\"title\":{\"text\":\"Year\"}},\"yaxis\":{\"title\":{\"text\":\"Mean Price\"}}},                        {\"responsive\": true}                    ).then(function(){\n",
       "                            \n",
       "var gd = document.getElementById('e47bb30f-aad2-40ed-a22d-25593c823716');\n",
       "var x = new MutationObserver(function (mutations, observer) {{\n",
       "        var display = window.getComputedStyle(gd).display;\n",
       "        if (!display || display === 'none') {{\n",
       "            console.log([gd, 'removed!']);\n",
       "            Plotly.purge(gd);\n",
       "            observer.disconnect();\n",
       "        }}\n",
       "}});\n",
       "\n",
       "// Listen for the removal of the full notebook cells\n",
       "var notebookContainer = gd.closest('#notebook-container');\n",
       "if (notebookContainer) {{\n",
       "    x.observe(notebookContainer, {childList: true});\n",
       "}}\n",
       "\n",
       "// Listen for the clearing of the current output cell\n",
       "var outputEl = gd.closest('.output');\n",
       "if (outputEl) {{\n",
       "    x.observe(outputEl, {childList: true});\n",
       "}}\n",
       "\n",
       "                        })                };                });            </script>        </div>"
      ]
     },
     "metadata": {},
     "output_type": "display_data"
    }
   ],
   "source": [
    "\n",
    "gby_year = bestsellers_df.groupby('Year').mean()\n",
    "gby_year_median = bestsellers_df.groupby('Year').median()\n",
    "\n",
    "tr1 = go.Scatter(x=gby_year.index,y=gby_year['Price'],name='Mean')\n",
    "tr2 = go.Scatter(x=gby_year_median.index,y=gby_year_median['Price'],name='Median')\n",
    "\n",
    "\n",
    "layout = dict(title='Average Book Price Over The Years',yaxis_title='Mean Price',xaxis_title='Year',autosize=False,width=700,height=400,)\n",
    "fig = go.Figure(data=[tr1,tr2],layout=layout)\n",
    "\n",
    "fig.show()"
   ]
  },
  {
   "cell_type": "code",
   "execution_count": 45,
   "metadata": {},
   "outputs": [
    {
     "data": {
      "application/vnd.plotly.v1+json": {
       "config": {
        "plotlyServerURL": "https://plot.ly"
       },
       "data": [
        {
         "name": "Mean",
         "type": "scatter",
         "x": [
          2009,
          2010,
          2011,
          2012,
          2013,
          2014,
          2015,
          2016,
          2017,
          2018,
          2019
         ],
         "y": [
          4710.12,
          5479.62,
          8100.82,
          13090.92,
          13098.14,
          15859.94,
          14233.38,
          14196,
          12888.4,
          13930.42,
          15898.34
         ]
        },
        {
         "name": "Median",
         "type": "scatter",
         "x": [
          2009,
          2010,
          2011,
          2012,
          2013,
          2014,
          2015,
          2016,
          2017,
          2018,
          2019
         ],
         "y": [
          3780,
          2638.5,
          5184,
          9333.5,
          7094,
          10514,
          9144,
          10545,
          10560.5,
          10456,
          11185
         ]
        }
       ],
       "layout": {
        "autosize": false,
        "height": 400,
        "template": {
         "data": {
          "bar": [
           {
            "error_x": {
             "color": "#2a3f5f"
            },
            "error_y": {
             "color": "#2a3f5f"
            },
            "marker": {
             "line": {
              "color": "#E5ECF6",
              "width": 0.5
             },
             "pattern": {
              "fillmode": "overlay",
              "size": 10,
              "solidity": 0.2
             }
            },
            "type": "bar"
           }
          ],
          "barpolar": [
           {
            "marker": {
             "line": {
              "color": "#E5ECF6",
              "width": 0.5
             },
             "pattern": {
              "fillmode": "overlay",
              "size": 10,
              "solidity": 0.2
             }
            },
            "type": "barpolar"
           }
          ],
          "carpet": [
           {
            "aaxis": {
             "endlinecolor": "#2a3f5f",
             "gridcolor": "white",
             "linecolor": "white",
             "minorgridcolor": "white",
             "startlinecolor": "#2a3f5f"
            },
            "baxis": {
             "endlinecolor": "#2a3f5f",
             "gridcolor": "white",
             "linecolor": "white",
             "minorgridcolor": "white",
             "startlinecolor": "#2a3f5f"
            },
            "type": "carpet"
           }
          ],
          "choropleth": [
           {
            "colorbar": {
             "outlinewidth": 0,
             "ticks": ""
            },
            "type": "choropleth"
           }
          ],
          "contour": [
           {
            "colorbar": {
             "outlinewidth": 0,
             "ticks": ""
            },
            "colorscale": [
             [
              0,
              "#0d0887"
             ],
             [
              0.1111111111111111,
              "#46039f"
             ],
             [
              0.2222222222222222,
              "#7201a8"
             ],
             [
              0.3333333333333333,
              "#9c179e"
             ],
             [
              0.4444444444444444,
              "#bd3786"
             ],
             [
              0.5555555555555556,
              "#d8576b"
             ],
             [
              0.6666666666666666,
              "#ed7953"
             ],
             [
              0.7777777777777778,
              "#fb9f3a"
             ],
             [
              0.8888888888888888,
              "#fdca26"
             ],
             [
              1,
              "#f0f921"
             ]
            ],
            "type": "contour"
           }
          ],
          "contourcarpet": [
           {
            "colorbar": {
             "outlinewidth": 0,
             "ticks": ""
            },
            "type": "contourcarpet"
           }
          ],
          "heatmap": [
           {
            "colorbar": {
             "outlinewidth": 0,
             "ticks": ""
            },
            "colorscale": [
             [
              0,
              "#0d0887"
             ],
             [
              0.1111111111111111,
              "#46039f"
             ],
             [
              0.2222222222222222,
              "#7201a8"
             ],
             [
              0.3333333333333333,
              "#9c179e"
             ],
             [
              0.4444444444444444,
              "#bd3786"
             ],
             [
              0.5555555555555556,
              "#d8576b"
             ],
             [
              0.6666666666666666,
              "#ed7953"
             ],
             [
              0.7777777777777778,
              "#fb9f3a"
             ],
             [
              0.8888888888888888,
              "#fdca26"
             ],
             [
              1,
              "#f0f921"
             ]
            ],
            "type": "heatmap"
           }
          ],
          "heatmapgl": [
           {
            "colorbar": {
             "outlinewidth": 0,
             "ticks": ""
            },
            "colorscale": [
             [
              0,
              "#0d0887"
             ],
             [
              0.1111111111111111,
              "#46039f"
             ],
             [
              0.2222222222222222,
              "#7201a8"
             ],
             [
              0.3333333333333333,
              "#9c179e"
             ],
             [
              0.4444444444444444,
              "#bd3786"
             ],
             [
              0.5555555555555556,
              "#d8576b"
             ],
             [
              0.6666666666666666,
              "#ed7953"
             ],
             [
              0.7777777777777778,
              "#fb9f3a"
             ],
             [
              0.8888888888888888,
              "#fdca26"
             ],
             [
              1,
              "#f0f921"
             ]
            ],
            "type": "heatmapgl"
           }
          ],
          "histogram": [
           {
            "marker": {
             "pattern": {
              "fillmode": "overlay",
              "size": 10,
              "solidity": 0.2
             }
            },
            "type": "histogram"
           }
          ],
          "histogram2d": [
           {
            "colorbar": {
             "outlinewidth": 0,
             "ticks": ""
            },
            "colorscale": [
             [
              0,
              "#0d0887"
             ],
             [
              0.1111111111111111,
              "#46039f"
             ],
             [
              0.2222222222222222,
              "#7201a8"
             ],
             [
              0.3333333333333333,
              "#9c179e"
             ],
             [
              0.4444444444444444,
              "#bd3786"
             ],
             [
              0.5555555555555556,
              "#d8576b"
             ],
             [
              0.6666666666666666,
              "#ed7953"
             ],
             [
              0.7777777777777778,
              "#fb9f3a"
             ],
             [
              0.8888888888888888,
              "#fdca26"
             ],
             [
              1,
              "#f0f921"
             ]
            ],
            "type": "histogram2d"
           }
          ],
          "histogram2dcontour": [
           {
            "colorbar": {
             "outlinewidth": 0,
             "ticks": ""
            },
            "colorscale": [
             [
              0,
              "#0d0887"
             ],
             [
              0.1111111111111111,
              "#46039f"
             ],
             [
              0.2222222222222222,
              "#7201a8"
             ],
             [
              0.3333333333333333,
              "#9c179e"
             ],
             [
              0.4444444444444444,
              "#bd3786"
             ],
             [
              0.5555555555555556,
              "#d8576b"
             ],
             [
              0.6666666666666666,
              "#ed7953"
             ],
             [
              0.7777777777777778,
              "#fb9f3a"
             ],
             [
              0.8888888888888888,
              "#fdca26"
             ],
             [
              1,
              "#f0f921"
             ]
            ],
            "type": "histogram2dcontour"
           }
          ],
          "mesh3d": [
           {
            "colorbar": {
             "outlinewidth": 0,
             "ticks": ""
            },
            "type": "mesh3d"
           }
          ],
          "parcoords": [
           {
            "line": {
             "colorbar": {
              "outlinewidth": 0,
              "ticks": ""
             }
            },
            "type": "parcoords"
           }
          ],
          "pie": [
           {
            "automargin": true,
            "type": "pie"
           }
          ],
          "scatter": [
           {
            "marker": {
             "colorbar": {
              "outlinewidth": 0,
              "ticks": ""
             }
            },
            "type": "scatter"
           }
          ],
          "scatter3d": [
           {
            "line": {
             "colorbar": {
              "outlinewidth": 0,
              "ticks": ""
             }
            },
            "marker": {
             "colorbar": {
              "outlinewidth": 0,
              "ticks": ""
             }
            },
            "type": "scatter3d"
           }
          ],
          "scattercarpet": [
           {
            "marker": {
             "colorbar": {
              "outlinewidth": 0,
              "ticks": ""
             }
            },
            "type": "scattercarpet"
           }
          ],
          "scattergeo": [
           {
            "marker": {
             "colorbar": {
              "outlinewidth": 0,
              "ticks": ""
             }
            },
            "type": "scattergeo"
           }
          ],
          "scattergl": [
           {
            "marker": {
             "colorbar": {
              "outlinewidth": 0,
              "ticks": ""
             }
            },
            "type": "scattergl"
           }
          ],
          "scattermapbox": [
           {
            "marker": {
             "colorbar": {
              "outlinewidth": 0,
              "ticks": ""
             }
            },
            "type": "scattermapbox"
           }
          ],
          "scatterpolar": [
           {
            "marker": {
             "colorbar": {
              "outlinewidth": 0,
              "ticks": ""
             }
            },
            "type": "scatterpolar"
           }
          ],
          "scatterpolargl": [
           {
            "marker": {
             "colorbar": {
              "outlinewidth": 0,
              "ticks": ""
             }
            },
            "type": "scatterpolargl"
           }
          ],
          "scatterternary": [
           {
            "marker": {
             "colorbar": {
              "outlinewidth": 0,
              "ticks": ""
             }
            },
            "type": "scatterternary"
           }
          ],
          "surface": [
           {
            "colorbar": {
             "outlinewidth": 0,
             "ticks": ""
            },
            "colorscale": [
             [
              0,
              "#0d0887"
             ],
             [
              0.1111111111111111,
              "#46039f"
             ],
             [
              0.2222222222222222,
              "#7201a8"
             ],
             [
              0.3333333333333333,
              "#9c179e"
             ],
             [
              0.4444444444444444,
              "#bd3786"
             ],
             [
              0.5555555555555556,
              "#d8576b"
             ],
             [
              0.6666666666666666,
              "#ed7953"
             ],
             [
              0.7777777777777778,
              "#fb9f3a"
             ],
             [
              0.8888888888888888,
              "#fdca26"
             ],
             [
              1,
              "#f0f921"
             ]
            ],
            "type": "surface"
           }
          ],
          "table": [
           {
            "cells": {
             "fill": {
              "color": "#EBF0F8"
             },
             "line": {
              "color": "white"
             }
            },
            "header": {
             "fill": {
              "color": "#C8D4E3"
             },
             "line": {
              "color": "white"
             }
            },
            "type": "table"
           }
          ]
         },
         "layout": {
          "annotationdefaults": {
           "arrowcolor": "#2a3f5f",
           "arrowhead": 0,
           "arrowwidth": 1
          },
          "autotypenumbers": "strict",
          "coloraxis": {
           "colorbar": {
            "outlinewidth": 0,
            "ticks": ""
           }
          },
          "colorscale": {
           "diverging": [
            [
             0,
             "#8e0152"
            ],
            [
             0.1,
             "#c51b7d"
            ],
            [
             0.2,
             "#de77ae"
            ],
            [
             0.3,
             "#f1b6da"
            ],
            [
             0.4,
             "#fde0ef"
            ],
            [
             0.5,
             "#f7f7f7"
            ],
            [
             0.6,
             "#e6f5d0"
            ],
            [
             0.7,
             "#b8e186"
            ],
            [
             0.8,
             "#7fbc41"
            ],
            [
             0.9,
             "#4d9221"
            ],
            [
             1,
             "#276419"
            ]
           ],
           "sequential": [
            [
             0,
             "#0d0887"
            ],
            [
             0.1111111111111111,
             "#46039f"
            ],
            [
             0.2222222222222222,
             "#7201a8"
            ],
            [
             0.3333333333333333,
             "#9c179e"
            ],
            [
             0.4444444444444444,
             "#bd3786"
            ],
            [
             0.5555555555555556,
             "#d8576b"
            ],
            [
             0.6666666666666666,
             "#ed7953"
            ],
            [
             0.7777777777777778,
             "#fb9f3a"
            ],
            [
             0.8888888888888888,
             "#fdca26"
            ],
            [
             1,
             "#f0f921"
            ]
           ],
           "sequentialminus": [
            [
             0,
             "#0d0887"
            ],
            [
             0.1111111111111111,
             "#46039f"
            ],
            [
             0.2222222222222222,
             "#7201a8"
            ],
            [
             0.3333333333333333,
             "#9c179e"
            ],
            [
             0.4444444444444444,
             "#bd3786"
            ],
            [
             0.5555555555555556,
             "#d8576b"
            ],
            [
             0.6666666666666666,
             "#ed7953"
            ],
            [
             0.7777777777777778,
             "#fb9f3a"
            ],
            [
             0.8888888888888888,
             "#fdca26"
            ],
            [
             1,
             "#f0f921"
            ]
           ]
          },
          "colorway": [
           "#636efa",
           "#EF553B",
           "#00cc96",
           "#ab63fa",
           "#FFA15A",
           "#19d3f3",
           "#FF6692",
           "#B6E880",
           "#FF97FF",
           "#FECB52"
          ],
          "font": {
           "color": "#2a3f5f"
          },
          "geo": {
           "bgcolor": "white",
           "lakecolor": "white",
           "landcolor": "#E5ECF6",
           "showlakes": true,
           "showland": true,
           "subunitcolor": "white"
          },
          "hoverlabel": {
           "align": "left"
          },
          "hovermode": "closest",
          "mapbox": {
           "style": "light"
          },
          "paper_bgcolor": "white",
          "plot_bgcolor": "#E5ECF6",
          "polar": {
           "angularaxis": {
            "gridcolor": "white",
            "linecolor": "white",
            "ticks": ""
           },
           "bgcolor": "#E5ECF6",
           "radialaxis": {
            "gridcolor": "white",
            "linecolor": "white",
            "ticks": ""
           }
          },
          "scene": {
           "xaxis": {
            "backgroundcolor": "#E5ECF6",
            "gridcolor": "white",
            "gridwidth": 2,
            "linecolor": "white",
            "showbackground": true,
            "ticks": "",
            "zerolinecolor": "white"
           },
           "yaxis": {
            "backgroundcolor": "#E5ECF6",
            "gridcolor": "white",
            "gridwidth": 2,
            "linecolor": "white",
            "showbackground": true,
            "ticks": "",
            "zerolinecolor": "white"
           },
           "zaxis": {
            "backgroundcolor": "#E5ECF6",
            "gridcolor": "white",
            "gridwidth": 2,
            "linecolor": "white",
            "showbackground": true,
            "ticks": "",
            "zerolinecolor": "white"
           }
          },
          "shapedefaults": {
           "line": {
            "color": "#2a3f5f"
           }
          },
          "ternary": {
           "aaxis": {
            "gridcolor": "white",
            "linecolor": "white",
            "ticks": ""
           },
           "baxis": {
            "gridcolor": "white",
            "linecolor": "white",
            "ticks": ""
           },
           "bgcolor": "#E5ECF6",
           "caxis": {
            "gridcolor": "white",
            "linecolor": "white",
            "ticks": ""
           }
          },
          "title": {
           "x": 0.05
          },
          "xaxis": {
           "automargin": true,
           "gridcolor": "white",
           "linecolor": "white",
           "ticks": "",
           "title": {
            "standoff": 15
           },
           "zerolinecolor": "white",
           "zerolinewidth": 2
          },
          "yaxis": {
           "automargin": true,
           "gridcolor": "white",
           "linecolor": "white",
           "ticks": "",
           "title": {
            "standoff": 15
           },
           "zerolinecolor": "white",
           "zerolinewidth": 2
          }
         }
        },
        "title": {
         "text": "Average Book Review Count Over The Years"
        },
        "width": 700,
        "xaxis": {
         "title": {
          "text": "Year"
         }
        },
        "yaxis": {
         "title": {
          "text": "Mean Number Of Reviews"
         }
        }
       }
      },
      "text/html": [
       "<div>                            <div id=\"b45358dc-0bb2-4a6f-acc6-e61b4afa83b2\" class=\"plotly-graph-div\" style=\"height:400px; width:700px;\"></div>            <script type=\"text/javascript\">                require([\"plotly\"], function(Plotly) {                    window.PLOTLYENV=window.PLOTLYENV || {};                                    if (document.getElementById(\"b45358dc-0bb2-4a6f-acc6-e61b4afa83b2\")) {                    Plotly.newPlot(                        \"b45358dc-0bb2-4a6f-acc6-e61b4afa83b2\",                        [{\"name\":\"Mean\",\"type\":\"scatter\",\"x\":[2009,2010,2011,2012,2013,2014,2015,2016,2017,2018,2019],\"y\":[4710.12,5479.62,8100.82,13090.92,13098.14,15859.94,14233.38,14196.0,12888.4,13930.42,15898.34]},{\"name\":\"Median\",\"type\":\"scatter\",\"x\":[2009,2010,2011,2012,2013,2014,2015,2016,2017,2018,2019],\"y\":[3780.0,2638.5,5184.0,9333.5,7094.0,10514.0,9144.0,10545.0,10560.5,10456.0,11185.0]}],                        {\"autosize\":false,\"height\":400,\"template\":{\"data\":{\"bar\":[{\"error_x\":{\"color\":\"#2a3f5f\"},\"error_y\":{\"color\":\"#2a3f5f\"},\"marker\":{\"line\":{\"color\":\"#E5ECF6\",\"width\":0.5},\"pattern\":{\"fillmode\":\"overlay\",\"size\":10,\"solidity\":0.2}},\"type\":\"bar\"}],\"barpolar\":[{\"marker\":{\"line\":{\"color\":\"#E5ECF6\",\"width\":0.5},\"pattern\":{\"fillmode\":\"overlay\",\"size\":10,\"solidity\":0.2}},\"type\":\"barpolar\"}],\"carpet\":[{\"aaxis\":{\"endlinecolor\":\"#2a3f5f\",\"gridcolor\":\"white\",\"linecolor\":\"white\",\"minorgridcolor\":\"white\",\"startlinecolor\":\"#2a3f5f\"},\"baxis\":{\"endlinecolor\":\"#2a3f5f\",\"gridcolor\":\"white\",\"linecolor\":\"white\",\"minorgridcolor\":\"white\",\"startlinecolor\":\"#2a3f5f\"},\"type\":\"carpet\"}],\"choropleth\":[{\"colorbar\":{\"outlinewidth\":0,\"ticks\":\"\"},\"type\":\"choropleth\"}],\"contour\":[{\"colorbar\":{\"outlinewidth\":0,\"ticks\":\"\"},\"colorscale\":[[0.0,\"#0d0887\"],[0.1111111111111111,\"#46039f\"],[0.2222222222222222,\"#7201a8\"],[0.3333333333333333,\"#9c179e\"],[0.4444444444444444,\"#bd3786\"],[0.5555555555555556,\"#d8576b\"],[0.6666666666666666,\"#ed7953\"],[0.7777777777777778,\"#fb9f3a\"],[0.8888888888888888,\"#fdca26\"],[1.0,\"#f0f921\"]],\"type\":\"contour\"}],\"contourcarpet\":[{\"colorbar\":{\"outlinewidth\":0,\"ticks\":\"\"},\"type\":\"contourcarpet\"}],\"heatmap\":[{\"colorbar\":{\"outlinewidth\":0,\"ticks\":\"\"},\"colorscale\":[[0.0,\"#0d0887\"],[0.1111111111111111,\"#46039f\"],[0.2222222222222222,\"#7201a8\"],[0.3333333333333333,\"#9c179e\"],[0.4444444444444444,\"#bd3786\"],[0.5555555555555556,\"#d8576b\"],[0.6666666666666666,\"#ed7953\"],[0.7777777777777778,\"#fb9f3a\"],[0.8888888888888888,\"#fdca26\"],[1.0,\"#f0f921\"]],\"type\":\"heatmap\"}],\"heatmapgl\":[{\"colorbar\":{\"outlinewidth\":0,\"ticks\":\"\"},\"colorscale\":[[0.0,\"#0d0887\"],[0.1111111111111111,\"#46039f\"],[0.2222222222222222,\"#7201a8\"],[0.3333333333333333,\"#9c179e\"],[0.4444444444444444,\"#bd3786\"],[0.5555555555555556,\"#d8576b\"],[0.6666666666666666,\"#ed7953\"],[0.7777777777777778,\"#fb9f3a\"],[0.8888888888888888,\"#fdca26\"],[1.0,\"#f0f921\"]],\"type\":\"heatmapgl\"}],\"histogram\":[{\"marker\":{\"pattern\":{\"fillmode\":\"overlay\",\"size\":10,\"solidity\":0.2}},\"type\":\"histogram\"}],\"histogram2d\":[{\"colorbar\":{\"outlinewidth\":0,\"ticks\":\"\"},\"colorscale\":[[0.0,\"#0d0887\"],[0.1111111111111111,\"#46039f\"],[0.2222222222222222,\"#7201a8\"],[0.3333333333333333,\"#9c179e\"],[0.4444444444444444,\"#bd3786\"],[0.5555555555555556,\"#d8576b\"],[0.6666666666666666,\"#ed7953\"],[0.7777777777777778,\"#fb9f3a\"],[0.8888888888888888,\"#fdca26\"],[1.0,\"#f0f921\"]],\"type\":\"histogram2d\"}],\"histogram2dcontour\":[{\"colorbar\":{\"outlinewidth\":0,\"ticks\":\"\"},\"colorscale\":[[0.0,\"#0d0887\"],[0.1111111111111111,\"#46039f\"],[0.2222222222222222,\"#7201a8\"],[0.3333333333333333,\"#9c179e\"],[0.4444444444444444,\"#bd3786\"],[0.5555555555555556,\"#d8576b\"],[0.6666666666666666,\"#ed7953\"],[0.7777777777777778,\"#fb9f3a\"],[0.8888888888888888,\"#fdca26\"],[1.0,\"#f0f921\"]],\"type\":\"histogram2dcontour\"}],\"mesh3d\":[{\"colorbar\":{\"outlinewidth\":0,\"ticks\":\"\"},\"type\":\"mesh3d\"}],\"parcoords\":[{\"line\":{\"colorbar\":{\"outlinewidth\":0,\"ticks\":\"\"}},\"type\":\"parcoords\"}],\"pie\":[{\"automargin\":true,\"type\":\"pie\"}],\"scatter\":[{\"marker\":{\"colorbar\":{\"outlinewidth\":0,\"ticks\":\"\"}},\"type\":\"scatter\"}],\"scatter3d\":[{\"line\":{\"colorbar\":{\"outlinewidth\":0,\"ticks\":\"\"}},\"marker\":{\"colorbar\":{\"outlinewidth\":0,\"ticks\":\"\"}},\"type\":\"scatter3d\"}],\"scattercarpet\":[{\"marker\":{\"colorbar\":{\"outlinewidth\":0,\"ticks\":\"\"}},\"type\":\"scattercarpet\"}],\"scattergeo\":[{\"marker\":{\"colorbar\":{\"outlinewidth\":0,\"ticks\":\"\"}},\"type\":\"scattergeo\"}],\"scattergl\":[{\"marker\":{\"colorbar\":{\"outlinewidth\":0,\"ticks\":\"\"}},\"type\":\"scattergl\"}],\"scattermapbox\":[{\"marker\":{\"colorbar\":{\"outlinewidth\":0,\"ticks\":\"\"}},\"type\":\"scattermapbox\"}],\"scatterpolar\":[{\"marker\":{\"colorbar\":{\"outlinewidth\":0,\"ticks\":\"\"}},\"type\":\"scatterpolar\"}],\"scatterpolargl\":[{\"marker\":{\"colorbar\":{\"outlinewidth\":0,\"ticks\":\"\"}},\"type\":\"scatterpolargl\"}],\"scatterternary\":[{\"marker\":{\"colorbar\":{\"outlinewidth\":0,\"ticks\":\"\"}},\"type\":\"scatterternary\"}],\"surface\":[{\"colorbar\":{\"outlinewidth\":0,\"ticks\":\"\"},\"colorscale\":[[0.0,\"#0d0887\"],[0.1111111111111111,\"#46039f\"],[0.2222222222222222,\"#7201a8\"],[0.3333333333333333,\"#9c179e\"],[0.4444444444444444,\"#bd3786\"],[0.5555555555555556,\"#d8576b\"],[0.6666666666666666,\"#ed7953\"],[0.7777777777777778,\"#fb9f3a\"],[0.8888888888888888,\"#fdca26\"],[1.0,\"#f0f921\"]],\"type\":\"surface\"}],\"table\":[{\"cells\":{\"fill\":{\"color\":\"#EBF0F8\"},\"line\":{\"color\":\"white\"}},\"header\":{\"fill\":{\"color\":\"#C8D4E3\"},\"line\":{\"color\":\"white\"}},\"type\":\"table\"}]},\"layout\":{\"annotationdefaults\":{\"arrowcolor\":\"#2a3f5f\",\"arrowhead\":0,\"arrowwidth\":1},\"autotypenumbers\":\"strict\",\"coloraxis\":{\"colorbar\":{\"outlinewidth\":0,\"ticks\":\"\"}},\"colorscale\":{\"diverging\":[[0,\"#8e0152\"],[0.1,\"#c51b7d\"],[0.2,\"#de77ae\"],[0.3,\"#f1b6da\"],[0.4,\"#fde0ef\"],[0.5,\"#f7f7f7\"],[0.6,\"#e6f5d0\"],[0.7,\"#b8e186\"],[0.8,\"#7fbc41\"],[0.9,\"#4d9221\"],[1,\"#276419\"]],\"sequential\":[[0.0,\"#0d0887\"],[0.1111111111111111,\"#46039f\"],[0.2222222222222222,\"#7201a8\"],[0.3333333333333333,\"#9c179e\"],[0.4444444444444444,\"#bd3786\"],[0.5555555555555556,\"#d8576b\"],[0.6666666666666666,\"#ed7953\"],[0.7777777777777778,\"#fb9f3a\"],[0.8888888888888888,\"#fdca26\"],[1.0,\"#f0f921\"]],\"sequentialminus\":[[0.0,\"#0d0887\"],[0.1111111111111111,\"#46039f\"],[0.2222222222222222,\"#7201a8\"],[0.3333333333333333,\"#9c179e\"],[0.4444444444444444,\"#bd3786\"],[0.5555555555555556,\"#d8576b\"],[0.6666666666666666,\"#ed7953\"],[0.7777777777777778,\"#fb9f3a\"],[0.8888888888888888,\"#fdca26\"],[1.0,\"#f0f921\"]]},\"colorway\":[\"#636efa\",\"#EF553B\",\"#00cc96\",\"#ab63fa\",\"#FFA15A\",\"#19d3f3\",\"#FF6692\",\"#B6E880\",\"#FF97FF\",\"#FECB52\"],\"font\":{\"color\":\"#2a3f5f\"},\"geo\":{\"bgcolor\":\"white\",\"lakecolor\":\"white\",\"landcolor\":\"#E5ECF6\",\"showlakes\":true,\"showland\":true,\"subunitcolor\":\"white\"},\"hoverlabel\":{\"align\":\"left\"},\"hovermode\":\"closest\",\"mapbox\":{\"style\":\"light\"},\"paper_bgcolor\":\"white\",\"plot_bgcolor\":\"#E5ECF6\",\"polar\":{\"angularaxis\":{\"gridcolor\":\"white\",\"linecolor\":\"white\",\"ticks\":\"\"},\"bgcolor\":\"#E5ECF6\",\"radialaxis\":{\"gridcolor\":\"white\",\"linecolor\":\"white\",\"ticks\":\"\"}},\"scene\":{\"xaxis\":{\"backgroundcolor\":\"#E5ECF6\",\"gridcolor\":\"white\",\"gridwidth\":2,\"linecolor\":\"white\",\"showbackground\":true,\"ticks\":\"\",\"zerolinecolor\":\"white\"},\"yaxis\":{\"backgroundcolor\":\"#E5ECF6\",\"gridcolor\":\"white\",\"gridwidth\":2,\"linecolor\":\"white\",\"showbackground\":true,\"ticks\":\"\",\"zerolinecolor\":\"white\"},\"zaxis\":{\"backgroundcolor\":\"#E5ECF6\",\"gridcolor\":\"white\",\"gridwidth\":2,\"linecolor\":\"white\",\"showbackground\":true,\"ticks\":\"\",\"zerolinecolor\":\"white\"}},\"shapedefaults\":{\"line\":{\"color\":\"#2a3f5f\"}},\"ternary\":{\"aaxis\":{\"gridcolor\":\"white\",\"linecolor\":\"white\",\"ticks\":\"\"},\"baxis\":{\"gridcolor\":\"white\",\"linecolor\":\"white\",\"ticks\":\"\"},\"bgcolor\":\"#E5ECF6\",\"caxis\":{\"gridcolor\":\"white\",\"linecolor\":\"white\",\"ticks\":\"\"}},\"title\":{\"x\":0.05},\"xaxis\":{\"automargin\":true,\"gridcolor\":\"white\",\"linecolor\":\"white\",\"ticks\":\"\",\"title\":{\"standoff\":15},\"zerolinecolor\":\"white\",\"zerolinewidth\":2},\"yaxis\":{\"automargin\":true,\"gridcolor\":\"white\",\"linecolor\":\"white\",\"ticks\":\"\",\"title\":{\"standoff\":15},\"zerolinecolor\":\"white\",\"zerolinewidth\":2}}},\"title\":{\"text\":\"Average Book Review Count Over The Years\"},\"width\":700,\"xaxis\":{\"title\":{\"text\":\"Year\"}},\"yaxis\":{\"title\":{\"text\":\"Mean Number Of Reviews\"}}},                        {\"responsive\": true}                    ).then(function(){\n",
       "                            \n",
       "var gd = document.getElementById('b45358dc-0bb2-4a6f-acc6-e61b4afa83b2');\n",
       "var x = new MutationObserver(function (mutations, observer) {{\n",
       "        var display = window.getComputedStyle(gd).display;\n",
       "        if (!display || display === 'none') {{\n",
       "            console.log([gd, 'removed!']);\n",
       "            Plotly.purge(gd);\n",
       "            observer.disconnect();\n",
       "        }}\n",
       "}});\n",
       "\n",
       "// Listen for the removal of the full notebook cells\n",
       "var notebookContainer = gd.closest('#notebook-container');\n",
       "if (notebookContainer) {{\n",
       "    x.observe(notebookContainer, {childList: true});\n",
       "}}\n",
       "\n",
       "// Listen for the clearing of the current output cell\n",
       "var outputEl = gd.closest('.output');\n",
       "if (outputEl) {{\n",
       "    x.observe(outputEl, {childList: true});\n",
       "}}\n",
       "\n",
       "                        })                };                });            </script>        </div>"
      ]
     },
     "metadata": {},
     "output_type": "display_data"
    }
   ],
   "source": [
    "tr1 = go.Scatter(x=gby_year.index,y=gby_year['Reviews'],name='Mean')\n",
    "tr2 = go.Scatter(x=gby_year_median.index,y=gby_year_median['Reviews'],name='Median')\n",
    "\n",
    "\n",
    "layout = dict(title='Average Book Review Count Over The Years',yaxis_title='Mean Number Of Reviews',xaxis_title='Year',autosize=False,width=700,height=400,)\n",
    "go.Figure(data=[tr1,tr2],layout=layout)\n",
    "\n"
   ]
  },
  {
   "cell_type": "code",
   "execution_count": 46,
   "metadata": {},
   "outputs": [
    {
     "data": {
      "application/vnd.plotly.v1+json": {
       "config": {
        "plotlyServerURL": "https://plot.ly"
       },
       "data": [
        {
         "name": "Mean",
         "type": "scatter",
         "x": [
          2009,
          2010,
          2011,
          2012,
          2013,
          2014,
          2015,
          2016,
          2017,
          2018,
          2019
         ],
         "y": [
          4.584,
          4.558,
          4.558000000000001,
          4.532,
          4.554,
          4.622000000000001,
          4.648,
          4.678000000000001,
          4.66,
          4.668000000000003,
          4.740000000000002
         ]
        },
        {
         "name": "Median",
         "type": "scatter",
         "x": [
          2009,
          2010,
          2011,
          2012,
          2013,
          2014,
          2015,
          2016,
          2017,
          2018,
          2019
         ],
         "y": [
          4.6,
          4.6,
          4.6,
          4.6,
          4.6,
          4.65,
          4.7,
          4.7,
          4.7,
          4.7,
          4.8
         ]
        }
       ],
       "layout": {
        "autosize": false,
        "height": 400,
        "template": {
         "data": {
          "bar": [
           {
            "error_x": {
             "color": "#2a3f5f"
            },
            "error_y": {
             "color": "#2a3f5f"
            },
            "marker": {
             "line": {
              "color": "#E5ECF6",
              "width": 0.5
             },
             "pattern": {
              "fillmode": "overlay",
              "size": 10,
              "solidity": 0.2
             }
            },
            "type": "bar"
           }
          ],
          "barpolar": [
           {
            "marker": {
             "line": {
              "color": "#E5ECF6",
              "width": 0.5
             },
             "pattern": {
              "fillmode": "overlay",
              "size": 10,
              "solidity": 0.2
             }
            },
            "type": "barpolar"
           }
          ],
          "carpet": [
           {
            "aaxis": {
             "endlinecolor": "#2a3f5f",
             "gridcolor": "white",
             "linecolor": "white",
             "minorgridcolor": "white",
             "startlinecolor": "#2a3f5f"
            },
            "baxis": {
             "endlinecolor": "#2a3f5f",
             "gridcolor": "white",
             "linecolor": "white",
             "minorgridcolor": "white",
             "startlinecolor": "#2a3f5f"
            },
            "type": "carpet"
           }
          ],
          "choropleth": [
           {
            "colorbar": {
             "outlinewidth": 0,
             "ticks": ""
            },
            "type": "choropleth"
           }
          ],
          "contour": [
           {
            "colorbar": {
             "outlinewidth": 0,
             "ticks": ""
            },
            "colorscale": [
             [
              0,
              "#0d0887"
             ],
             [
              0.1111111111111111,
              "#46039f"
             ],
             [
              0.2222222222222222,
              "#7201a8"
             ],
             [
              0.3333333333333333,
              "#9c179e"
             ],
             [
              0.4444444444444444,
              "#bd3786"
             ],
             [
              0.5555555555555556,
              "#d8576b"
             ],
             [
              0.6666666666666666,
              "#ed7953"
             ],
             [
              0.7777777777777778,
              "#fb9f3a"
             ],
             [
              0.8888888888888888,
              "#fdca26"
             ],
             [
              1,
              "#f0f921"
             ]
            ],
            "type": "contour"
           }
          ],
          "contourcarpet": [
           {
            "colorbar": {
             "outlinewidth": 0,
             "ticks": ""
            },
            "type": "contourcarpet"
           }
          ],
          "heatmap": [
           {
            "colorbar": {
             "outlinewidth": 0,
             "ticks": ""
            },
            "colorscale": [
             [
              0,
              "#0d0887"
             ],
             [
              0.1111111111111111,
              "#46039f"
             ],
             [
              0.2222222222222222,
              "#7201a8"
             ],
             [
              0.3333333333333333,
              "#9c179e"
             ],
             [
              0.4444444444444444,
              "#bd3786"
             ],
             [
              0.5555555555555556,
              "#d8576b"
             ],
             [
              0.6666666666666666,
              "#ed7953"
             ],
             [
              0.7777777777777778,
              "#fb9f3a"
             ],
             [
              0.8888888888888888,
              "#fdca26"
             ],
             [
              1,
              "#f0f921"
             ]
            ],
            "type": "heatmap"
           }
          ],
          "heatmapgl": [
           {
            "colorbar": {
             "outlinewidth": 0,
             "ticks": ""
            },
            "colorscale": [
             [
              0,
              "#0d0887"
             ],
             [
              0.1111111111111111,
              "#46039f"
             ],
             [
              0.2222222222222222,
              "#7201a8"
             ],
             [
              0.3333333333333333,
              "#9c179e"
             ],
             [
              0.4444444444444444,
              "#bd3786"
             ],
             [
              0.5555555555555556,
              "#d8576b"
             ],
             [
              0.6666666666666666,
              "#ed7953"
             ],
             [
              0.7777777777777778,
              "#fb9f3a"
             ],
             [
              0.8888888888888888,
              "#fdca26"
             ],
             [
              1,
              "#f0f921"
             ]
            ],
            "type": "heatmapgl"
           }
          ],
          "histogram": [
           {
            "marker": {
             "pattern": {
              "fillmode": "overlay",
              "size": 10,
              "solidity": 0.2
             }
            },
            "type": "histogram"
           }
          ],
          "histogram2d": [
           {
            "colorbar": {
             "outlinewidth": 0,
             "ticks": ""
            },
            "colorscale": [
             [
              0,
              "#0d0887"
             ],
             [
              0.1111111111111111,
              "#46039f"
             ],
             [
              0.2222222222222222,
              "#7201a8"
             ],
             [
              0.3333333333333333,
              "#9c179e"
             ],
             [
              0.4444444444444444,
              "#bd3786"
             ],
             [
              0.5555555555555556,
              "#d8576b"
             ],
             [
              0.6666666666666666,
              "#ed7953"
             ],
             [
              0.7777777777777778,
              "#fb9f3a"
             ],
             [
              0.8888888888888888,
              "#fdca26"
             ],
             [
              1,
              "#f0f921"
             ]
            ],
            "type": "histogram2d"
           }
          ],
          "histogram2dcontour": [
           {
            "colorbar": {
             "outlinewidth": 0,
             "ticks": ""
            },
            "colorscale": [
             [
              0,
              "#0d0887"
             ],
             [
              0.1111111111111111,
              "#46039f"
             ],
             [
              0.2222222222222222,
              "#7201a8"
             ],
             [
              0.3333333333333333,
              "#9c179e"
             ],
             [
              0.4444444444444444,
              "#bd3786"
             ],
             [
              0.5555555555555556,
              "#d8576b"
             ],
             [
              0.6666666666666666,
              "#ed7953"
             ],
             [
              0.7777777777777778,
              "#fb9f3a"
             ],
             [
              0.8888888888888888,
              "#fdca26"
             ],
             [
              1,
              "#f0f921"
             ]
            ],
            "type": "histogram2dcontour"
           }
          ],
          "mesh3d": [
           {
            "colorbar": {
             "outlinewidth": 0,
             "ticks": ""
            },
            "type": "mesh3d"
           }
          ],
          "parcoords": [
           {
            "line": {
             "colorbar": {
              "outlinewidth": 0,
              "ticks": ""
             }
            },
            "type": "parcoords"
           }
          ],
          "pie": [
           {
            "automargin": true,
            "type": "pie"
           }
          ],
          "scatter": [
           {
            "marker": {
             "colorbar": {
              "outlinewidth": 0,
              "ticks": ""
             }
            },
            "type": "scatter"
           }
          ],
          "scatter3d": [
           {
            "line": {
             "colorbar": {
              "outlinewidth": 0,
              "ticks": ""
             }
            },
            "marker": {
             "colorbar": {
              "outlinewidth": 0,
              "ticks": ""
             }
            },
            "type": "scatter3d"
           }
          ],
          "scattercarpet": [
           {
            "marker": {
             "colorbar": {
              "outlinewidth": 0,
              "ticks": ""
             }
            },
            "type": "scattercarpet"
           }
          ],
          "scattergeo": [
           {
            "marker": {
             "colorbar": {
              "outlinewidth": 0,
              "ticks": ""
             }
            },
            "type": "scattergeo"
           }
          ],
          "scattergl": [
           {
            "marker": {
             "colorbar": {
              "outlinewidth": 0,
              "ticks": ""
             }
            },
            "type": "scattergl"
           }
          ],
          "scattermapbox": [
           {
            "marker": {
             "colorbar": {
              "outlinewidth": 0,
              "ticks": ""
             }
            },
            "type": "scattermapbox"
           }
          ],
          "scatterpolar": [
           {
            "marker": {
             "colorbar": {
              "outlinewidth": 0,
              "ticks": ""
             }
            },
            "type": "scatterpolar"
           }
          ],
          "scatterpolargl": [
           {
            "marker": {
             "colorbar": {
              "outlinewidth": 0,
              "ticks": ""
             }
            },
            "type": "scatterpolargl"
           }
          ],
          "scatterternary": [
           {
            "marker": {
             "colorbar": {
              "outlinewidth": 0,
              "ticks": ""
             }
            },
            "type": "scatterternary"
           }
          ],
          "surface": [
           {
            "colorbar": {
             "outlinewidth": 0,
             "ticks": ""
            },
            "colorscale": [
             [
              0,
              "#0d0887"
             ],
             [
              0.1111111111111111,
              "#46039f"
             ],
             [
              0.2222222222222222,
              "#7201a8"
             ],
             [
              0.3333333333333333,
              "#9c179e"
             ],
             [
              0.4444444444444444,
              "#bd3786"
             ],
             [
              0.5555555555555556,
              "#d8576b"
             ],
             [
              0.6666666666666666,
              "#ed7953"
             ],
             [
              0.7777777777777778,
              "#fb9f3a"
             ],
             [
              0.8888888888888888,
              "#fdca26"
             ],
             [
              1,
              "#f0f921"
             ]
            ],
            "type": "surface"
           }
          ],
          "table": [
           {
            "cells": {
             "fill": {
              "color": "#EBF0F8"
             },
             "line": {
              "color": "white"
             }
            },
            "header": {
             "fill": {
              "color": "#C8D4E3"
             },
             "line": {
              "color": "white"
             }
            },
            "type": "table"
           }
          ]
         },
         "layout": {
          "annotationdefaults": {
           "arrowcolor": "#2a3f5f",
           "arrowhead": 0,
           "arrowwidth": 1
          },
          "autotypenumbers": "strict",
          "coloraxis": {
           "colorbar": {
            "outlinewidth": 0,
            "ticks": ""
           }
          },
          "colorscale": {
           "diverging": [
            [
             0,
             "#8e0152"
            ],
            [
             0.1,
             "#c51b7d"
            ],
            [
             0.2,
             "#de77ae"
            ],
            [
             0.3,
             "#f1b6da"
            ],
            [
             0.4,
             "#fde0ef"
            ],
            [
             0.5,
             "#f7f7f7"
            ],
            [
             0.6,
             "#e6f5d0"
            ],
            [
             0.7,
             "#b8e186"
            ],
            [
             0.8,
             "#7fbc41"
            ],
            [
             0.9,
             "#4d9221"
            ],
            [
             1,
             "#276419"
            ]
           ],
           "sequential": [
            [
             0,
             "#0d0887"
            ],
            [
             0.1111111111111111,
             "#46039f"
            ],
            [
             0.2222222222222222,
             "#7201a8"
            ],
            [
             0.3333333333333333,
             "#9c179e"
            ],
            [
             0.4444444444444444,
             "#bd3786"
            ],
            [
             0.5555555555555556,
             "#d8576b"
            ],
            [
             0.6666666666666666,
             "#ed7953"
            ],
            [
             0.7777777777777778,
             "#fb9f3a"
            ],
            [
             0.8888888888888888,
             "#fdca26"
            ],
            [
             1,
             "#f0f921"
            ]
           ],
           "sequentialminus": [
            [
             0,
             "#0d0887"
            ],
            [
             0.1111111111111111,
             "#46039f"
            ],
            [
             0.2222222222222222,
             "#7201a8"
            ],
            [
             0.3333333333333333,
             "#9c179e"
            ],
            [
             0.4444444444444444,
             "#bd3786"
            ],
            [
             0.5555555555555556,
             "#d8576b"
            ],
            [
             0.6666666666666666,
             "#ed7953"
            ],
            [
             0.7777777777777778,
             "#fb9f3a"
            ],
            [
             0.8888888888888888,
             "#fdca26"
            ],
            [
             1,
             "#f0f921"
            ]
           ]
          },
          "colorway": [
           "#636efa",
           "#EF553B",
           "#00cc96",
           "#ab63fa",
           "#FFA15A",
           "#19d3f3",
           "#FF6692",
           "#B6E880",
           "#FF97FF",
           "#FECB52"
          ],
          "font": {
           "color": "#2a3f5f"
          },
          "geo": {
           "bgcolor": "white",
           "lakecolor": "white",
           "landcolor": "#E5ECF6",
           "showlakes": true,
           "showland": true,
           "subunitcolor": "white"
          },
          "hoverlabel": {
           "align": "left"
          },
          "hovermode": "closest",
          "mapbox": {
           "style": "light"
          },
          "paper_bgcolor": "white",
          "plot_bgcolor": "#E5ECF6",
          "polar": {
           "angularaxis": {
            "gridcolor": "white",
            "linecolor": "white",
            "ticks": ""
           },
           "bgcolor": "#E5ECF6",
           "radialaxis": {
            "gridcolor": "white",
            "linecolor": "white",
            "ticks": ""
           }
          },
          "scene": {
           "xaxis": {
            "backgroundcolor": "#E5ECF6",
            "gridcolor": "white",
            "gridwidth": 2,
            "linecolor": "white",
            "showbackground": true,
            "ticks": "",
            "zerolinecolor": "white"
           },
           "yaxis": {
            "backgroundcolor": "#E5ECF6",
            "gridcolor": "white",
            "gridwidth": 2,
            "linecolor": "white",
            "showbackground": true,
            "ticks": "",
            "zerolinecolor": "white"
           },
           "zaxis": {
            "backgroundcolor": "#E5ECF6",
            "gridcolor": "white",
            "gridwidth": 2,
            "linecolor": "white",
            "showbackground": true,
            "ticks": "",
            "zerolinecolor": "white"
           }
          },
          "shapedefaults": {
           "line": {
            "color": "#2a3f5f"
           }
          },
          "ternary": {
           "aaxis": {
            "gridcolor": "white",
            "linecolor": "white",
            "ticks": ""
           },
           "baxis": {
            "gridcolor": "white",
            "linecolor": "white",
            "ticks": ""
           },
           "bgcolor": "#E5ECF6",
           "caxis": {
            "gridcolor": "white",
            "linecolor": "white",
            "ticks": ""
           }
          },
          "title": {
           "x": 0.05
          },
          "xaxis": {
           "automargin": true,
           "gridcolor": "white",
           "linecolor": "white",
           "ticks": "",
           "title": {
            "standoff": 15
           },
           "zerolinecolor": "white",
           "zerolinewidth": 2
          },
          "yaxis": {
           "automargin": true,
           "gridcolor": "white",
           "linecolor": "white",
           "ticks": "",
           "title": {
            "standoff": 15
           },
           "zerolinecolor": "white",
           "zerolinewidth": 2
          }
         }
        },
        "title": {
         "text": "Average Book User Rating Over The Years"
        },
        "width": 700,
        "xaxis": {
         "title": {
          "text": "Year"
         }
        },
        "yaxis": {
         "title": {
          "text": "Mean Rating"
         }
        }
       }
      },
      "text/html": [
       "<div>                            <div id=\"042fc43f-0ef6-4783-8fed-c4fd89c752a6\" class=\"plotly-graph-div\" style=\"height:400px; width:700px;\"></div>            <script type=\"text/javascript\">                require([\"plotly\"], function(Plotly) {                    window.PLOTLYENV=window.PLOTLYENV || {};                                    if (document.getElementById(\"042fc43f-0ef6-4783-8fed-c4fd89c752a6\")) {                    Plotly.newPlot(                        \"042fc43f-0ef6-4783-8fed-c4fd89c752a6\",                        [{\"name\":\"Mean\",\"type\":\"scatter\",\"x\":[2009,2010,2011,2012,2013,2014,2015,2016,2017,2018,2019],\"y\":[4.584,4.558,4.558000000000001,4.532,4.554,4.622000000000001,4.648,4.678000000000001,4.66,4.668000000000003,4.740000000000002]},{\"name\":\"Median\",\"type\":\"scatter\",\"x\":[2009,2010,2011,2012,2013,2014,2015,2016,2017,2018,2019],\"y\":[4.6,4.6,4.6,4.6,4.6,4.65,4.7,4.7,4.7,4.7,4.8]}],                        {\"autosize\":false,\"height\":400,\"template\":{\"data\":{\"bar\":[{\"error_x\":{\"color\":\"#2a3f5f\"},\"error_y\":{\"color\":\"#2a3f5f\"},\"marker\":{\"line\":{\"color\":\"#E5ECF6\",\"width\":0.5},\"pattern\":{\"fillmode\":\"overlay\",\"size\":10,\"solidity\":0.2}},\"type\":\"bar\"}],\"barpolar\":[{\"marker\":{\"line\":{\"color\":\"#E5ECF6\",\"width\":0.5},\"pattern\":{\"fillmode\":\"overlay\",\"size\":10,\"solidity\":0.2}},\"type\":\"barpolar\"}],\"carpet\":[{\"aaxis\":{\"endlinecolor\":\"#2a3f5f\",\"gridcolor\":\"white\",\"linecolor\":\"white\",\"minorgridcolor\":\"white\",\"startlinecolor\":\"#2a3f5f\"},\"baxis\":{\"endlinecolor\":\"#2a3f5f\",\"gridcolor\":\"white\",\"linecolor\":\"white\",\"minorgridcolor\":\"white\",\"startlinecolor\":\"#2a3f5f\"},\"type\":\"carpet\"}],\"choropleth\":[{\"colorbar\":{\"outlinewidth\":0,\"ticks\":\"\"},\"type\":\"choropleth\"}],\"contour\":[{\"colorbar\":{\"outlinewidth\":0,\"ticks\":\"\"},\"colorscale\":[[0.0,\"#0d0887\"],[0.1111111111111111,\"#46039f\"],[0.2222222222222222,\"#7201a8\"],[0.3333333333333333,\"#9c179e\"],[0.4444444444444444,\"#bd3786\"],[0.5555555555555556,\"#d8576b\"],[0.6666666666666666,\"#ed7953\"],[0.7777777777777778,\"#fb9f3a\"],[0.8888888888888888,\"#fdca26\"],[1.0,\"#f0f921\"]],\"type\":\"contour\"}],\"contourcarpet\":[{\"colorbar\":{\"outlinewidth\":0,\"ticks\":\"\"},\"type\":\"contourcarpet\"}],\"heatmap\":[{\"colorbar\":{\"outlinewidth\":0,\"ticks\":\"\"},\"colorscale\":[[0.0,\"#0d0887\"],[0.1111111111111111,\"#46039f\"],[0.2222222222222222,\"#7201a8\"],[0.3333333333333333,\"#9c179e\"],[0.4444444444444444,\"#bd3786\"],[0.5555555555555556,\"#d8576b\"],[0.6666666666666666,\"#ed7953\"],[0.7777777777777778,\"#fb9f3a\"],[0.8888888888888888,\"#fdca26\"],[1.0,\"#f0f921\"]],\"type\":\"heatmap\"}],\"heatmapgl\":[{\"colorbar\":{\"outlinewidth\":0,\"ticks\":\"\"},\"colorscale\":[[0.0,\"#0d0887\"],[0.1111111111111111,\"#46039f\"],[0.2222222222222222,\"#7201a8\"],[0.3333333333333333,\"#9c179e\"],[0.4444444444444444,\"#bd3786\"],[0.5555555555555556,\"#d8576b\"],[0.6666666666666666,\"#ed7953\"],[0.7777777777777778,\"#fb9f3a\"],[0.8888888888888888,\"#fdca26\"],[1.0,\"#f0f921\"]],\"type\":\"heatmapgl\"}],\"histogram\":[{\"marker\":{\"pattern\":{\"fillmode\":\"overlay\",\"size\":10,\"solidity\":0.2}},\"type\":\"histogram\"}],\"histogram2d\":[{\"colorbar\":{\"outlinewidth\":0,\"ticks\":\"\"},\"colorscale\":[[0.0,\"#0d0887\"],[0.1111111111111111,\"#46039f\"],[0.2222222222222222,\"#7201a8\"],[0.3333333333333333,\"#9c179e\"],[0.4444444444444444,\"#bd3786\"],[0.5555555555555556,\"#d8576b\"],[0.6666666666666666,\"#ed7953\"],[0.7777777777777778,\"#fb9f3a\"],[0.8888888888888888,\"#fdca26\"],[1.0,\"#f0f921\"]],\"type\":\"histogram2d\"}],\"histogram2dcontour\":[{\"colorbar\":{\"outlinewidth\":0,\"ticks\":\"\"},\"colorscale\":[[0.0,\"#0d0887\"],[0.1111111111111111,\"#46039f\"],[0.2222222222222222,\"#7201a8\"],[0.3333333333333333,\"#9c179e\"],[0.4444444444444444,\"#bd3786\"],[0.5555555555555556,\"#d8576b\"],[0.6666666666666666,\"#ed7953\"],[0.7777777777777778,\"#fb9f3a\"],[0.8888888888888888,\"#fdca26\"],[1.0,\"#f0f921\"]],\"type\":\"histogram2dcontour\"}],\"mesh3d\":[{\"colorbar\":{\"outlinewidth\":0,\"ticks\":\"\"},\"type\":\"mesh3d\"}],\"parcoords\":[{\"line\":{\"colorbar\":{\"outlinewidth\":0,\"ticks\":\"\"}},\"type\":\"parcoords\"}],\"pie\":[{\"automargin\":true,\"type\":\"pie\"}],\"scatter\":[{\"marker\":{\"colorbar\":{\"outlinewidth\":0,\"ticks\":\"\"}},\"type\":\"scatter\"}],\"scatter3d\":[{\"line\":{\"colorbar\":{\"outlinewidth\":0,\"ticks\":\"\"}},\"marker\":{\"colorbar\":{\"outlinewidth\":0,\"ticks\":\"\"}},\"type\":\"scatter3d\"}],\"scattercarpet\":[{\"marker\":{\"colorbar\":{\"outlinewidth\":0,\"ticks\":\"\"}},\"type\":\"scattercarpet\"}],\"scattergeo\":[{\"marker\":{\"colorbar\":{\"outlinewidth\":0,\"ticks\":\"\"}},\"type\":\"scattergeo\"}],\"scattergl\":[{\"marker\":{\"colorbar\":{\"outlinewidth\":0,\"ticks\":\"\"}},\"type\":\"scattergl\"}],\"scattermapbox\":[{\"marker\":{\"colorbar\":{\"outlinewidth\":0,\"ticks\":\"\"}},\"type\":\"scattermapbox\"}],\"scatterpolar\":[{\"marker\":{\"colorbar\":{\"outlinewidth\":0,\"ticks\":\"\"}},\"type\":\"scatterpolar\"}],\"scatterpolargl\":[{\"marker\":{\"colorbar\":{\"outlinewidth\":0,\"ticks\":\"\"}},\"type\":\"scatterpolargl\"}],\"scatterternary\":[{\"marker\":{\"colorbar\":{\"outlinewidth\":0,\"ticks\":\"\"}},\"type\":\"scatterternary\"}],\"surface\":[{\"colorbar\":{\"outlinewidth\":0,\"ticks\":\"\"},\"colorscale\":[[0.0,\"#0d0887\"],[0.1111111111111111,\"#46039f\"],[0.2222222222222222,\"#7201a8\"],[0.3333333333333333,\"#9c179e\"],[0.4444444444444444,\"#bd3786\"],[0.5555555555555556,\"#d8576b\"],[0.6666666666666666,\"#ed7953\"],[0.7777777777777778,\"#fb9f3a\"],[0.8888888888888888,\"#fdca26\"],[1.0,\"#f0f921\"]],\"type\":\"surface\"}],\"table\":[{\"cells\":{\"fill\":{\"color\":\"#EBF0F8\"},\"line\":{\"color\":\"white\"}},\"header\":{\"fill\":{\"color\":\"#C8D4E3\"},\"line\":{\"color\":\"white\"}},\"type\":\"table\"}]},\"layout\":{\"annotationdefaults\":{\"arrowcolor\":\"#2a3f5f\",\"arrowhead\":0,\"arrowwidth\":1},\"autotypenumbers\":\"strict\",\"coloraxis\":{\"colorbar\":{\"outlinewidth\":0,\"ticks\":\"\"}},\"colorscale\":{\"diverging\":[[0,\"#8e0152\"],[0.1,\"#c51b7d\"],[0.2,\"#de77ae\"],[0.3,\"#f1b6da\"],[0.4,\"#fde0ef\"],[0.5,\"#f7f7f7\"],[0.6,\"#e6f5d0\"],[0.7,\"#b8e186\"],[0.8,\"#7fbc41\"],[0.9,\"#4d9221\"],[1,\"#276419\"]],\"sequential\":[[0.0,\"#0d0887\"],[0.1111111111111111,\"#46039f\"],[0.2222222222222222,\"#7201a8\"],[0.3333333333333333,\"#9c179e\"],[0.4444444444444444,\"#bd3786\"],[0.5555555555555556,\"#d8576b\"],[0.6666666666666666,\"#ed7953\"],[0.7777777777777778,\"#fb9f3a\"],[0.8888888888888888,\"#fdca26\"],[1.0,\"#f0f921\"]],\"sequentialminus\":[[0.0,\"#0d0887\"],[0.1111111111111111,\"#46039f\"],[0.2222222222222222,\"#7201a8\"],[0.3333333333333333,\"#9c179e\"],[0.4444444444444444,\"#bd3786\"],[0.5555555555555556,\"#d8576b\"],[0.6666666666666666,\"#ed7953\"],[0.7777777777777778,\"#fb9f3a\"],[0.8888888888888888,\"#fdca26\"],[1.0,\"#f0f921\"]]},\"colorway\":[\"#636efa\",\"#EF553B\",\"#00cc96\",\"#ab63fa\",\"#FFA15A\",\"#19d3f3\",\"#FF6692\",\"#B6E880\",\"#FF97FF\",\"#FECB52\"],\"font\":{\"color\":\"#2a3f5f\"},\"geo\":{\"bgcolor\":\"white\",\"lakecolor\":\"white\",\"landcolor\":\"#E5ECF6\",\"showlakes\":true,\"showland\":true,\"subunitcolor\":\"white\"},\"hoverlabel\":{\"align\":\"left\"},\"hovermode\":\"closest\",\"mapbox\":{\"style\":\"light\"},\"paper_bgcolor\":\"white\",\"plot_bgcolor\":\"#E5ECF6\",\"polar\":{\"angularaxis\":{\"gridcolor\":\"white\",\"linecolor\":\"white\",\"ticks\":\"\"},\"bgcolor\":\"#E5ECF6\",\"radialaxis\":{\"gridcolor\":\"white\",\"linecolor\":\"white\",\"ticks\":\"\"}},\"scene\":{\"xaxis\":{\"backgroundcolor\":\"#E5ECF6\",\"gridcolor\":\"white\",\"gridwidth\":2,\"linecolor\":\"white\",\"showbackground\":true,\"ticks\":\"\",\"zerolinecolor\":\"white\"},\"yaxis\":{\"backgroundcolor\":\"#E5ECF6\",\"gridcolor\":\"white\",\"gridwidth\":2,\"linecolor\":\"white\",\"showbackground\":true,\"ticks\":\"\",\"zerolinecolor\":\"white\"},\"zaxis\":{\"backgroundcolor\":\"#E5ECF6\",\"gridcolor\":\"white\",\"gridwidth\":2,\"linecolor\":\"white\",\"showbackground\":true,\"ticks\":\"\",\"zerolinecolor\":\"white\"}},\"shapedefaults\":{\"line\":{\"color\":\"#2a3f5f\"}},\"ternary\":{\"aaxis\":{\"gridcolor\":\"white\",\"linecolor\":\"white\",\"ticks\":\"\"},\"baxis\":{\"gridcolor\":\"white\",\"linecolor\":\"white\",\"ticks\":\"\"},\"bgcolor\":\"#E5ECF6\",\"caxis\":{\"gridcolor\":\"white\",\"linecolor\":\"white\",\"ticks\":\"\"}},\"title\":{\"x\":0.05},\"xaxis\":{\"automargin\":true,\"gridcolor\":\"white\",\"linecolor\":\"white\",\"ticks\":\"\",\"title\":{\"standoff\":15},\"zerolinecolor\":\"white\",\"zerolinewidth\":2},\"yaxis\":{\"automargin\":true,\"gridcolor\":\"white\",\"linecolor\":\"white\",\"ticks\":\"\",\"title\":{\"standoff\":15},\"zerolinecolor\":\"white\",\"zerolinewidth\":2}}},\"title\":{\"text\":\"Average Book User Rating Over The Years\"},\"width\":700,\"xaxis\":{\"title\":{\"text\":\"Year\"}},\"yaxis\":{\"title\":{\"text\":\"Mean Rating\"}}},                        {\"responsive\": true}                    ).then(function(){\n",
       "                            \n",
       "var gd = document.getElementById('042fc43f-0ef6-4783-8fed-c4fd89c752a6');\n",
       "var x = new MutationObserver(function (mutations, observer) {{\n",
       "        var display = window.getComputedStyle(gd).display;\n",
       "        if (!display || display === 'none') {{\n",
       "            console.log([gd, 'removed!']);\n",
       "            Plotly.purge(gd);\n",
       "            observer.disconnect();\n",
       "        }}\n",
       "}});\n",
       "\n",
       "// Listen for the removal of the full notebook cells\n",
       "var notebookContainer = gd.closest('#notebook-container');\n",
       "if (notebookContainer) {{\n",
       "    x.observe(notebookContainer, {childList: true});\n",
       "}}\n",
       "\n",
       "// Listen for the clearing of the current output cell\n",
       "var outputEl = gd.closest('.output');\n",
       "if (outputEl) {{\n",
       "    x.observe(outputEl, {childList: true});\n",
       "}}\n",
       "\n",
       "                        })                };                });            </script>        </div>"
      ]
     },
     "metadata": {},
     "output_type": "display_data"
    }
   ],
   "source": [
    "tr1 = go.Scatter(x=gby_year.index,y=gby_year['User Rating'],name='Mean')\n",
    "tr2 = go.Scatter(x=gby_year_median.index,y=gby_year_median['User Rating'],name='Median')\n",
    "\n",
    "layout = dict(title='Average Book User Rating Over The Years',yaxis_title='Mean Rating',xaxis_title='Year',autosize=False,width=700,height=400,)\n",
    "go.Figure(data=[tr1,tr2],layout=layout)\n"
   ]
  }
 ],
 "metadata": {
  "kernelspec": {
   "display_name": "Python 3",
   "language": "python",
   "name": "python3"
  },
  "language_info": {
   "codemirror_mode": {
    "name": "ipython",
    "version": 3
   },
   "file_extension": ".py",
   "mimetype": "text/x-python",
   "name": "python",
   "nbconvert_exporter": "python",
   "pygments_lexer": "ipython3",
   "version": "3.7.7"
  }
 },
 "nbformat": 4,
 "nbformat_minor": 4
}

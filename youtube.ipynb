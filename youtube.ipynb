{
 "cells": [
  {
   "cell_type": "code",
   "execution_count": 4,
   "metadata": {},
   "outputs": [],
   "source": [
    "import pandas as pd\n",
    "import numpy as np\n",
    "import json\n",
    "import matplotlib.pyplot\n",
    "%matplotlib inline"
   ]
  },
  {
   "cell_type": "code",
   "execution_count": 5,
   "metadata": {},
   "outputs": [
    {
     "ename": "FileNotFoundError",
     "evalue": "[Errno 2] File USvideos.csv does not exist: 'USvideos.csv'",
     "output_type": "error",
     "traceback": [
      "\u001b[1;31m---------------------------------------------------------------------------\u001b[0m",
      "\u001b[1;31mFileNotFoundError\u001b[0m                         Traceback (most recent call last)",
      "\u001b[1;32m<ipython-input-5-773835d6efaf>\u001b[0m in \u001b[0;36m<module>\u001b[1;34m\u001b[0m\n\u001b[0;32m      1\u001b[0m \u001b[0mcol_list\u001b[0m \u001b[1;33m=\u001b[0m \u001b[1;33m[\u001b[0m\u001b[1;34m'category_id'\u001b[0m\u001b[1;33m,\u001b[0m \u001b[1;34m'views'\u001b[0m\u001b[1;33m,\u001b[0m \u001b[1;34m'likes'\u001b[0m\u001b[1;33m,\u001b[0m \u001b[1;34m'dislikes'\u001b[0m\u001b[1;33m,\u001b[0m \u001b[1;34m'channel_title'\u001b[0m\u001b[1;33m,\u001b[0m\u001b[1;34m'trending_date'\u001b[0m\u001b[1;33m,\u001b[0m\u001b[1;34m'video_id'\u001b[0m\u001b[1;33m,\u001b[0m\u001b[1;34m'title'\u001b[0m\u001b[1;33m]\u001b[0m\u001b[1;33m\u001b[0m\u001b[1;33m\u001b[0m\u001b[0m\n\u001b[0;32m      2\u001b[0m \u001b[1;33m\u001b[0m\u001b[0m\n\u001b[1;32m----> 3\u001b[1;33m \u001b[0mus_yt\u001b[0m \u001b[1;33m=\u001b[0m \u001b[0mpd\u001b[0m\u001b[1;33m.\u001b[0m\u001b[0mread_csv\u001b[0m\u001b[1;33m(\u001b[0m\u001b[1;34m'USvideos.csv'\u001b[0m\u001b[1;33m,\u001b[0m \u001b[0musecols\u001b[0m\u001b[1;33m=\u001b[0m\u001b[0mcol_list\u001b[0m\u001b[1;33m)\u001b[0m \u001b[1;31m#USA\u001b[0m\u001b[1;33m\u001b[0m\u001b[1;33m\u001b[0m\u001b[0m\n\u001b[0m\u001b[0;32m      4\u001b[0m \u001b[0mca_yt\u001b[0m \u001b[1;33m=\u001b[0m \u001b[0mpd\u001b[0m\u001b[1;33m.\u001b[0m\u001b[0mread_csv\u001b[0m\u001b[1;33m(\u001b[0m\u001b[1;34m'CAvideos.csv'\u001b[0m\u001b[1;33m,\u001b[0m \u001b[0musecols\u001b[0m\u001b[1;33m=\u001b[0m\u001b[0mcol_list\u001b[0m\u001b[1;33m)\u001b[0m \u001b[1;31m#Canada\u001b[0m\u001b[1;33m\u001b[0m\u001b[1;33m\u001b[0m\u001b[0m\n\u001b[0;32m      5\u001b[0m \u001b[0mde_yt\u001b[0m \u001b[1;33m=\u001b[0m \u001b[0mpd\u001b[0m\u001b[1;33m.\u001b[0m\u001b[0mread_csv\u001b[0m\u001b[1;33m(\u001b[0m\u001b[1;34m'DEvideos.csv'\u001b[0m\u001b[1;33m,\u001b[0m \u001b[0musecols\u001b[0m\u001b[1;33m=\u001b[0m\u001b[0mcol_list\u001b[0m\u001b[1;33m)\u001b[0m \u001b[1;31m#Germany\u001b[0m\u001b[1;33m\u001b[0m\u001b[1;33m\u001b[0m\u001b[0m\n",
      "\u001b[1;32m~\\anaconda3\\envs\\untitled1\\lib\\site-packages\\pandas\\io\\parsers.py\u001b[0m in \u001b[0;36mparser_f\u001b[1;34m(filepath_or_buffer, sep, delimiter, header, names, index_col, usecols, squeeze, prefix, mangle_dupe_cols, dtype, engine, converters, true_values, false_values, skipinitialspace, skiprows, skipfooter, nrows, na_values, keep_default_na, na_filter, verbose, skip_blank_lines, parse_dates, infer_datetime_format, keep_date_col, date_parser, dayfirst, cache_dates, iterator, chunksize, compression, thousands, decimal, lineterminator, quotechar, quoting, doublequote, escapechar, comment, encoding, dialect, error_bad_lines, warn_bad_lines, delim_whitespace, low_memory, memory_map, float_precision)\u001b[0m\n\u001b[0;32m    674\u001b[0m         )\n\u001b[0;32m    675\u001b[0m \u001b[1;33m\u001b[0m\u001b[0m\n\u001b[1;32m--> 676\u001b[1;33m         \u001b[1;32mreturn\u001b[0m \u001b[0m_read\u001b[0m\u001b[1;33m(\u001b[0m\u001b[0mfilepath_or_buffer\u001b[0m\u001b[1;33m,\u001b[0m \u001b[0mkwds\u001b[0m\u001b[1;33m)\u001b[0m\u001b[1;33m\u001b[0m\u001b[1;33m\u001b[0m\u001b[0m\n\u001b[0m\u001b[0;32m    677\u001b[0m \u001b[1;33m\u001b[0m\u001b[0m\n\u001b[0;32m    678\u001b[0m     \u001b[0mparser_f\u001b[0m\u001b[1;33m.\u001b[0m\u001b[0m__name__\u001b[0m \u001b[1;33m=\u001b[0m \u001b[0mname\u001b[0m\u001b[1;33m\u001b[0m\u001b[1;33m\u001b[0m\u001b[0m\n",
      "\u001b[1;32m~\\anaconda3\\envs\\untitled1\\lib\\site-packages\\pandas\\io\\parsers.py\u001b[0m in \u001b[0;36m_read\u001b[1;34m(filepath_or_buffer, kwds)\u001b[0m\n\u001b[0;32m    446\u001b[0m \u001b[1;33m\u001b[0m\u001b[0m\n\u001b[0;32m    447\u001b[0m     \u001b[1;31m# Create the parser.\u001b[0m\u001b[1;33m\u001b[0m\u001b[1;33m\u001b[0m\u001b[1;33m\u001b[0m\u001b[0m\n\u001b[1;32m--> 448\u001b[1;33m     \u001b[0mparser\u001b[0m \u001b[1;33m=\u001b[0m \u001b[0mTextFileReader\u001b[0m\u001b[1;33m(\u001b[0m\u001b[0mfp_or_buf\u001b[0m\u001b[1;33m,\u001b[0m \u001b[1;33m**\u001b[0m\u001b[0mkwds\u001b[0m\u001b[1;33m)\u001b[0m\u001b[1;33m\u001b[0m\u001b[1;33m\u001b[0m\u001b[0m\n\u001b[0m\u001b[0;32m    449\u001b[0m \u001b[1;33m\u001b[0m\u001b[0m\n\u001b[0;32m    450\u001b[0m     \u001b[1;32mif\u001b[0m \u001b[0mchunksize\u001b[0m \u001b[1;32mor\u001b[0m \u001b[0miterator\u001b[0m\u001b[1;33m:\u001b[0m\u001b[1;33m\u001b[0m\u001b[1;33m\u001b[0m\u001b[0m\n",
      "\u001b[1;32m~\\anaconda3\\envs\\untitled1\\lib\\site-packages\\pandas\\io\\parsers.py\u001b[0m in \u001b[0;36m__init__\u001b[1;34m(self, f, engine, **kwds)\u001b[0m\n\u001b[0;32m    878\u001b[0m             \u001b[0mself\u001b[0m\u001b[1;33m.\u001b[0m\u001b[0moptions\u001b[0m\u001b[1;33m[\u001b[0m\u001b[1;34m\"has_index_names\"\u001b[0m\u001b[1;33m]\u001b[0m \u001b[1;33m=\u001b[0m \u001b[0mkwds\u001b[0m\u001b[1;33m[\u001b[0m\u001b[1;34m\"has_index_names\"\u001b[0m\u001b[1;33m]\u001b[0m\u001b[1;33m\u001b[0m\u001b[1;33m\u001b[0m\u001b[0m\n\u001b[0;32m    879\u001b[0m \u001b[1;33m\u001b[0m\u001b[0m\n\u001b[1;32m--> 880\u001b[1;33m         \u001b[0mself\u001b[0m\u001b[1;33m.\u001b[0m\u001b[0m_make_engine\u001b[0m\u001b[1;33m(\u001b[0m\u001b[0mself\u001b[0m\u001b[1;33m.\u001b[0m\u001b[0mengine\u001b[0m\u001b[1;33m)\u001b[0m\u001b[1;33m\u001b[0m\u001b[1;33m\u001b[0m\u001b[0m\n\u001b[0m\u001b[0;32m    881\u001b[0m \u001b[1;33m\u001b[0m\u001b[0m\n\u001b[0;32m    882\u001b[0m     \u001b[1;32mdef\u001b[0m \u001b[0mclose\u001b[0m\u001b[1;33m(\u001b[0m\u001b[0mself\u001b[0m\u001b[1;33m)\u001b[0m\u001b[1;33m:\u001b[0m\u001b[1;33m\u001b[0m\u001b[1;33m\u001b[0m\u001b[0m\n",
      "\u001b[1;32m~\\anaconda3\\envs\\untitled1\\lib\\site-packages\\pandas\\io\\parsers.py\u001b[0m in \u001b[0;36m_make_engine\u001b[1;34m(self, engine)\u001b[0m\n\u001b[0;32m   1112\u001b[0m     \u001b[1;32mdef\u001b[0m \u001b[0m_make_engine\u001b[0m\u001b[1;33m(\u001b[0m\u001b[0mself\u001b[0m\u001b[1;33m,\u001b[0m \u001b[0mengine\u001b[0m\u001b[1;33m=\u001b[0m\u001b[1;34m\"c\"\u001b[0m\u001b[1;33m)\u001b[0m\u001b[1;33m:\u001b[0m\u001b[1;33m\u001b[0m\u001b[1;33m\u001b[0m\u001b[0m\n\u001b[0;32m   1113\u001b[0m         \u001b[1;32mif\u001b[0m \u001b[0mengine\u001b[0m \u001b[1;33m==\u001b[0m \u001b[1;34m\"c\"\u001b[0m\u001b[1;33m:\u001b[0m\u001b[1;33m\u001b[0m\u001b[1;33m\u001b[0m\u001b[0m\n\u001b[1;32m-> 1114\u001b[1;33m             \u001b[0mself\u001b[0m\u001b[1;33m.\u001b[0m\u001b[0m_engine\u001b[0m \u001b[1;33m=\u001b[0m \u001b[0mCParserWrapper\u001b[0m\u001b[1;33m(\u001b[0m\u001b[0mself\u001b[0m\u001b[1;33m.\u001b[0m\u001b[0mf\u001b[0m\u001b[1;33m,\u001b[0m \u001b[1;33m**\u001b[0m\u001b[0mself\u001b[0m\u001b[1;33m.\u001b[0m\u001b[0moptions\u001b[0m\u001b[1;33m)\u001b[0m\u001b[1;33m\u001b[0m\u001b[1;33m\u001b[0m\u001b[0m\n\u001b[0m\u001b[0;32m   1115\u001b[0m         \u001b[1;32melse\u001b[0m\u001b[1;33m:\u001b[0m\u001b[1;33m\u001b[0m\u001b[1;33m\u001b[0m\u001b[0m\n\u001b[0;32m   1116\u001b[0m             \u001b[1;32mif\u001b[0m \u001b[0mengine\u001b[0m \u001b[1;33m==\u001b[0m \u001b[1;34m\"python\"\u001b[0m\u001b[1;33m:\u001b[0m\u001b[1;33m\u001b[0m\u001b[1;33m\u001b[0m\u001b[0m\n",
      "\u001b[1;32m~\\anaconda3\\envs\\untitled1\\lib\\site-packages\\pandas\\io\\parsers.py\u001b[0m in \u001b[0;36m__init__\u001b[1;34m(self, src, **kwds)\u001b[0m\n\u001b[0;32m   1889\u001b[0m         \u001b[0mkwds\u001b[0m\u001b[1;33m[\u001b[0m\u001b[1;34m\"usecols\"\u001b[0m\u001b[1;33m]\u001b[0m \u001b[1;33m=\u001b[0m \u001b[0mself\u001b[0m\u001b[1;33m.\u001b[0m\u001b[0musecols\u001b[0m\u001b[1;33m\u001b[0m\u001b[1;33m\u001b[0m\u001b[0m\n\u001b[0;32m   1890\u001b[0m \u001b[1;33m\u001b[0m\u001b[0m\n\u001b[1;32m-> 1891\u001b[1;33m         \u001b[0mself\u001b[0m\u001b[1;33m.\u001b[0m\u001b[0m_reader\u001b[0m \u001b[1;33m=\u001b[0m \u001b[0mparsers\u001b[0m\u001b[1;33m.\u001b[0m\u001b[0mTextReader\u001b[0m\u001b[1;33m(\u001b[0m\u001b[0msrc\u001b[0m\u001b[1;33m,\u001b[0m \u001b[1;33m**\u001b[0m\u001b[0mkwds\u001b[0m\u001b[1;33m)\u001b[0m\u001b[1;33m\u001b[0m\u001b[1;33m\u001b[0m\u001b[0m\n\u001b[0m\u001b[0;32m   1892\u001b[0m         \u001b[0mself\u001b[0m\u001b[1;33m.\u001b[0m\u001b[0munnamed_cols\u001b[0m \u001b[1;33m=\u001b[0m \u001b[0mself\u001b[0m\u001b[1;33m.\u001b[0m\u001b[0m_reader\u001b[0m\u001b[1;33m.\u001b[0m\u001b[0munnamed_cols\u001b[0m\u001b[1;33m\u001b[0m\u001b[1;33m\u001b[0m\u001b[0m\n\u001b[0;32m   1893\u001b[0m \u001b[1;33m\u001b[0m\u001b[0m\n",
      "\u001b[1;32mpandas\\_libs\\parsers.pyx\u001b[0m in \u001b[0;36mpandas._libs.parsers.TextReader.__cinit__\u001b[1;34m()\u001b[0m\n",
      "\u001b[1;32mpandas\\_libs\\parsers.pyx\u001b[0m in \u001b[0;36mpandas._libs.parsers.TextReader._setup_parser_source\u001b[1;34m()\u001b[0m\n",
      "\u001b[1;31mFileNotFoundError\u001b[0m: [Errno 2] File USvideos.csv does not exist: 'USvideos.csv'"
     ]
    }
   ],
   "source": [
    "col_list = ['category_id', 'views', 'likes', 'dislikes', 'channel_title','trending_date','video_id','title']\n",
    "\n",
    "us_yt = pd.read_csv('USvideos.csv', usecols=col_list) #USA\n",
    "ca_yt = pd.read_csv('CAvideos.csv', usecols=col_list) #Canada\n",
    "de_yt = pd.read_csv('DEvideos.csv', usecols=col_list) #Germany\n",
    "fr_yt = pd.read_csv('FRvideos.csv', usecols=col_list) #France\n",
    "gb_yt = pd.read_csv('GBvideos.csv', usecols=col_list) #Great Brittain\n",
    "in_yt = pd.read_csv('INvideos.csv', usecols=col_list) #India\n",
    "jp_yt = pd.read_csv('JPvideos.csv', usecols=col_list) #Japan\n",
    "kr_yt = pd.read_csv('KRvideos.csv', usecols=col_list) #South Korea\n",
    "mx_yt = pd.read_csv('MXvideos.csv', usecols=col_list) #Mexico\n",
    "ru_yt = pd.read_csv('RUvideos.csv', usecols=col_list) #Russia"
   ]
  },
  {
   "cell_type": "code",
   "execution_count": 3,
   "metadata": {},
   "outputs": [],
   "source": [
    "df_list = [us_yt, ca_yt, de_yt, fr_yt, gb_yt, in_yt, jp_yt, kr_yt, mx_yt, ru_yt]\n",
    "df_name_list = ['United States', 'Canada', 'Germany', 'France', 'Great Britain', 'India',\n",
    "                'Japan', 'South Korea', 'Mexico', 'Russia']"
   ]
  },
  {
   "cell_type": "code",
   "execution_count": 4,
   "metadata": {},
   "outputs": [
    {
     "data": {
      "text/html": [
       "<div>\n",
       "<style scoped>\n",
       "    .dataframe tbody tr th:only-of-type {\n",
       "        vertical-align: middle;\n",
       "    }\n",
       "\n",
       "    .dataframe tbody tr th {\n",
       "        vertical-align: top;\n",
       "    }\n",
       "\n",
       "    .dataframe thead th {\n",
       "        text-align: right;\n",
       "    }\n",
       "</style>\n",
       "<table border=\"1\" class=\"dataframe\">\n",
       "  <thead>\n",
       "    <tr style=\"text-align: right;\">\n",
       "      <th></th>\n",
       "      <th>country</th>\n",
       "      <th>category_id</th>\n",
       "      <th>views</th>\n",
       "      <th>likes</th>\n",
       "      <th>dislikes</th>\n",
       "      <th>channel_title</th>\n",
       "      <th>trending_date</th>\n",
       "      <th>video_id</th>\n",
       "    </tr>\n",
       "  </thead>\n",
       "  <tbody>\n",
       "  </tbody>\n",
       "</table>\n",
       "</div>"
      ],
      "text/plain": [
       "Empty DataFrame\n",
       "Columns: [country, category_id, views, likes, dislikes, channel_title, trending_date, video_id]\n",
       "Index: []"
      ]
     },
     "metadata": {},
     "output_type": "display_data"
    }
   ],
   "source": [
    "Master_df = pd.DataFrame(columns=['country', 'category_id','views', 'likes', 'dislikes','channel_title','trending_date','video_id',])\n",
    "display(Master_df)"
   ]
  },
  {
   "cell_type": "code",
   "execution_count": 5,
   "metadata": {},
   "outputs": [
    {
     "name": "stdout",
     "output_type": "stream",
     "text": [
      "375942\n"
     ]
    }
   ],
   "source": [
    "#now to create a master dataframe with all the datapoints in it\n",
    "count = 0\n",
    "entries = 0\n",
    "while count != 10:\n",
    "    current_df = df_list[count]\n",
    "    entries = entries + len(current_df)\n",
    "    country_name = df_name_list[count]\n",
    "    current_df['country'] = country_name\n",
    "    Master_df = pd.merge(Master_df, current_df, how='outer')\n",
    "    count += 1\n",
    "print(entries)"
   ]
  },
  {
   "cell_type": "code",
   "execution_count": 6,
   "metadata": {},
   "outputs": [],
   "source": [
    "Master_df['trending_date'] = pd.to_datetime(Master_df['trending_date'],format = '%y.%d.%m')"
   ]
  },
  {
   "cell_type": "code",
   "execution_count": 7,
   "metadata": {},
   "outputs": [
    {
     "name": "stdout",
     "output_type": "stream",
     "text": [
      "375942\n",
      "375942\n"
     ]
    },
    {
     "data": {
      "text/html": [
       "<div>\n",
       "<style scoped>\n",
       "    .dataframe tbody tr th:only-of-type {\n",
       "        vertical-align: middle;\n",
       "    }\n",
       "\n",
       "    .dataframe tbody tr th {\n",
       "        vertical-align: top;\n",
       "    }\n",
       "\n",
       "    .dataframe thead th {\n",
       "        text-align: right;\n",
       "    }\n",
       "</style>\n",
       "<table border=\"1\" class=\"dataframe\">\n",
       "  <thead>\n",
       "    <tr style=\"text-align: right;\">\n",
       "      <th></th>\n",
       "      <th>video_id</th>\n",
       "      <th>trending_date</th>\n",
       "      <th>title</th>\n",
       "      <th>channel_title</th>\n",
       "      <th>category_id</th>\n",
       "      <th>views</th>\n",
       "      <th>likes</th>\n",
       "      <th>dislikes</th>\n",
       "      <th>country</th>\n",
       "    </tr>\n",
       "  </thead>\n",
       "  <tbody>\n",
       "    <tr>\n",
       "      <th>218926</th>\n",
       "      <td>wYWec3Q0cdk</td>\n",
       "      <td>2018-02-13</td>\n",
       "      <td>പാട്ട് കണ്ടിട്ട് മമ്മൂക്ക പറഞ്ഞത് കേട്ടോ | mam...</td>\n",
       "      <td>Scene Contra</td>\n",
       "      <td>22</td>\n",
       "      <td>330892</td>\n",
       "      <td>1268</td>\n",
       "      <td>469</td>\n",
       "      <td>India</td>\n",
       "    </tr>\n",
       "    <tr>\n",
       "      <th>264006</th>\n",
       "      <td>kJDXISzENyE</td>\n",
       "      <td>2017-12-05</td>\n",
       "      <td>목숨걸고 평창동계올림픽 종목들을 직접 해보았다!!! 허팝 살려~! (Play Win...</td>\n",
       "      <td>Heopop 허팝</td>\n",
       "      <td>24</td>\n",
       "      <td>149253</td>\n",
       "      <td>1335</td>\n",
       "      <td>101</td>\n",
       "      <td>South Korea</td>\n",
       "    </tr>\n",
       "    <tr>\n",
       "      <th>65335</th>\n",
       "      <td>_X840-0FWLA</td>\n",
       "      <td>2018-03-18</td>\n",
       "      <td>What's In The Green Barf? (GAME)</td>\n",
       "      <td>Good Mythical Morning</td>\n",
       "      <td>24</td>\n",
       "      <td>408527</td>\n",
       "      <td>7782</td>\n",
       "      <td>170</td>\n",
       "      <td>Canada</td>\n",
       "    </tr>\n",
       "    <tr>\n",
       "      <th>178931</th>\n",
       "      <td>13434sOl4Zo</td>\n",
       "      <td>2018-02-01</td>\n",
       "      <td>Paul the pig clears his room</td>\n",
       "      <td>Nicolle von Eberkopf</td>\n",
       "      <td>15</td>\n",
       "      <td>60057</td>\n",
       "      <td>165</td>\n",
       "      <td>1</td>\n",
       "      <td>Great Britain</td>\n",
       "    </tr>\n",
       "    <tr>\n",
       "      <th>344629</th>\n",
       "      <td>ZpP7pJjhfRY</td>\n",
       "      <td>2017-12-31</td>\n",
       "      <td>Я люблю Иpину Луценкo</td>\n",
       "      <td>Анатолий Шарий</td>\n",
       "      <td>23</td>\n",
       "      <td>214835</td>\n",
       "      <td>20956</td>\n",
       "      <td>200</td>\n",
       "      <td>Russia</td>\n",
       "    </tr>\n",
       "    <tr>\n",
       "      <th>226947</th>\n",
       "      <td>R-pkeVtp0Eo</td>\n",
       "      <td>2018-03-31</td>\n",
       "      <td>Ishq Mein Marjawan - 29th March 2018 - इश्क़ मे...</td>\n",
       "      <td>Colors TV</td>\n",
       "      <td>24</td>\n",
       "      <td>200438</td>\n",
       "      <td>572</td>\n",
       "      <td>62</td>\n",
       "      <td>India</td>\n",
       "    </tr>\n",
       "    <tr>\n",
       "      <th>207041</th>\n",
       "      <td>Jb-cD_jDS1M</td>\n",
       "      <td>2017-12-08</td>\n",
       "      <td>MEHANDI LAGA KE RAKHNA | WORLD TELEVISION PREM...</td>\n",
       "      <td>Worldwide Records Bhojpuri</td>\n",
       "      <td>10</td>\n",
       "      <td>28100</td>\n",
       "      <td>120</td>\n",
       "      <td>24</td>\n",
       "      <td>India</td>\n",
       "    </tr>\n",
       "    <tr>\n",
       "      <th>4200</th>\n",
       "      <td>SxAp27sFaIM</td>\n",
       "      <td>2017-12-05</td>\n",
       "      <td>Lil Uzi Vert - The Way Life Goes Remix (Feat. ...</td>\n",
       "      <td>LIL UZI VERT</td>\n",
       "      <td>22</td>\n",
       "      <td>682894</td>\n",
       "      <td>60206</td>\n",
       "      <td>1779</td>\n",
       "      <td>United States</td>\n",
       "    </tr>\n",
       "    <tr>\n",
       "      <th>107396</th>\n",
       "      <td>00fz01oCinw</td>\n",
       "      <td>2018-03-24</td>\n",
       "      <td>Moe Phoenix - L.I.E.B.E (prod. by Claptomanik)</td>\n",
       "      <td>LifeisPainTv</td>\n",
       "      <td>24</td>\n",
       "      <td>134307</td>\n",
       "      <td>11990</td>\n",
       "      <td>221</td>\n",
       "      <td>Germany</td>\n",
       "    </tr>\n",
       "    <tr>\n",
       "      <th>371025</th>\n",
       "      <td>0XEWWJenxTg</td>\n",
       "      <td>2018-05-20</td>\n",
       "      <td>BTS (방탄소년단) 'FAKE LOVE' Official MV Реакция | ...</td>\n",
       "      <td>Bodya</td>\n",
       "      <td>22</td>\n",
       "      <td>146075</td>\n",
       "      <td>16293</td>\n",
       "      <td>306</td>\n",
       "      <td>Russia</td>\n",
       "    </tr>\n",
       "  </tbody>\n",
       "</table>\n",
       "</div>"
      ],
      "text/plain": [
       "           video_id trending_date  \\\n",
       "218926  wYWec3Q0cdk    2018-02-13   \n",
       "264006  kJDXISzENyE    2017-12-05   \n",
       "65335   _X840-0FWLA    2018-03-18   \n",
       "178931  13434sOl4Zo    2018-02-01   \n",
       "344629  ZpP7pJjhfRY    2017-12-31   \n",
       "226947  R-pkeVtp0Eo    2018-03-31   \n",
       "207041  Jb-cD_jDS1M    2017-12-08   \n",
       "4200    SxAp27sFaIM    2017-12-05   \n",
       "107396  00fz01oCinw    2018-03-24   \n",
       "371025  0XEWWJenxTg    2018-05-20   \n",
       "\n",
       "                                                    title  \\\n",
       "218926  പാട്ട് കണ്ടിട്ട് മമ്മൂക്ക പറഞ്ഞത് കേട്ടോ | mam...   \n",
       "264006  목숨걸고 평창동계올림픽 종목들을 직접 해보았다!!! 허팝 살려~! (Play Win...   \n",
       "65335                    What's In The Green Barf? (GAME)   \n",
       "178931                       Paul the pig clears his room   \n",
       "344629                              Я люблю Иpину Луценкo   \n",
       "226947  Ishq Mein Marjawan - 29th March 2018 - इश्क़ मे...   \n",
       "207041  MEHANDI LAGA KE RAKHNA | WORLD TELEVISION PREM...   \n",
       "4200    Lil Uzi Vert - The Way Life Goes Remix (Feat. ...   \n",
       "107396     Moe Phoenix - L.I.E.B.E (prod. by Claptomanik)   \n",
       "371025  BTS (방탄소년단) 'FAKE LOVE' Official MV Реакция | ...   \n",
       "\n",
       "                     channel_title  category_id   views  likes  dislikes  \\\n",
       "218926                Scene Contra           22  330892   1268       469   \n",
       "264006                   Heopop 허팝           24  149253   1335       101   \n",
       "65335        Good Mythical Morning           24  408527   7782       170   \n",
       "178931        Nicolle von Eberkopf           15   60057    165         1   \n",
       "344629              Анатолий Шарий           23  214835  20956       200   \n",
       "226947                   Colors TV           24  200438    572        62   \n",
       "207041  Worldwide Records Bhojpuri           10   28100    120        24   \n",
       "4200                  LIL UZI VERT           22  682894  60206      1779   \n",
       "107396                LifeisPainTv           24  134307  11990       221   \n",
       "371025                       Bodya           22  146075  16293       306   \n",
       "\n",
       "              country  \n",
       "218926          India  \n",
       "264006    South Korea  \n",
       "65335          Canada  \n",
       "178931  Great Britain  \n",
       "344629         Russia  \n",
       "226947          India  \n",
       "207041          India  \n",
       "4200    United States  \n",
       "107396        Germany  \n",
       "371025         Russia  "
      ]
     },
     "metadata": {},
     "output_type": "display_data"
    }
   ],
   "source": [
    "#comparing the total number of entries to make sure I didn't lose any data points \n",
    "print(entries) \n",
    "print(len(Master_df)) \n",
    "display(Master_df.sample(10))"
   ]
  },
  {
   "cell_type": "code",
   "execution_count": 8,
   "metadata": {},
   "outputs": [],
   "source": [
    "Master_df.drop_duplicates(inplace = True)"
   ]
  },
  {
   "cell_type": "code",
   "execution_count": 9,
   "metadata": {},
   "outputs": [
    {
     "name": "stdout",
     "output_type": "stream",
     "text": [
      "375942\n",
      "363363\n"
     ]
    }
   ],
   "source": [
    "print(entries) \n",
    "print(len(Master_df)) "
   ]
  },
  {
   "cell_type": "code",
   "execution_count": 10,
   "metadata": {},
   "outputs": [],
   "source": [
    "with open('US_category_id.json') as f:\n",
    "    categories = json.load(f)['items']"
   ]
  },
  {
   "cell_type": "code",
   "execution_count": 11,
   "metadata": {},
   "outputs": [],
   "source": [
    "category_name = {}\n",
    "for category in categories:\n",
    "    category_name[int(category['id'])] = category['snippet']['title']\n",
    "Master_df['category_name'] = Master_df['category_id'].map(category_name)"
   ]
  },
  {
   "cell_type": "code",
   "execution_count": 12,
   "metadata": {},
   "outputs": [],
   "source": [
    "category_name = {int(x['id']):x['id'] + '-' + x['snippet']['title'] for x in categories}"
   ]
  },
  {
   "cell_type": "code",
   "execution_count": 60,
   "metadata": {},
   "outputs": [
    {
     "data": {
      "text/html": [
       "<div>\n",
       "<style scoped>\n",
       "    .dataframe tbody tr th:only-of-type {\n",
       "        vertical-align: middle;\n",
       "    }\n",
       "\n",
       "    .dataframe tbody tr th {\n",
       "        vertical-align: top;\n",
       "    }\n",
       "\n",
       "    .dataframe thead th {\n",
       "        text-align: right;\n",
       "    }\n",
       "</style>\n",
       "<table border=\"1\" class=\"dataframe\">\n",
       "  <thead>\n",
       "    <tr style=\"text-align: right;\">\n",
       "      <th></th>\n",
       "      <th>video_id</th>\n",
       "      <th>trending_date</th>\n",
       "      <th>title</th>\n",
       "      <th>channel_title</th>\n",
       "      <th>category_id</th>\n",
       "      <th>views</th>\n",
       "      <th>likes</th>\n",
       "      <th>dislikes</th>\n",
       "      <th>country</th>\n",
       "      <th>category_name</th>\n",
       "    </tr>\n",
       "  </thead>\n",
       "  <tbody>\n",
       "    <tr>\n",
       "      <th>0</th>\n",
       "      <td>2kyS6SvSYSE</td>\n",
       "      <td>2017-11-14</td>\n",
       "      <td>WE WANT TO TALK ABOUT OUR MARRIAGE</td>\n",
       "      <td>CaseyNeistat</td>\n",
       "      <td>22</td>\n",
       "      <td>748374</td>\n",
       "      <td>57527</td>\n",
       "      <td>2966</td>\n",
       "      <td>United States</td>\n",
       "      <td>22-People &amp; Blogs</td>\n",
       "    </tr>\n",
       "    <tr>\n",
       "      <th>1</th>\n",
       "      <td>1ZAPwfrtAFY</td>\n",
       "      <td>2017-11-14</td>\n",
       "      <td>The Trump Presidency: Last Week Tonight with J...</td>\n",
       "      <td>LastWeekTonight</td>\n",
       "      <td>24</td>\n",
       "      <td>2418783</td>\n",
       "      <td>97185</td>\n",
       "      <td>6146</td>\n",
       "      <td>United States</td>\n",
       "      <td>24-Entertainment</td>\n",
       "    </tr>\n",
       "    <tr>\n",
       "      <th>2</th>\n",
       "      <td>5qpjK5DgCt4</td>\n",
       "      <td>2017-11-14</td>\n",
       "      <td>Racist Superman | Rudy Mancuso, King Bach &amp; Le...</td>\n",
       "      <td>Rudy Mancuso</td>\n",
       "      <td>23</td>\n",
       "      <td>3191434</td>\n",
       "      <td>146033</td>\n",
       "      <td>5339</td>\n",
       "      <td>United States</td>\n",
       "      <td>23-Comedy</td>\n",
       "    </tr>\n",
       "    <tr>\n",
       "      <th>3</th>\n",
       "      <td>puqaWrEC7tY</td>\n",
       "      <td>2017-11-14</td>\n",
       "      <td>Nickelback Lyrics: Real or Fake?</td>\n",
       "      <td>Good Mythical Morning</td>\n",
       "      <td>24</td>\n",
       "      <td>343168</td>\n",
       "      <td>10172</td>\n",
       "      <td>666</td>\n",
       "      <td>United States</td>\n",
       "      <td>24-Entertainment</td>\n",
       "    </tr>\n",
       "    <tr>\n",
       "      <th>4</th>\n",
       "      <td>d380meD0W0M</td>\n",
       "      <td>2017-11-14</td>\n",
       "      <td>I Dare You: GOING BALD!?</td>\n",
       "      <td>nigahiga</td>\n",
       "      <td>24</td>\n",
       "      <td>2095731</td>\n",
       "      <td>132235</td>\n",
       "      <td>1989</td>\n",
       "      <td>United States</td>\n",
       "      <td>24-Entertainment</td>\n",
       "    </tr>\n",
       "  </tbody>\n",
       "</table>\n",
       "</div>"
      ],
      "text/plain": [
       "      video_id trending_date  \\\n",
       "0  2kyS6SvSYSE    2017-11-14   \n",
       "1  1ZAPwfrtAFY    2017-11-14   \n",
       "2  5qpjK5DgCt4    2017-11-14   \n",
       "3  puqaWrEC7tY    2017-11-14   \n",
       "4  d380meD0W0M    2017-11-14   \n",
       "\n",
       "                                               title          channel_title  \\\n",
       "0                 WE WANT TO TALK ABOUT OUR MARRIAGE           CaseyNeistat   \n",
       "1  The Trump Presidency: Last Week Tonight with J...        LastWeekTonight   \n",
       "2  Racist Superman | Rudy Mancuso, King Bach & Le...           Rudy Mancuso   \n",
       "3                   Nickelback Lyrics: Real or Fake?  Good Mythical Morning   \n",
       "4                           I Dare You: GOING BALD!?               nigahiga   \n",
       "\n",
       "   category_id    views   likes  dislikes        country      category_name  \n",
       "0           22   748374   57527      2966  United States  22-People & Blogs  \n",
       "1           24  2418783   97185      6146  United States   24-Entertainment  \n",
       "2           23  3191434  146033      5339  United States          23-Comedy  \n",
       "3           24   343168   10172       666  United States   24-Entertainment  \n",
       "4           24  2095731  132235      1989  United States   24-Entertainment  "
      ]
     },
     "execution_count": 60,
     "metadata": {},
     "output_type": "execute_result"
    }
   ],
   "source": [
    "Master_df['category_name'] = Master_df['category_id'].map(category_name)\n",
    "Master_df.head(5)"
   ]
  },
  {
   "cell_type": "code",
   "execution_count": 1,
   "metadata": {},
   "outputs": [
    {
     "ename": "NameError",
     "evalue": "name 'Master_df' is not defined",
     "output_type": "error",
     "traceback": [
      "\u001b[1;31m---------------------------------------------------------------------------\u001b[0m",
      "\u001b[1;31mNameError\u001b[0m                                 Traceback (most recent call last)",
      "\u001b[1;32m<ipython-input-1-703539ded4b6>\u001b[0m in \u001b[0;36m<module>\u001b[1;34m\u001b[0m\n\u001b[1;32m----> 1\u001b[1;33m \u001b[0mtops_Canada\u001b[0m \u001b[1;33m=\u001b[0m \u001b[0mMaster_df\u001b[0m\u001b[1;33m[\u001b[0m\u001b[0mMaster_df\u001b[0m\u001b[1;33m.\u001b[0m\u001b[0mcountry\u001b[0m \u001b[1;33m==\u001b[0m \u001b[1;34m'Canada'\u001b[0m\u001b[1;33m]\u001b[0m\u001b[1;33m[\u001b[0m\u001b[1;33m[\u001b[0m\u001b[1;34m'channel_title'\u001b[0m\u001b[1;33m,\u001b[0m\u001b[1;34m'title'\u001b[0m\u001b[1;33m,\u001b[0m\u001b[1;34m'views'\u001b[0m\u001b[1;33m,\u001b[0m\u001b[1;34m'country'\u001b[0m\u001b[1;33m,\u001b[0m\u001b[1;34m'trending_date'\u001b[0m\u001b[1;33m]\u001b[0m\u001b[1;33m]\u001b[0m\u001b[1;33m.\u001b[0m\u001b[0mgroupby\u001b[0m\u001b[1;33m(\u001b[0m\u001b[1;33m[\u001b[0m\u001b[1;34m'channel_title'\u001b[0m\u001b[1;33m,\u001b[0m\u001b[1;34m'title'\u001b[0m\u001b[1;33m,\u001b[0m\u001b[1;34m'country'\u001b[0m\u001b[1;33m,\u001b[0m\u001b[1;34m'trending_date'\u001b[0m\u001b[1;33m]\u001b[0m\u001b[1;33m)\u001b[0m\u001b[1;33m.\u001b[0m\u001b[0msum\u001b[0m\u001b[1;33m(\u001b[0m\u001b[1;33m)\u001b[0m\u001b[1;33m\u001b[0m\u001b[1;33m\u001b[0m\u001b[0m\n\u001b[0m\u001b[0;32m      2\u001b[0m \u001b[1;31m#tops_Canada.head(20)\u001b[0m\u001b[1;33m\u001b[0m\u001b[1;33m\u001b[0m\u001b[1;33m\u001b[0m\u001b[0m\n\u001b[0;32m      3\u001b[0m \u001b[0mCA_agg_top\u001b[0m \u001b[1;33m=\u001b[0m \u001b[0mtops_Canada\u001b[0m\u001b[1;33m.\u001b[0m\u001b[0mgroupby\u001b[0m\u001b[1;33m(\u001b[0m\u001b[1;33m[\u001b[0m\u001b[1;34m'channel_title'\u001b[0m\u001b[1;33m,\u001b[0m\u001b[1;34m'title'\u001b[0m\u001b[1;33m,\u001b[0m\u001b[1;34m'country'\u001b[0m\u001b[1;33m]\u001b[0m\u001b[1;33m)\u001b[0m\u001b[1;33m[\u001b[0m\u001b[1;34m'views'\u001b[0m\u001b[1;33m]\u001b[0m\u001b[1;33m.\u001b[0m\u001b[0magg\u001b[0m\u001b[1;33m(\u001b[0m\u001b[1;33m[\u001b[0m\u001b[1;34m'max'\u001b[0m\u001b[1;33m]\u001b[0m\u001b[1;33m)\u001b[0m\u001b[1;31m#.nlargest(10, columns = 'max')\u001b[0m\u001b[1;33m\u001b[0m\u001b[1;33m\u001b[0m\u001b[0m\n\u001b[0;32m      4\u001b[0m \u001b[1;31m#CA_agg_top.head(20)\u001b[0m\u001b[1;33m\u001b[0m\u001b[1;33m\u001b[0m\u001b[1;33m\u001b[0m\u001b[0m\n\u001b[0;32m      5\u001b[0m \u001b[0mCA_agg_top_sum\u001b[0m \u001b[1;33m=\u001b[0m \u001b[0mCA_agg_top\u001b[0m\u001b[1;33m.\u001b[0m\u001b[0mgroupby\u001b[0m\u001b[1;33m(\u001b[0m\u001b[1;33m[\u001b[0m\u001b[1;34m'channel_title'\u001b[0m\u001b[1;33m,\u001b[0m\u001b[1;34m'country'\u001b[0m\u001b[1;33m]\u001b[0m\u001b[1;33m)\u001b[0m\u001b[1;33m.\u001b[0m\u001b[0msum\u001b[0m\u001b[1;33m(\u001b[0m\u001b[1;33m)\u001b[0m\u001b[1;33m.\u001b[0m\u001b[0mnlargest\u001b[0m\u001b[1;33m(\u001b[0m\u001b[1;36m15\u001b[0m\u001b[1;33m,\u001b[0m \u001b[0mcolumns\u001b[0m \u001b[1;33m=\u001b[0m \u001b[1;34m'max'\u001b[0m\u001b[1;33m)\u001b[0m\u001b[1;33m\u001b[0m\u001b[1;33m\u001b[0m\u001b[0m\n",
      "\u001b[1;31mNameError\u001b[0m: name 'Master_df' is not defined"
     ]
    }
   ],
   "source": [
    "tops_Canada = Master_df[Master_df.country == 'Canada'][['channel_title','title','views','country','trending_date']].groupby(['channel_title','title','country','trending_date']).sum()\n",
    "#tops_Canada.head(20)\n",
    "CA_agg_top = tops_Canada.groupby(['channel_title','title','country'])['views'].agg(['max'])#.nlargest(10, columns = 'max')\n",
    "#CA_agg_top.head(20)\n",
    "CA_agg_top_sum = CA_agg_top.groupby(['channel_title','country']).sum().nlargest(15, columns = 'max')\n",
    "CA_agg_top_sum = CA_agg_top_sum.rename(columns={'max':'max_views'})\n",
    "CA_agg_top_sum"
   ]
  },
  {
   "cell_type": "code",
   "execution_count": 17,
   "metadata": {},
   "outputs": [],
   "source": [
    "tops_France = Master_df[Master_df.country == 'France'][['channel_title','title','views','country','trending_date']].groupby(['channel_title','title','country','trending_date']).sum()\n",
    "FR_agg_top = tops_France.groupby(['channel_title','title','country'])['views'].agg(['max'])\n",
    "FR_agg_top_sum = FR_agg_top.groupby(['channel_title','country']).sum().nlargest(15, columns = 'max')\n",
    "FR_agg_top_sum = FR_agg_top_sum.rename(columns={'max':'max_views'})\n",
    "#FR_agg_top_sum"
   ]
  },
  {
   "cell_type": "code",
   "execution_count": 18,
   "metadata": {},
   "outputs": [],
   "source": [
    "tops_US = Master_df[Master_df.country == 'United States'][['channel_title','title','views','country','trending_date']].groupby(['channel_title','title','country','trending_date']).sum()\n",
    "US_agg_top = tops_US.groupby(['channel_title','title','country'])['views'].agg(['max'])\n",
    "US_agg_top_sum = US_agg_top.groupby(['channel_title','country']).sum().nlargest(15, columns = 'max')\n",
    "US_agg_top_sum = US_agg_top_sum.rename(columns={'max':'max_views'})\n",
    "#US_agg_top_sum"
   ]
  },
  {
   "cell_type": "code",
   "execution_count": 19,
   "metadata": {},
   "outputs": [],
   "source": [
    "tops_Germany = Master_df[Master_df.country == 'Germany'][['channel_title','title','views','country','trending_date']].groupby(['channel_title','title','country','trending_date']).sum()\n",
    "Germany_agg_top = tops_Germany.groupby(['channel_title','title','country'])['views'].agg(['max'])\n",
    "Germany_agg_top_sum = Germany_agg_top.groupby(['channel_title','country']).sum().nlargest(15, columns = 'max')\n",
    "Germany_agg_top_sum = Germany_agg_top_sum.rename(columns={'max':'max_views'})\n",
    "#Germany_agg_top_sum"
   ]
  },
  {
   "cell_type": "code",
   "execution_count": 20,
   "metadata": {},
   "outputs": [],
   "source": [
    "tops_GB = Master_df[Master_df.country == 'Great Britain'][['channel_title','title','views','country','trending_date']].groupby(['channel_title','title','country','trending_date']).sum()\n",
    "GB_agg_top = tops_GB.groupby(['channel_title','title','country'])['views'].agg(['max'])\n",
    "GB_agg_top_sum = GB_agg_top.groupby(['channel_title','country']).sum().nlargest(15, columns = 'max')\n",
    "GB_agg_top_sum = GB_agg_top_sum.rename(columns={'max':'max_views'})\n",
    "#GB_agg_top_sum"
   ]
  },
  {
   "cell_type": "code",
   "execution_count": 21,
   "metadata": {},
   "outputs": [],
   "source": [
    "tops_India = Master_df[Master_df.country == 'India'][['channel_title','title','views','country','trending_date']].groupby(['channel_title','title','country','trending_date']).sum()\n",
    "India_agg_top = tops_India.groupby(['channel_title','title','country'])['views'].agg(['max'])\n",
    "India_agg_top_sum = India_agg_top.groupby(['channel_title','country']).sum().nlargest(15, columns = 'max')\n",
    "India_agg_top_sum = India_agg_top_sum.rename(columns={'max':'max_views'})\n",
    "#India_agg_top_sum"
   ]
  },
  {
   "cell_type": "code",
   "execution_count": 22,
   "metadata": {},
   "outputs": [],
   "source": [
    "tops_SK = Master_df[Master_df.country == 'South Korea'][['channel_title','title','views','country','trending_date']].groupby(['channel_title','title','country','trending_date']).sum()\n",
    "SK_agg_top = tops_SK.groupby(['channel_title','title','country'])['views'].agg(['max'])\n",
    "SK_agg_top_sum = SK_agg_top.groupby(['channel_title','country']).sum().nlargest(15, columns = 'max')\n",
    "SK_agg_top_sum = SK_agg_top_sum.rename(columns={'max':'max_views'})\n",
    "#SK_agg_top_sum"
   ]
  },
  {
   "cell_type": "code",
   "execution_count": 23,
   "metadata": {},
   "outputs": [],
   "source": [
    "tops_Mexico = Master_df[Master_df.country == 'Mexico'][['channel_title','title','views','country','trending_date']].groupby(['channel_title','title','country','trending_date']).sum()\n",
    "Mexico_agg_top = tops_Mexico.groupby(['channel_title','title','country'])['views'].agg(['max'])\n",
    "Mexico_agg_top_sum = Mexico_agg_top.groupby(['channel_title','country']).sum().nlargest(15, columns = 'max')\n",
    "Mexico_agg_top_sum = Mexico_agg_top_sum.rename(columns={'max':'max_views'})\n",
    "#Mexico_agg_top_sum"
   ]
  },
  {
   "cell_type": "code",
   "execution_count": 24,
   "metadata": {},
   "outputs": [],
   "source": [
    "tops_Russia = Master_df[Master_df.country == 'Russia'][['channel_title','title','views','country','trending_date']].groupby(['channel_title','title','country','trending_date']).sum()\n",
    "Russia_agg_top = tops_Russia.groupby(['channel_title','title','country'])['views'].agg(['max'])\n",
    "Russia_agg_top_sum = Russia_agg_top.groupby(['channel_title','country']).sum().nlargest(15, columns = 'max')\n",
    "Russia_agg_top_sum = Russia_agg_top_sum.rename(columns={'max':'max_views'})\n",
    "#Russia_agg_top_sum"
   ]
  },
  {
   "cell_type": "code",
   "execution_count": 25,
   "metadata": {},
   "outputs": [],
   "source": [
    "tops_Japan = Master_df[Master_df.country == 'Japan'][['channel_title','title','views','country','trending_date']].groupby(['channel_title','title','country','trending_date']).sum()\n",
    "Japan_agg_top = tops_Japan.groupby(['channel_title','title','country'])['views'].agg(['max'])\n",
    "Japan_agg_top_sum = Japan_agg_top.groupby(['channel_title','country']).sum().nlargest(15, columns = 'max')\n",
    "Japan_agg_top_sum = Japan_agg_top_sum.rename(columns={'max':'max_views'})\n",
    "#Japan_agg_top_sum"
   ]
  },
  {
   "cell_type": "code",
   "execution_count": 27,
   "metadata": {},
   "outputs": [],
   "source": [
    "new_max_channels = pd.concat([Russia_agg_top_sum, Mexico_agg_top_sum,SK_agg_top_sum,Japan_agg_top_sum,India_agg_top_sum,GB_agg_top_sum,Germany_agg_top_sum,US_agg_top_sum,FR_agg_top_sum,CA_agg_top_sum])\n",
    "#new_max_channels"
   ]
  },
  {
   "cell_type": "code",
   "execution_count": 28,
   "metadata": {},
   "outputs": [],
   "source": [
    "#new_max_channels.to_csv(r'new_max_channels.csv')"
   ]
  },
  {
   "cell_type": "code",
   "execution_count": 29,
   "metadata": {},
   "outputs": [],
   "source": [
    "categ_GB = Master_df[Master_df.country == 'Great Britain'][['category_name','channel_title','title','views','country','trending_date']].groupby(['category_name','channel_title','title','country','trending_date']).sum()\n",
    "categ_GB_max = categ_GB.groupby(['category_name','channel_title','title','country'])['views'].agg(['max'])\n",
    "categ_GB_sum = categ_GB_max.groupby(['category_name','channel_title','country']).sum()\n",
    "top_cat_GB = categ_GB_sum .groupby(['category_name','country']).sum().sort_values(by=['max'], ascending=False)#.nlargest(15, columns = 'max')\n",
    "top_ctg_GB = top_cat_GB.rename(columns={'max':'max_views'})\n",
    "#top_ctg_GB "
   ]
  },
  {
   "cell_type": "code",
   "execution_count": 30,
   "metadata": {},
   "outputs": [],
   "source": [
    "categ_Japan = Master_df[Master_df.country == 'Japan'][['category_name','channel_title','title','views','country','trending_date']].groupby(['category_name','channel_title','title','country','trending_date']).sum()\n",
    "categ_Japan_max = categ_Japan.groupby(['category_name','channel_title','title','country'])['views'].agg(['max'])\n",
    "categ_Japan_sum = categ_Japan_max.groupby(['category_name','channel_title','country']).sum()\n",
    "top_cat_Japan = categ_Japan_sum .groupby(['category_name','country']).sum().sort_values(by=['max'], ascending=False).nlargest(15, columns = 'max')\n",
    "top_ctg_Japan = top_cat_Japan.rename(columns={'max':'max_views'})\n",
    "#top_ctg_Japan "
   ]
  },
  {
   "cell_type": "code",
   "execution_count": 31,
   "metadata": {},
   "outputs": [],
   "source": [
    "categ_Russia = Master_df[Master_df.country == 'Russia'][['category_name','channel_title','title','views','country','trending_date']].groupby(['category_name','channel_title','title','country','trending_date']).sum()\n",
    "categ_Russia_max = categ_Russia.groupby(['category_name','channel_title','title','country'])['views'].agg(['max'])\n",
    "categ_Russia_sum = categ_Russia_max.groupby(['category_name','channel_title','country']).sum()\n",
    "top_cat_Russia = categ_Russia_sum .groupby(['category_name','country']).sum().sort_values(by=['max'], ascending=False).nlargest(10, columns = 'max')\n",
    "top_ctg_Russia = top_cat_Russia.rename(columns={'max':'max_views'})\n",
    "#top_ctg_Russia "
   ]
  },
  {
   "cell_type": "code",
   "execution_count": 32,
   "metadata": {},
   "outputs": [],
   "source": [
    "categ_Mexico = Master_df[Master_df.country == 'Mexico'][['category_name','channel_title','title','views','country','trending_date']].groupby(['category_name','channel_title','title','country','trending_date']).sum()\n",
    "categ_Mexico_max = categ_Mexico.groupby(['category_name','channel_title','title','country'])['views'].agg(['max'])\n",
    "categ_Mexico_sum = categ_Mexico_max.groupby(['category_name','channel_title','country']).sum()\n",
    "top_cat_Mexico = categ_Mexico_sum .groupby(['category_name','country']).sum().sort_values(by=['max'], ascending=False).nlargest(10, columns = 'max')\n",
    "top_ctg_Mexico = top_cat_Mexico.rename(columns={'max':'max_views'})\n",
    "#top_ctg_Mexico"
   ]
  },
  {
   "cell_type": "code",
   "execution_count": 33,
   "metadata": {},
   "outputs": [],
   "source": [
    "categ_SK = Master_df[Master_df.country == 'South Korea'][['category_name','channel_title','title','views','country','trending_date']].groupby(['category_name','channel_title','title','country','trending_date']).sum()\n",
    "categ_SK_max = categ_SK.groupby(['category_name','channel_title','title','country'])['views'].agg(['max'])\n",
    "categ_SK_sum = categ_SK_max.groupby(['category_name','channel_title','country']).sum()\n",
    "top_cat_SK = categ_SK_sum .groupby(['category_name','country']).sum().sort_values(by=['max'], ascending=False).nlargest(10, columns = 'max')\n",
    "top_ctg_SK = top_cat_SK.rename(columns={'max':'max_views'})\n",
    "#top_ctg_SK"
   ]
  },
  {
   "cell_type": "code",
   "execution_count": 34,
   "metadata": {},
   "outputs": [],
   "source": [
    "categ_India = Master_df[Master_df.country == 'India'][['category_name','channel_title','title','views','country','trending_date']].groupby(['category_name','channel_title','title','country','trending_date']).sum()\n",
    "categ_India_max = categ_India.groupby(['category_name','channel_title','title','country'])['views'].agg(['max'])\n",
    "categ_India_sum = categ_India_max.groupby(['category_name','channel_title','country']).sum()\n",
    "top_cat_India = categ_India_sum .groupby(['category_name','country']).sum().sort_values(by=['max'], ascending=False).nlargest(10, columns = 'max')\n",
    "top_ctg_India = top_cat_India.rename(columns={'max':'max_views'})\n",
    "#top_ctg_India"
   ]
  },
  {
   "cell_type": "code",
   "execution_count": 35,
   "metadata": {},
   "outputs": [],
   "source": [
    "categ_Germany = Master_df[Master_df.country == 'Germany'][['category_name','channel_title','title','views','country','trending_date']].groupby(['category_name','channel_title','title','country','trending_date']).sum()\n",
    "categ_Germany_max = categ_Germany.groupby(['category_name','channel_title','title','country'])['views'].agg(['max'])\n",
    "categ_Germany_sum = categ_Germany_max.groupby(['category_name','channel_title','country']).sum()\n",
    "top_cat_Germany = categ_Germany_sum .groupby(['category_name','country']).sum().sort_values(by=['max'], ascending=False).nlargest(10, columns = 'max')\n",
    "top_ctg_Germany = top_cat_Germany.rename(columns={'max':'max_views'})\n",
    "#top_ctg_Germany"
   ]
  },
  {
   "cell_type": "code",
   "execution_count": 36,
   "metadata": {},
   "outputs": [],
   "source": [
    "categ_US = Master_df[Master_df.country == 'United States'][['category_name','channel_title','title','views','country','trending_date']].groupby(['category_name','channel_title','title','country','trending_date']).sum()\n",
    "categ_US_max = categ_US.groupby(['category_name','channel_title','title','country'])['views'].agg(['max'])\n",
    "categ_US_sum = categ_US_max.groupby(['category_name','channel_title','country']).sum()\n",
    "top_cat_US = categ_US_sum .groupby(['category_name','country']).sum().sort_values(by=['max'], ascending=False).nlargest(10, columns = 'max')\n",
    "top_ctg_US = top_cat_US.rename(columns={'max':'max_views'})\n",
    "#top_ctg_US"
   ]
  },
  {
   "cell_type": "code",
   "execution_count": 37,
   "metadata": {},
   "outputs": [],
   "source": [
    "categ_France = Master_df[Master_df.country == 'France'][['category_name','channel_title','title','views','country','trending_date']].groupby(['category_name','channel_title','title','country','trending_date']).sum()\n",
    "categ_France_max = categ_France.groupby(['category_name','channel_title','title','country'])['views'].agg(['max'])\n",
    "categ_France_sum = categ_France_max.groupby(['category_name','channel_title','country']).sum()\n",
    "top_cat_France = categ_France_sum .groupby(['category_name','country']).sum().sort_values(by=['max'], ascending=False).nlargest(10, columns = 'max')\n",
    "top_ctg_France = top_cat_France.rename(columns={'max':'max_views'})\n",
    "#top_ctg_France"
   ]
  },
  {
   "cell_type": "code",
   "execution_count": 38,
   "metadata": {},
   "outputs": [],
   "source": [
    "categ_Canada = Master_df[Master_df.country == 'Canada'][['category_name','channel_title','title','views','country','trending_date']].groupby(['category_name','channel_title','title','country','trending_date']).sum()\n",
    "categ_Canada_max = categ_Canada.groupby(['category_name','channel_title','title','country'])['views'].agg(['max'])\n",
    "categ_Canada_sum = categ_Canada_max.groupby(['category_name','channel_title','country']).sum()\n",
    "top_cat_Canada = categ_Canada_sum .groupby(['category_name','country']).sum().sort_values(by=['max'], ascending=False).nlargest(10, columns = 'max')\n",
    "top_ctg_Canada = top_cat_Canada.rename(columns={'max':'max_views'})\n",
    "#top_ctg_Canada "
   ]
  },
  {
   "cell_type": "code",
   "execution_count": 40,
   "metadata": {},
   "outputs": [],
   "source": [
    "top_ctgs = pd.concat([top_ctg_France, top_ctg_Canada ,top_ctg_US,top_ctg_Germany,top_ctg_India,top_ctg_SK,top_ctg_Mexico,top_ctg_Russia ,top_ctg_Japan ,top_ctg_GB ])\n",
    "#top_ctgs"
   ]
  },
  {
   "cell_type": "code",
   "execution_count": 41,
   "metadata": {},
   "outputs": [],
   "source": [
    "#top_ctgs.to_csv(r'top_ctgs.csv')"
   ]
  },
  {
   "cell_type": "code",
   "execution_count": 43,
   "metadata": {},
   "outputs": [],
   "source": [
    "all_ctgs_GB = Master_df[Master_df.country == 'Great Britain'][['category_name','channel_title','title','views', 'likes', 'dislikes','country','trending_date']].groupby(['category_name','channel_title','title','country','trending_date']).sum()\n",
    "all_ctgs_GB.head(35)\n",
    "GB_agg_all_ctgs = all_ctgs_GB.groupby(['category_name','channel_title','title','country']).agg(['max'])#.rename(columns={'views': 'max_views', 'likes': 'max_likes', 'dislikes': 'max_dislikes' })\n",
    "pretotal_ctgs_GB = GB_agg_all_ctgs.groupby(['category_name','channel_title','country']).sum()\n",
    "#pretotal_ctgs_GB"
   ]
  },
  {
   "cell_type": "code",
   "execution_count": 45,
   "metadata": {},
   "outputs": [],
   "source": [
    "all_ctgs_Canada = Master_df[Master_df.country == 'Canada'][['category_name','channel_title','title','views', 'likes', 'dislikes','country','trending_date']].groupby(['category_name','channel_title','title','country','trending_date']).sum()\n",
    "all_ctgs_Canada.head(35)\n",
    "Canada_agg_all_ctgs = all_ctgs_Canada.groupby(['category_name','channel_title','title','country']).agg(['max'])#.rename(columns={'views': 'max_views', 'likes': 'max_likes', 'dislikes': 'max_dislikes' })\n",
    "pretotal_ctgs_Canada = Canada_agg_all_ctgs.groupby(['category_name','channel_title','country']).sum()\n",
    "#pretotal_ctgs_Canada"
   ]
  },
  {
   "cell_type": "code",
   "execution_count": 47,
   "metadata": {},
   "outputs": [],
   "source": [
    "all_ctgs_France = Master_df[Master_df.country == 'France'][['category_name','channel_title','title','views', 'likes', 'dislikes','country','trending_date']].groupby(['category_name','channel_title','title','country','trending_date']).sum()\n",
    "all_ctgs_France.head(35)\n",
    "France_agg_all_ctgs = all_ctgs_France.groupby(['category_name','channel_title','title','country']).agg(['max'])#.rename(columns={'views': 'max_views', 'likes': 'max_likes', 'dislikes': 'max_dislikes' })\n",
    "pretotal_ctgs_France = France_agg_all_ctgs.groupby(['category_name','channel_title','country']).sum()\n",
    "#pretotal_ctgs_France"
   ]
  },
  {
   "cell_type": "code",
   "execution_count": 48,
   "metadata": {},
   "outputs": [],
   "source": [
    "all_ctgs_US = Master_df[Master_df.country == 'United States'][['category_name','channel_title','title','views', 'likes', 'dislikes','country','trending_date']].groupby(['category_name','channel_title','title','country','trending_date']).sum()\n",
    "all_ctgs_US.head(35)\n",
    "US_agg_all_ctgs = all_ctgs_US.groupby(['category_name','channel_title','title','country']).agg(['max'])#.rename(columns={'views': 'max_views', 'likes': 'max_likes', 'dislikes': 'max_dislikes' })\n",
    "pretotal_ctgs_US = US_agg_all_ctgs.groupby(['category_name','channel_title','country']).sum()\n",
    "#pretotal_ctgs_US"
   ]
  },
  {
   "cell_type": "code",
   "execution_count": 49,
   "metadata": {},
   "outputs": [],
   "source": [
    "all_ctgs_Germany = Master_df[Master_df.country == 'Germany'][['category_name','channel_title','title','views', 'likes', 'dislikes','country','trending_date']].groupby(['category_name','channel_title','title','country','trending_date']).sum()\n",
    "all_ctgs_Germany.head(35)\n",
    "Germany_agg_all_ctgs = all_ctgs_Germany.groupby(['category_name','channel_title','title','country']).agg(['max'])#.rename(columns={'views': 'max_views', 'likes': 'max_likes', 'dislikes': 'max_dislikes' })\n",
    "pretotal_ctgs_Germany = Germany_agg_all_ctgs.groupby(['category_name','channel_title','country']).sum()\n",
    "#pretotal_ctgs_Germany"
   ]
  },
  {
   "cell_type": "code",
   "execution_count": 51,
   "metadata": {},
   "outputs": [],
   "source": [
    "all_ctgs_India = Master_df[Master_df.country == 'India'][['category_name','channel_title','title','views', 'likes', 'dislikes','country','trending_date']].groupby(['category_name','channel_title','title','country','trending_date']).sum()\n",
    "all_ctgs_India.head(35)\n",
    "India_agg_all_ctgs = all_ctgs_India.groupby(['category_name','channel_title','title','country']).agg(['max'])#.rename(columns={'views': 'max_views', 'likes': 'max_likes', 'dislikes': 'max_dislikes' })\n",
    "pretotal_ctgs_India = India_agg_all_ctgs.groupby(['category_name','channel_title','country']).sum()\n",
    "#pretotal_ctgs_India"
   ]
  },
  {
   "cell_type": "code",
   "execution_count": 52,
   "metadata": {},
   "outputs": [],
   "source": [
    "all_ctgs_SK = Master_df[Master_df.country == 'South Korea'][['category_name','channel_title','title','views', 'likes', 'dislikes','country','trending_date']].groupby(['category_name','channel_title','title','country','trending_date']).sum()\n",
    "all_ctgs_SK.head(35)\n",
    "SK_agg_all_ctgs = all_ctgs_SK.groupby(['category_name','channel_title','title','country']).agg(['max'])#.rename(columns={'views': 'max_views', 'likes': 'max_likes', 'dislikes': 'max_dislikes' })\n",
    "pretotal_ctgs_SK = SK_agg_all_ctgs.groupby(['category_name','channel_title','country']).sum()\n",
    "#pretotal_ctgs_SK"
   ]
  },
  {
   "cell_type": "code",
   "execution_count": 53,
   "metadata": {},
   "outputs": [],
   "source": [
    "all_ctgs_Mexico = Master_df[Master_df.country == 'Mexico'][['category_name','channel_title','title','views', 'likes', 'dislikes','country','trending_date']].groupby(['category_name','channel_title','title','country','trending_date']).sum()\n",
    "all_ctgs_Mexico.head(35)\n",
    "Mexico_agg_all_ctgs = all_ctgs_Mexico.groupby(['category_name','channel_title','title','country']).agg(['max'])#.rename(columns={'views': 'max_views', 'likes': 'max_likes', 'dislikes': 'max_dislikes' })\n",
    "pretotal_ctgs_Mexico = Mexico_agg_all_ctgs.groupby(['category_name','channel_title','country']).sum()\n",
    "#pretotal_ctgs_Mexico"
   ]
  },
  {
   "cell_type": "code",
   "execution_count": 54,
   "metadata": {},
   "outputs": [],
   "source": [
    "all_ctgs_Russia = Master_df[Master_df.country == 'Russia'][['category_name','channel_title','title','views', 'likes', 'dislikes','country','trending_date']].groupby(['category_name','channel_title','title','country','trending_date']).sum()\n",
    "all_ctgs_Russia.head(35)\n",
    "Russia_agg_all_ctgs = all_ctgs_Russia.groupby(['category_name','channel_title','title','country']).agg(['max'])#.rename(columns={'views': 'max_views', 'likes': 'max_likes', 'dislikes': 'max_dislikes' })\n",
    "pretotal_ctgs_Russia = Russia_agg_all_ctgs.groupby(['category_name','channel_title','country']).sum()\n",
    "#pretotal_ctgs_Russia"
   ]
  },
  {
   "cell_type": "code",
   "execution_count": 55,
   "metadata": {},
   "outputs": [],
   "source": [
    "all_ctgs_Japan = Master_df[Master_df.country == 'Japan'][['category_name','channel_title','title','views', 'likes', 'dislikes','country','trending_date']].groupby(['category_name','channel_title','title','country','trending_date']).sum()\n",
    "all_ctgs_Japan.head(35)\n",
    "Japan_agg_all_ctgs = all_ctgs_Japan.groupby(['category_name','channel_title','title','country']).agg(['max'])#.rename(columns={'views': 'max_views', 'likes': 'max_likes', 'dislikes': 'max_dislikes' })\n",
    "pretotal_ctgs_Japan = Japan_agg_all_ctgs.groupby(['category_name','channel_title','country']).sum()\n",
    "#pretotal_ctgs_Japan"
   ]
  },
  {
   "cell_type": "code",
   "execution_count": 57,
   "metadata": {},
   "outputs": [],
   "source": [
    "DF_AGG = pd.concat([pretotal_ctgs_Japan,pretotal_ctgs_SK,pretotal_ctgs_India,pretotal_ctgs_GB,pretotal_ctgs_Germany,pretotal_ctgs_US,pretotal_ctgs_France,pretotal_ctgs_Russia,pretotal_ctgs_Canada,pretotal_ctgs_Mexico])\n",
    "#DF_AGG"
   ]
  },
  {
   "cell_type": "code",
   "execution_count": 58,
   "metadata": {},
   "outputs": [],
   "source": [
    "#DF_AGG.to_csv(r'DF_AGG.csv')"
   ]
  }
 ],
 "metadata": {
  "kernelspec": {
   "display_name": "Python 3",
   "language": "python",
   "name": "python3"
  },
  "language_info": {
   "codemirror_mode": {
    "name": "ipython",
    "version": 3
   },
   "file_extension": ".py",
   "mimetype": "text/x-python",
   "name": "python",
   "nbconvert_exporter": "python",
   "pygments_lexer": "ipython3",
   "version": "3.7.7"
  }
 },
 "nbformat": 4,
 "nbformat_minor": 4
}
